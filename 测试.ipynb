{
 "cells": [
  {
   "cell_type": "code",
   "execution_count": 18,
   "metadata": {},
   "outputs": [
    {
     "name": "stdout",
     "output_type": "stream",
     "text": [
      "成都\n",
      "cd.fang.com\n",
      "mongo\n",
      "cd.newhouse.fang.com\n",
      "3\n",
      "house\n",
      "北京\n",
      "newhouse.fang.com\n",
      "mysql\n",
      "\n",
      "3\n",
      "esf\n"
     ]
    }
   ],
   "source": [
    "class house(object):\n",
    "    def __init__(self, city, url, write, host):\n",
    "        self.city = city\n",
    "        self.url = url\n",
    "        self.write = write\n",
    "        self.host = host\n",
    "        self.num = 3\n",
    "        self.type = None\n",
    "    def print_content(self):\n",
    "        print(self.city)\n",
    "        print(self.url)\n",
    "        print(self.write)\n",
    "        print(self.host)\n",
    "        print(self.num)\n",
    "        print(self.type)\n",
    "\n",
    "class new_house(house):\n",
    "    def __init__(self, city, url, write, host):\n",
    "        #self.q = 1\n",
    "        super().__init__(city, url, write, host)\n",
    "        self.type = 'house'\n",
    "        \n",
    "class esf_house(house):\n",
    "    def __init__(self, city, url, write, host):\n",
    "        super().__init__(city, url, write, host)\n",
    "        self.type = 'esf'\n",
    "hose = new_house('成都', \"cd.fang.com\", 'mongo', 'cd.newhouse.fang.com')\n",
    "hose.print_content()\n",
    "hose2 = esf_house('北京', \"newhouse.fang.com\", 'mysql', '')\n",
    "hose2.print_content()"
   ]
  },
  {
   "cell_type": "code",
   "execution_count": 17,
   "metadata": {},
   "outputs": [
    {
     "name": "stdout",
     "output_type": "stream",
     "text": [
      "//yajulehuayuancd.fang.com/?from=xflist_xfgg\n",
      "//jinyuebeifuxxw.fang.com/\n",
      "//zhongtiechengwj.fang.com/\n",
      "//youshanxiyue.fang.com/\n",
      "//changdaoguojishequlg.fang.com/\n",
      "//hepanxinshijie.fang.com/\n",
      "//huxindaobl.fang.com/\n",
      "//jiuquefurc.fang.com/\n",
      "//binjiangyuefu.fang.com/\n",
      "//yuelandaojd.fang.com/\n",
      "//weilaichenghd028.fang.com/\n",
      "//jinxiushangjunhx.fang.com/\n",
      "//933104.fang.com/\n",
      "//160018.fang.com/\n",
      "//160598.fang.com/\n",
      "//konggangluhao.fang.com/\n",
      "//tonghangdashagt.fang.com/\n",
      "//tmaxlg.fang.com/\n",
      "//zhonghuanyihao028.fang.com/\n",
      "//d10tianfuxxw.fang.com/\n"
     ]
    }
   ],
   "source": [
    "import requests\n",
    "from lxml import etree\n",
    "url = \"http://cd.newhouse.fang.com/house/s/\"\n",
    "try:\n",
    "    response = requests.get(url)\n",
    "    if response.status_code == 200:\n",
    "        html = response.content.decode('GBK', 'ignore')\n",
    "        content = etree.HTML(html)\n",
    "        hrefs = content.xpath('//div[@class=\"nlcd_name\"]/a/@href')\n",
    "        for href in hrefs:\n",
    "            print(href)\n",
    "except Exception as e:\n",
    "    print(e.args)"
   ]
  }
 ],
 "metadata": {
  "kernelspec": {
   "display_name": "Python 3",
   "language": "python",
   "name": "python3"
  },
  "language_info": {
   "codemirror_mode": {
    "name": "ipython",
    "version": 3
   },
   "file_extension": ".py",
   "mimetype": "text/x-python",
   "name": "python",
   "nbconvert_exporter": "python",
   "pygments_lexer": "ipython3",
   "version": "3.6.3"
  }
 },
 "nbformat": 4,
 "nbformat_minor": 2
}
