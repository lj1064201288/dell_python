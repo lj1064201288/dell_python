{
 "cells": [
  {
   "cell_type": "code",
   "execution_count": 4,
   "metadata": {},
   "outputs": [
    {
     "name": "stdout",
     "output_type": "stream",
     "text": [
      "* * * * * \n",
      "* * * * * \n",
      "* * * * * \n",
      "* * * * * \n",
      "**************************************************\n",
      "* * * * * \n",
      "*       * \n",
      "*       * \n",
      "* * * * * \n"
     ]
    }
   ],
   "source": [
    "# 打印出一个矩形\n",
    "# 控制行\n",
    "for i in range(1,5):\n",
    "    # 控制列\n",
    "    for j in range(1,6):\n",
    "        print('*', end=' ')\n",
    "    # 当第i行的５列输出完成后进行换行\n",
    "    print()\n",
    "print(\"*\" * 50)\n",
    "\n",
    "# 打印空心矩形\n",
    "for i in range(1,5):\n",
    "    for j in range(1,6):\n",
    "        if i==1 or i==4 or j==1 or j==5:\n",
    "            print(\"*\", end=\" \")\n",
    "        else:\n",
    "            print(\" \", end=\" \")\n",
    "    print()\n",
    "            "
   ]
  },
  {
   "cell_type": "code",
   "execution_count": 22,
   "metadata": {},
   "outputs": [
    {
     "name": "stdout",
     "output_type": "stream",
     "text": [
      "* \n",
      "* * \n",
      "* * * \n",
      "* * * * \n",
      "* * * * * \n",
      "******************************\n",
      "* \n",
      "* * \n",
      "*   * \n",
      "*     * \n",
      "* * * * * \n"
     ]
    }
   ],
   "source": [
    "# 打印直角三角形\n",
    "# 控制行\n",
    "for i in range(0,5):\n",
    "    # 控制列，　规则是第一行一列,第二行是二列\n",
    "    for j in range(4-i,5):\n",
    "        print('*', end=\" \")\n",
    "    print()\n",
    "print(\"*\" * 30)\n",
    "\n",
    "#　打印空心三角形\n",
    "for i in range(0,5):\n",
    "    for j in range(4-i,5):\n",
    "        if i==0 or j==4 or i==4 or j==4-i:\n",
    "            print(\"*\", end=\" \")\n",
    "            continue\n",
    "        else:\n",
    "            print(\" \", end=\" \")\n",
    "    print()"
   ]
  },
  {
   "cell_type": "code",
   "execution_count": 55,
   "metadata": {},
   "outputs": [
    {
     "name": "stdout",
     "output_type": "stream",
     "text": [
      "* * * * * \n",
      "* * * * \n",
      "* * * \n",
      "* * \n",
      "* \n",
      "******************************\n",
      "* * * * * \n",
      "*     * \n",
      "*   * \n",
      "* * \n",
      "* \n"
     ]
    }
   ],
   "source": [
    "# 控制行\n",
    "for i in range(0,5):\n",
    "    #　控制列,规则是第一行五列,第二行是第四列i=1,j的范围6,i=2,j=5\n",
    "    for j in range(0,5-i):\n",
    "        print(\"*\", end=\" \")\n",
    "    print()\n",
    "print(\"*\" * 30)\n",
    "\n",
    "# 打印空心倒三角\n",
    "for i in range(0,5):\n",
    "    for j in range(0,5-i):\n",
    "        if i==0 or j==0 or j==5-i-1:\n",
    "            print(\"*\", end=\" \")\n",
    "        else:\n",
    "            print(\" \", end=\" \")\n",
    "            \n",
    "    print()"
   ]
  },
  {
   "cell_type": "code",
   "execution_count": 61,
   "metadata": {},
   "outputs": [
    {
     "name": "stdout",
     "output_type": "stream",
     "text": [
      "     * \n",
      "    * * \n",
      "   * * * \n",
      "  * * * * \n",
      " * * * * * \n",
      "******************************\n",
      "     * \n",
      "    * * \n",
      "   *   * \n",
      "  *     * \n",
      " * * * * * \n"
     ]
    }
   ],
   "source": [
    "# 打印等腰三角形\n",
    "for i in range(5):\n",
    "    #　更改打印的起始位置\n",
    "    for j in range(5-i):\n",
    "        print(end=\" \")\n",
    "    # 控制列,规则是第一行一列,第二行二列\n",
    "    for k in range(4-i,5):\n",
    "        print(\"*\", end=\" \")\n",
    "    print()\n",
    "print(\"*\" * 30)\n",
    "\n",
    "# 打印空心等腰三角形\n",
    "for i in range(5):\n",
    "    for j in range(5-i):\n",
    "        print(end=\" \")\n",
    "    for k in range(4-i,5):\n",
    "        if i==4 or k==4 or k==4-i:\n",
    "            print(\"*\", end=\" \")\n",
    "        else:\n",
    "            print(\" \", end=\" \")\n",
    "    print()"
   ]
  },
  {
   "cell_type": "code",
   "execution_count": 18,
   "metadata": {},
   "outputs": [
    {
     "name": "stdout",
     "output_type": "stream",
     "text": [
      "     * \n",
      "    * * \n",
      "   * * * \n",
      "  * * * * \n",
      " * * * * * \n"
     ]
    }
   ],
   "source": [
    "# 打印出等等腰三角形\n",
    "for i in range(5):\n",
    "    for j in range(5-i):\n",
    "        print(\" \", end=\"\")\n",
    "    for k in range(4-i,5):\n",
    "            print(\"*\", end=\" \")\n",
    "    print()"
   ]
  },
  {
   "cell_type": "code",
   "execution_count": 7,
   "metadata": {},
   "outputs": [
    {
     "name": "stdout",
     "output_type": "stream",
     "text": [
      "     * \n",
      "    * * \n",
      "   *   * \n",
      "  *     * \n",
      " * * * * * \n"
     ]
    }
   ],
   "source": [
    "# 打印字母A\n",
    "# 控制行\n",
    "for i in range(5):\n",
    "    # 更改打印的位置\n",
    "    for j in range(5-i):\n",
    "        print(end=\" \")\n",
    "    # 控制列,规则是第一行一列,第二行是第二列\n",
    "    for k in range(4-i,5):\n",
    "        if i==4 or k==4 or k==4-i:\n",
    "            print('*', end=\" \")\n",
    "        else:\n",
    "            print(' ', end=\" \")\n",
    "    print()\n"
   ]
  },
  {
   "cell_type": "code",
   "execution_count": 97,
   "metadata": {},
   "outputs": [
    {
     "name": "stdout",
     "output_type": "stream",
     "text": [
      "    * \n",
      "   * * \n",
      "  * * * \n",
      " * * * * \n",
      "* * * * * \n",
      " * * * * \n",
      "  * * * \n",
      "   * * \n",
      "    * \n",
      "    * \n",
      "   * * \n",
      "  *   * \n",
      " *     * \n",
      "*       * \n",
      " *     * \n",
      "  *   * \n",
      "   * * \n",
      "    * \n"
     ]
    }
   ],
   "source": [
    "# 打印实心菱形\n",
    "# 分析:先打印一个实心三角形,然后在打印一个实心倒三角\n",
    "#　控制行\n",
    "for i in range(5):\n",
    "    for j in range(4-i):\n",
    "        print(\" \", end=\"\")\n",
    "    for k in range(4-i,5):\n",
    "            print(\"*\", end=\" \")\n",
    "    print()\n",
    "for i in range(4):\n",
    "    for j in range(i+1):\n",
    "        print(\" \",end=\"\")\n",
    "    for k in range(4-i):\n",
    "        print(\"*\", end=\" \")\n",
    "    print()\n",
    "    \n",
    "# 打印空心菱形\n",
    "# 分析:先打印一个空心无底的三角形,在打印一个空心无顶的倒空心三角\n",
    "# 控制行\n",
    "for i in range(5):\n",
    "    for j in range(4-i):\n",
    "        print(end=\" \")\n",
    "    for k in range(4-i,5):\n",
    "        if k==4-i or k==4:\n",
    "            print(\"*\", end=\" \")\n",
    "        else:\n",
    "            print(\" \", end=\" \")\n",
    "    print()\n",
    "    \n",
    "for i in range(4):\n",
    "    for j in range(i+1):\n",
    "        print(\" \", end=\"\")\n",
    "    for k in range(4-i):\n",
    "        if i==3 or k==0 or k==3-i:\n",
    "            print(\"*\", end=\" \")\n",
    "        else:\n",
    "            print(\" \", end=\" \")\n",
    "    print()\n",
    "            "
   ]
  },
  {
   "cell_type": "code",
   "execution_count": 119,
   "metadata": {},
   "outputs": [
    {
     "name": "stdout",
     "output_type": "stream",
     "text": [
      "请输入你需要的图形(-1退出):-1\n"
     ]
    }
   ],
   "source": [
    "while True:\n",
    "    # 实心矩形\n",
    "    def s_jx():\n",
    "        # 控制行\n",
    "        for i in range(4):\n",
    "            for j in range(5):\n",
    "                print(\"*\", end=\" \")\n",
    "            print()\n",
    "    \n",
    "    def k_jx():\n",
    "        #　控制行\n",
    "        for i in range(4):\n",
    "            for j in range(5):\n",
    "                if i==0 or j==0 or j==4 or i==3:\n",
    "                    print(\"*\", end=\" \")\n",
    "                else:\n",
    "                    print(\" \", end=\" \")\n",
    "            print()\n",
    "        \n",
    "    def s_sjx():\n",
    "        for i in range(5):\n",
    "            for  j in range(5-i):\n",
    "                print(\"*\", end=\" \")\n",
    "            print()\n",
    "            \n",
    "    def k_sjx():\n",
    "        for i in range(5):\n",
    "            for j in range(5-i):\n",
    "                if i==0 or j==0 or j==4-i:\n",
    "                    print(\"*\", end=\" \")\n",
    "                else:\n",
    "                    print(\" \", end=\" \")\n",
    "            print()\n",
    "    \n",
    "    shape = input('请输入你需要的图形(-1退出):')\n",
    "    \n",
    "    #try:\n",
    "    if shape == \"-1\":\n",
    "        break\n",
    "    elif shape == \"实心等腰三角形\":\n",
    "        s_sjx()\n",
    "    elif shape == \"实心矩形\":\n",
    "        s_jx()\n",
    "    elif shape == \"空心矩形\":\n",
    "        k_jx()\n",
    "    elif shape == \"空心等腰三角形\":\n",
    "        k_sjx()\n",
    "    #except Exception:\n",
    "    #print(\"你输入的不正确,请重新输入!\")\n",
    "        "
   ]
  },
  {
   "cell_type": "code",
   "execution_count": null,
   "metadata": {
    "collapsed": true
   },
   "outputs": [],
   "source": []
  }
 ],
 "metadata": {
  "kernelspec": {
   "display_name": "Python 3",
   "language": "python",
   "name": "python3"
  },
  "language_info": {
   "codemirror_mode": {
    "name": "ipython",
    "version": 3
   },
   "file_extension": ".py",
   "mimetype": "text/x-python",
   "name": "python",
   "nbconvert_exporter": "python",
   "pygments_lexer": "ipython3",
   "version": "3.6.3"
  }
 },
 "nbformat": 4,
 "nbformat_minor": 2
}
