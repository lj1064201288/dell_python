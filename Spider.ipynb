{
 "cells": [
  {
   "cell_type": "markdown",
   "metadata": {
    "collapsed": true
   },
   "source": [
    "# 解析链接\n",
    "- url 库里面提供了parse模块,它定义了处理URL的标准接口,例如实现url各部分的抽取,合并以及链接装换,它支持如下协议的URL处理:\n",
    "     - file, ftp, gopher, hdl, http, https, imap, mailto, mms, news, nntp, prospero, rsync. rtsp, rstpu, sftp, sip, sips, snews, svn, svn+ssh, telnct, wais."
   ]
  },
  {
   "cell_type": "code",
   "execution_count": 3,
   "metadata": {},
   "outputs": [
    {
     "name": "stdout",
     "output_type": "stream",
     "text": [
      "<class 'urllib.parse.ParseResult'> ParseResult(scheme='http', netloc='www.baidu.com', path='/index.html', params='user', query='id=commet', fragment='')\n"
     ]
    }
   ],
   "source": [
    "# urlparse():该方法用于实现URL的识别和分段\n",
    "from urllib.parse import urlparse\n",
    "\n",
    "result = urlparse('http://www.baidu.com/index.html;user?id=commet')\n",
    "print(type(result), result)\n",
    "\n",
    "# 说明: urlparse():该方法中有三个参数, \n",
    "# 第一个url是必填参数url\n",
    "# 第二个scheme是指协议:如果没有指定,将会默认为https，scheme只有在url没有设置协议时生效,如果url当中有协议,则失效\n",
    "# 第三个allow_fragments:是否忽略framents,设置bool值(即True, False)"
   ]
  },
  {
   "cell_type": "code",
   "execution_count": 3,
   "metadata": {},
   "outputs": [
    {
     "name": "stdout",
     "output_type": "stream",
     "text": [
      "http://www.baidu.com/index.html;user?a=6#comment\n"
     ]
    }
   ],
   "source": [
    "# urlunparse(): 它接受的参数是一个可迭代的对象，但是它的长度必须是６，否则会抛出参数数量不足或者过多的问题\n",
    "from urllib.parse import urlunparse\n",
    "data = ['http', 'www.baidu.com', 'index.html', 'user', 'a=6', 'comment']\n",
    "print(urlunparse(data))\n",
    "# 注意: 这里可以选择也其他选择其他类型,比如元组或者特定的数据结构"
   ]
  },
  {
   "cell_type": "code",
   "execution_count": 8,
   "metadata": {},
   "outputs": [
    {
     "name": "stdout",
     "output_type": "stream",
     "text": [
      "SplitResult(scheme='http', netloc='www.baidu.com', path='/index.html;user', query='id=5', fragment='comment')\n",
      "http http\n"
     ]
    }
   ],
   "source": [
    "# urlsplit(): 这个方法和urlparse()方法非常相似,只不过不在单独解析params这一部分,只返回5个结果\n",
    "from urllib.parse import urlsplit\n",
    "\n",
    "result = urlsplit('http://www.baidu.com/index.html;user?id=5#comment')\n",
    "print(result)\n",
    "# 他其实也是一个元组类型,既可以用属性获取值,也可以用索引来获取\n",
    "print(result.scheme, result[0])\n"
   ]
  },
  {
   "cell_type": "code",
   "execution_count": 11,
   "metadata": {},
   "outputs": [
    {
     "name": "stdout",
     "output_type": "stream",
     "text": [
      "http://www.baidu.com/index.html?a=6#comment\n"
     ]
    }
   ],
   "source": [
    "# urlunsplit(): 他也是将链接各个部分组成完整链接的方法,传入的参数也是一个可迭代对象\n",
    "from urllib.parse import urlunsplit\n",
    "\n",
    "data = ['http', 'www.baidu.com', 'index.html', 'a=6', 'comment']\n",
    "print(urlunsplit(data))"
   ]
  },
  {
   "cell_type": "code",
   "execution_count": 13,
   "metadata": {},
   "outputs": [
    {
     "name": "stdout",
     "output_type": "stream",
     "text": [
      "http://www.baidu.com/FAQ.html\n"
     ]
    }
   ],
   "source": [
    "# urljoin(): 生成链接还有另一个方法,那就是urljoin()方法\n",
    "from urllib.parse import urljoin\n",
    "\n",
    "print(urljoin('http://www.baidu.com', 'FAQ.html'))"
   ]
  },
  {
   "cell_type": "code",
   "execution_count": 16,
   "metadata": {},
   "outputs": [
    {
     "name": "stdout",
     "output_type": "stream",
     "text": [
      "http://www.baidu.com?name=germey&age=22\n"
     ]
    }
   ],
   "source": [
    "# urlencode(): 它在构造GET请求参数的时候非常有用\n",
    "from urllib.parse import urlencode\n",
    "\n",
    "params = {\n",
    "    'name': 'germey',\n",
    "    'age': 22\n",
    "}\n",
    "\n",
    "base_url = 'http://www.baidu.com?'\n",
    "url = base_url + urlencode(params)\n",
    "print(url)\n",
    "# 这个方法非常常用.有时为了更加方便的构造参数,事先用字典来表示"
   ]
  },
  {
   "cell_type": "code",
   "execution_count": 18,
   "metadata": {},
   "outputs": [
    {
     "name": "stdout",
     "output_type": "stream",
     "text": [
      "{'name': ['germey'], 'age': ['22']}\n"
     ]
    }
   ],
   "source": [
    "# parse_qs():如果我们有一串GET请求参数,利用parse_qs()方法,就可以将他转回字典\n",
    "from urllib.parse import parse_qs\n",
    "\n",
    "query = 'name=germey&age=22'\n",
    "print(parse_qs(query))"
   ]
  },
  {
   "cell_type": "code",
   "execution_count": 20,
   "metadata": {},
   "outputs": [
    {
     "name": "stdout",
     "output_type": "stream",
     "text": [
      "[('name', 'germey'), ('age', '22')]\n"
     ]
    }
   ],
   "source": [
    "# parse_qsl(): 将参数转化为元组组成的列表\n",
    "from urllib.parse import parse_qsl\n",
    "\n",
    "query = 'name=germey&age=22'\n",
    "print(parse_qsl(query))\n"
   ]
  },
  {
   "cell_type": "code",
   "execution_count": 22,
   "metadata": {},
   "outputs": [
    {
     "name": "stdout",
     "output_type": "stream",
     "text": [
      "https://www.baidu.com/s?wd=%E5%A3%81%E7%BA%B8\n"
     ]
    }
   ],
   "source": [
    "# quote(): 该方法转化为URL编码的格式\n",
    "from urllib.parse import quote\n",
    "\n",
    "keyword = '壁纸'\n",
    "url = 'https://www.baidu.com/s?wd=' + quote(keyword)\n",
    "print(url)\n"
   ]
  },
  {
   "cell_type": "code",
   "execution_count": 29,
   "metadata": {},
   "outputs": [
    {
     "name": "stdout",
     "output_type": "stream",
     "text": [
      "https://www.baidu.com/s?wd=壁纸\n"
     ]
    }
   ],
   "source": [
    "# unquote(): 他可以对URL编码的格式转化成中文\n",
    "from urllib.parse import unquote\n",
    "\n",
    "url = 'https://www.baidu.com/s?wd=%E5%A3%81%E7%BA%B8'\n",
    "print(unquote(url))"
   ]
  },
  {
   "cell_type": "markdown",
   "metadata": {},
   "source": [
    "# Robots协议\n",
    "- Rotos协议也称爬虫协议,机器人协议,他的全面叫做网络爬虫爬出标准,用来告诉爬虫和搜索引擎哪些页面可以抓取,哪些不可以抓取\n",
    "    -　通常是一个叫做robots.txt的文本文件,一般放在网站的根目录下"
   ]
  },
  {
   "cell_type": "markdown",
   "metadata": {},
   "source": [
    "# 使用requests\n",
    "- 我们了解了urllib的基本用法,但是其中确实有不方便的地方,比如处理网页验证和Cookies时,需要写Opener和Handler来处理.\n",
    "- 为了更加方便的实现这些操作,就有了更为强大的库requests,有了它,Cookies,登录验证,代理设置操作都不是事儿\n"
   ]
  },
  {
   "cell_type": "code",
   "execution_count": 33,
   "metadata": {},
   "outputs": [
    {
     "name": "stdout",
     "output_type": "stream",
     "text": [
      "<class 'requests.models.Response'>\n",
      "200\n",
      "<class 'str'>\n",
      "<!DOCTYPE html>\r\n",
      "<!--STATUS OK--><html> <head><meta http-equiv=content-type content=text/html;charset=utf-8><meta http-equiv=X-UA-Compatible content=IE=Edge><meta content=always name=referrer><link rel=stylesheet type=text/css href=https://ss1.bdstatic.com/5eN1bjq8AAUYm2zgoY3K/r/www/cache/bdorz/baidu.min.css><title>ç¾åº¦ä¸ä¸ï¼ä½ å°±ç¥é</title></head> <body link=#0000cc> <div id=wrapper> <div id=head> <div class=head_wrapper> <div class=s_form> <div class=s_form_wrapper> <div id=lg> <img hidefocus=true src=//www.baidu.com/img/bd_logo1.png width=270 height=129> </div> <form id=form name=f action=//www.baidu.com/s class=fm> <input type=hidden name=bdorz_come value=1> <input type=hidden name=ie value=utf-8> <input type=hidden name=f value=8> <input type=hidden name=rsv_bp value=1> <input type=hidden name=rsv_idx value=1> <input type=hidden name=tn value=baidu><span class=\"bg s_ipt_wr\"><input id=kw name=wd class=s_ipt value maxlength=255 autocomplete=off autofocus=autofocus></span><span class=\"bg s_btn_wr\"><input type=submit id=su value=ç¾åº¦ä¸ä¸ class=\"bg s_btn\" autofocus></span> </form> </div> </div> <div id=u1> <a href=http://news.baidu.com name=tj_trnews class=mnav>æ°é»</a> <a href=https://www.hao123.com name=tj_trhao123 class=mnav>hao123</a> <a href=http://map.baidu.com name=tj_trmap class=mnav>å°å¾</a> <a href=http://v.baidu.com name=tj_trvideo class=mnav>è§é¢</a> <a href=http://tieba.baidu.com name=tj_trtieba class=mnav>è´´å§</a> <noscript> <a href=http://www.baidu.com/bdorz/login.gif?login&amp;tpl=mn&amp;u=http%3A%2F%2Fwww.baidu.com%2f%3fbdorz_come%3d1 name=tj_login class=lb>ç»å½</a> </noscript> <script>document.write('<a href=\"http://www.baidu.com/bdorz/login.gif?login&tpl=mn&u='+ encodeURIComponent(window.location.href+ (window.location.search === \"\" ? \"?\" : \"&\")+ \"bdorz_come=1\")+ '\" name=\"tj_login\" class=\"lb\">ç»å½</a>');\r\n",
      "                </script> <a href=//www.baidu.com/more/ name=tj_briicon class=bri style=\"display: block;\">æ´å¤äº§å</a> </div> </div> </div> <div id=ftCon> <div id=ftConw> <p id=lh> <a href=http://home.baidu.com>å",
      "³äºç¾åº¦</a> <a href=http://ir.baidu.com>About Baidu</a> </p> <p id=cp>&copy;2017&nbsp;Baidu&nbsp;<a href=http://www.baidu.com/duty/>ä½¿ç¨ç¾åº¦åå¿",
      "è¯»</a>&nbsp; <a href=http://jianyi.baidu.com/ class=cp-feedback>æè§åé¦</a>&nbsp;äº¬ICPè¯030173å·&nbsp; <img src=//www.baidu.com/img/gs.gif> </p> </div> </div> </div> </body> </html>\r\n",
      "\n",
      "<RequestsCookieJar[<Cookie BDORZ=27315 for .baidu.com/>]>\n"
     ]
    }
   ],
   "source": [
    "# 基本用法\n",
    "# get()的用法\n",
    "import requests\n",
    "\n",
    "r = requests.get('https://www.baidu.com/')\n",
    "print(type(r))\n",
    "print(r.status_code)\n",
    "print(type(r.text))\n",
    "print(r.text)\n",
    "print(r.cookies)"
   ]
  },
  {
   "cell_type": "code",
   "execution_count": 38,
   "metadata": {},
   "outputs": [
    {
     "name": "stdout",
     "output_type": "stream",
     "text": [
      "{\n",
      "  \"args\": {}, \n",
      "  \"data\": \"\", \n",
      "  \"files\": {}, \n",
      "  \"form\": {}, \n",
      "  \"headers\": {\n",
      "    \"Accept\": \"*/*\", \n",
      "    \"Accept-Encoding\": \"gzip, deflate\", \n",
      "    \"Connection\": \"close\", \n",
      "    \"Content-Length\": \"0\", \n",
      "    \"Host\": \"httpbin.org\", \n",
      "    \"User-Agent\": \"python-requests/2.19.1\"\n",
      "  }, \n",
      "  \"json\": null, \n",
      "  \"origin\": \"117.139.208.11\", \n",
      "  \"url\": \"http://httpbin.org/post\"\n",
      "}\n",
      "\n",
      "\n",
      "{\n",
      "  \"args\": {}, \n",
      "  \"data\": \"\", \n",
      "  \"files\": {}, \n",
      "  \"form\": {}, \n",
      "  \"headers\": {\n",
      "    \"Accept\": \"*/*\", \n",
      "    \"Accept-Encoding\": \"gzip, deflate\", \n",
      "    \"Connection\": \"close\", \n",
      "    \"Content-Length\": \"0\", \n",
      "    \"Host\": \"httpbin.org\", \n",
      "    \"User-Agent\": \"python-requests/2.19.1\"\n",
      "  }, \n",
      "  \"json\": null, \n",
      "  \"origin\": \"117.139.208.11\", \n",
      "  \"url\": \"http://httpbin.org/put\"\n",
      "}\n",
      "\n",
      "{\n",
      "  \"args\": {}, \n",
      "  \"data\": \"\", \n",
      "  \"files\": {}, \n",
      "  \"form\": {}, \n",
      "  \"headers\": {\n",
      "    \"Accept\": \"*/*\", \n",
      "    \"Accept-Encoding\": \"gzip, deflate\", \n",
      "    \"Connection\": \"close\", \n",
      "    \"Content-Length\": \"0\", \n",
      "    \"Host\": \"httpbin.org\", \n",
      "    \"User-Agent\": \"python-requests/2.19.1\"\n",
      "  }, \n",
      "  \"json\": null, \n",
      "  \"origin\": \"117.139.208.11\", \n",
      "  \"url\": \"http://httpbin.org/delete\"\n",
      "}\n",
      "\n"
     ]
    },
    {
     "ename": "KeyboardInterrupt",
     "evalue": "",
     "output_type": "error",
     "traceback": [
      "\u001b[0;31m---------------------------------------------------------------------------\u001b[0m",
      "\u001b[0;31mKeyboardInterrupt\u001b[0m                         Traceback (most recent call last)",
      "\u001b[0;32m<ipython-input-38-ef155e120f9d>\u001b[0m in \u001b[0;36m<module>\u001b[0;34m()\u001b[0m\n\u001b[1;32m      8\u001b[0m \u001b[0mr\u001b[0m \u001b[0;34m=\u001b[0m \u001b[0mrequests\u001b[0m\u001b[0;34m.\u001b[0m\u001b[0mdelete\u001b[0m\u001b[0;34m(\u001b[0m\u001b[0;34m'http://httpbin.org/delete'\u001b[0m\u001b[0;34m)\u001b[0m\u001b[0;34m\u001b[0m\u001b[0m\n\u001b[1;32m      9\u001b[0m \u001b[0mprint\u001b[0m\u001b[0;34m(\u001b[0m\u001b[0mr\u001b[0m\u001b[0;34m.\u001b[0m\u001b[0mtext\u001b[0m\u001b[0;34m)\u001b[0m\u001b[0;34m\u001b[0m\u001b[0m\n\u001b[0;32m---> 10\u001b[0;31m \u001b[0mr\u001b[0m \u001b[0;34m=\u001b[0m \u001b[0mrequests\u001b[0m\u001b[0;34m.\u001b[0m\u001b[0mhead\u001b[0m\u001b[0;34m(\u001b[0m\u001b[0;34m'http://htpbin.org/head'\u001b[0m\u001b[0;34m)\u001b[0m\u001b[0;34m\u001b[0m\u001b[0m\n\u001b[0m\u001b[1;32m     11\u001b[0m \u001b[0mprint\u001b[0m\u001b[0;34m(\u001b[0m\u001b[0mr\u001b[0m\u001b[0;34m.\u001b[0m\u001b[0mtext\u001b[0m\u001b[0;34m)\u001b[0m\u001b[0;34m\u001b[0m\u001b[0m\n",
      "\u001b[0;32m/var/sw/anaconda3/lib/python3.6/site-packages/requests/api.py\u001b[0m in \u001b[0;36mhead\u001b[0;34m(url, **kwargs)\u001b[0m\n\u001b[1;32m     96\u001b[0m \u001b[0;34m\u001b[0m\u001b[0m\n\u001b[1;32m     97\u001b[0m     \u001b[0mkwargs\u001b[0m\u001b[0;34m.\u001b[0m\u001b[0msetdefault\u001b[0m\u001b[0;34m(\u001b[0m\u001b[0;34m'allow_redirects'\u001b[0m\u001b[0;34m,\u001b[0m \u001b[0;32mFalse\u001b[0m\u001b[0;34m)\u001b[0m\u001b[0;34m\u001b[0m\u001b[0m\n\u001b[0;32m---> 98\u001b[0;31m     \u001b[0;32mreturn\u001b[0m \u001b[0mrequest\u001b[0m\u001b[0;34m(\u001b[0m\u001b[0;34m'head'\u001b[0m\u001b[0;34m,\u001b[0m \u001b[0murl\u001b[0m\u001b[0;34m,\u001b[0m \u001b[0;34m**\u001b[0m\u001b[0mkwargs\u001b[0m\u001b[0;34m)\u001b[0m\u001b[0;34m\u001b[0m\u001b[0m\n\u001b[0m\u001b[1;32m     99\u001b[0m \u001b[0;34m\u001b[0m\u001b[0m\n\u001b[1;32m    100\u001b[0m \u001b[0;34m\u001b[0m\u001b[0m\n",
      "\u001b[0;32m/var/sw/anaconda3/lib/python3.6/site-packages/requests/api.py\u001b[0m in \u001b[0;36mrequest\u001b[0;34m(method, url, **kwargs)\u001b[0m\n\u001b[1;32m     56\u001b[0m     \u001b[0;31m# cases, and look like a memory leak in others.\u001b[0m\u001b[0;34m\u001b[0m\u001b[0;34m\u001b[0m\u001b[0m\n\u001b[1;32m     57\u001b[0m     \u001b[0;32mwith\u001b[0m \u001b[0msessions\u001b[0m\u001b[0;34m.\u001b[0m\u001b[0mSession\u001b[0m\u001b[0;34m(\u001b[0m\u001b[0;34m)\u001b[0m \u001b[0;32mas\u001b[0m \u001b[0msession\u001b[0m\u001b[0;34m:\u001b[0m\u001b[0;34m\u001b[0m\u001b[0m\n\u001b[0;32m---> 58\u001b[0;31m         \u001b[0;32mreturn\u001b[0m \u001b[0msession\u001b[0m\u001b[0;34m.\u001b[0m\u001b[0mrequest\u001b[0m\u001b[0;34m(\u001b[0m\u001b[0mmethod\u001b[0m\u001b[0;34m=\u001b[0m\u001b[0mmethod\u001b[0m\u001b[0;34m,\u001b[0m \u001b[0murl\u001b[0m\u001b[0;34m=\u001b[0m\u001b[0murl\u001b[0m\u001b[0;34m,\u001b[0m \u001b[0;34m**\u001b[0m\u001b[0mkwargs\u001b[0m\u001b[0;34m)\u001b[0m\u001b[0;34m\u001b[0m\u001b[0m\n\u001b[0m\u001b[1;32m     59\u001b[0m \u001b[0;34m\u001b[0m\u001b[0m\n\u001b[1;32m     60\u001b[0m \u001b[0;34m\u001b[0m\u001b[0m\n",
      "\u001b[0;32m/var/sw/anaconda3/lib/python3.6/site-packages/requests/sessions.py\u001b[0m in \u001b[0;36mrequest\u001b[0;34m(self, method, url, params, data, headers, cookies, files, auth, timeout, allow_redirects, proxies, hooks, stream, verify, cert, json)\u001b[0m\n\u001b[1;32m    510\u001b[0m         }\n\u001b[1;32m    511\u001b[0m         \u001b[0msend_kwargs\u001b[0m\u001b[0;34m.\u001b[0m\u001b[0mupdate\u001b[0m\u001b[0;34m(\u001b[0m\u001b[0msettings\u001b[0m\u001b[0;34m)\u001b[0m\u001b[0;34m\u001b[0m\u001b[0m\n\u001b[0;32m--> 512\u001b[0;31m         \u001b[0mresp\u001b[0m \u001b[0;34m=\u001b[0m \u001b[0mself\u001b[0m\u001b[0;34m.\u001b[0m\u001b[0msend\u001b[0m\u001b[0;34m(\u001b[0m\u001b[0mprep\u001b[0m\u001b[0;34m,\u001b[0m \u001b[0;34m**\u001b[0m\u001b[0msend_kwargs\u001b[0m\u001b[0;34m)\u001b[0m\u001b[0;34m\u001b[0m\u001b[0m\n\u001b[0m\u001b[1;32m    513\u001b[0m \u001b[0;34m\u001b[0m\u001b[0m\n\u001b[1;32m    514\u001b[0m         \u001b[0;32mreturn\u001b[0m \u001b[0mresp\u001b[0m\u001b[0;34m\u001b[0m\u001b[0m\n",
      "\u001b[0;32m/var/sw/anaconda3/lib/python3.6/site-packages/requests/sessions.py\u001b[0m in \u001b[0;36msend\u001b[0;34m(self, request, **kwargs)\u001b[0m\n\u001b[1;32m    620\u001b[0m \u001b[0;34m\u001b[0m\u001b[0m\n\u001b[1;32m    621\u001b[0m         \u001b[0;31m# Send the request\u001b[0m\u001b[0;34m\u001b[0m\u001b[0;34m\u001b[0m\u001b[0m\n\u001b[0;32m--> 622\u001b[0;31m         \u001b[0mr\u001b[0m \u001b[0;34m=\u001b[0m \u001b[0madapter\u001b[0m\u001b[0;34m.\u001b[0m\u001b[0msend\u001b[0m\u001b[0;34m(\u001b[0m\u001b[0mrequest\u001b[0m\u001b[0;34m,\u001b[0m \u001b[0;34m**\u001b[0m\u001b[0mkwargs\u001b[0m\u001b[0;34m)\u001b[0m\u001b[0;34m\u001b[0m\u001b[0m\n\u001b[0m\u001b[1;32m    623\u001b[0m \u001b[0;34m\u001b[0m\u001b[0m\n\u001b[1;32m    624\u001b[0m         \u001b[0;31m# Total elapsed time of the request (approximately)\u001b[0m\u001b[0;34m\u001b[0m\u001b[0;34m\u001b[0m\u001b[0m\n",
      "\u001b[0;32m/var/sw/anaconda3/lib/python3.6/site-packages/requests/adapters.py\u001b[0m in \u001b[0;36msend\u001b[0;34m(self, request, stream, timeout, verify, cert, proxies)\u001b[0m\n\u001b[1;32m    443\u001b[0m                     \u001b[0mdecode_content\u001b[0m\u001b[0;34m=\u001b[0m\u001b[0;32mFalse\u001b[0m\u001b[0;34m,\u001b[0m\u001b[0;34m\u001b[0m\u001b[0m\n\u001b[1;32m    444\u001b[0m                     \u001b[0mretries\u001b[0m\u001b[0;34m=\u001b[0m\u001b[0mself\u001b[0m\u001b[0;34m.\u001b[0m\u001b[0mmax_retries\u001b[0m\u001b[0;34m,\u001b[0m\u001b[0;34m\u001b[0m\u001b[0m\n\u001b[0;32m--> 445\u001b[0;31m                     \u001b[0mtimeout\u001b[0m\u001b[0;34m=\u001b[0m\u001b[0mtimeout\u001b[0m\u001b[0;34m\u001b[0m\u001b[0m\n\u001b[0m\u001b[1;32m    446\u001b[0m                 )\n\u001b[1;32m    447\u001b[0m \u001b[0;34m\u001b[0m\u001b[0m\n",
      "\u001b[0;32m/var/sw/anaconda3/lib/python3.6/site-packages/urllib3/connectionpool.py\u001b[0m in \u001b[0;36murlopen\u001b[0;34m(self, method, url, body, headers, retries, redirect, assert_same_host, timeout, pool_timeout, release_conn, chunked, body_pos, **response_kw)\u001b[0m\n\u001b[1;32m    599\u001b[0m                                                   \u001b[0mtimeout\u001b[0m\u001b[0;34m=\u001b[0m\u001b[0mtimeout_obj\u001b[0m\u001b[0;34m,\u001b[0m\u001b[0;34m\u001b[0m\u001b[0m\n\u001b[1;32m    600\u001b[0m                                                   \u001b[0mbody\u001b[0m\u001b[0;34m=\u001b[0m\u001b[0mbody\u001b[0m\u001b[0;34m,\u001b[0m \u001b[0mheaders\u001b[0m\u001b[0;34m=\u001b[0m\u001b[0mheaders\u001b[0m\u001b[0;34m,\u001b[0m\u001b[0;34m\u001b[0m\u001b[0m\n\u001b[0;32m--> 601\u001b[0;31m                                                   chunked=chunked)\n\u001b[0m\u001b[1;32m    602\u001b[0m \u001b[0;34m\u001b[0m\u001b[0m\n\u001b[1;32m    603\u001b[0m             \u001b[0;31m# If we're going to release the connection in ``finally:``, then\u001b[0m\u001b[0;34m\u001b[0m\u001b[0;34m\u001b[0m\u001b[0m\n",
      "\u001b[0;32m/var/sw/anaconda3/lib/python3.6/site-packages/urllib3/connectionpool.py\u001b[0m in \u001b[0;36m_make_request\u001b[0;34m(self, conn, method, url, timeout, chunked, **httplib_request_kw)\u001b[0m\n\u001b[1;32m    355\u001b[0m             \u001b[0mconn\u001b[0m\u001b[0;34m.\u001b[0m\u001b[0mrequest_chunked\u001b[0m\u001b[0;34m(\u001b[0m\u001b[0mmethod\u001b[0m\u001b[0;34m,\u001b[0m \u001b[0murl\u001b[0m\u001b[0;34m,\u001b[0m \u001b[0;34m**\u001b[0m\u001b[0mhttplib_request_kw\u001b[0m\u001b[0;34m)\u001b[0m\u001b[0;34m\u001b[0m\u001b[0m\n\u001b[1;32m    356\u001b[0m         \u001b[0;32melse\u001b[0m\u001b[0;34m:\u001b[0m\u001b[0;34m\u001b[0m\u001b[0m\n\u001b[0;32m--> 357\u001b[0;31m             \u001b[0mconn\u001b[0m\u001b[0;34m.\u001b[0m\u001b[0mrequest\u001b[0m\u001b[0;34m(\u001b[0m\u001b[0mmethod\u001b[0m\u001b[0;34m,\u001b[0m \u001b[0murl\u001b[0m\u001b[0;34m,\u001b[0m \u001b[0;34m**\u001b[0m\u001b[0mhttplib_request_kw\u001b[0m\u001b[0;34m)\u001b[0m\u001b[0;34m\u001b[0m\u001b[0m\n\u001b[0m\u001b[1;32m    358\u001b[0m \u001b[0;34m\u001b[0m\u001b[0m\n\u001b[1;32m    359\u001b[0m         \u001b[0;31m# Reset the timeout for the recv() on the socket\u001b[0m\u001b[0;34m\u001b[0m\u001b[0;34m\u001b[0m\u001b[0m\n",
      "\u001b[0;32m/var/sw/anaconda3/lib/python3.6/http/client.py\u001b[0m in \u001b[0;36mrequest\u001b[0;34m(self, method, url, body, headers, encode_chunked)\u001b[0m\n\u001b[1;32m   1237\u001b[0m                 encode_chunked=False):\n\u001b[1;32m   1238\u001b[0m         \u001b[0;34m\"\"\"Send a complete request to the server.\"\"\"\u001b[0m\u001b[0;34m\u001b[0m\u001b[0m\n\u001b[0;32m-> 1239\u001b[0;31m         \u001b[0mself\u001b[0m\u001b[0;34m.\u001b[0m\u001b[0m_send_request\u001b[0m\u001b[0;34m(\u001b[0m\u001b[0mmethod\u001b[0m\u001b[0;34m,\u001b[0m \u001b[0murl\u001b[0m\u001b[0;34m,\u001b[0m \u001b[0mbody\u001b[0m\u001b[0;34m,\u001b[0m \u001b[0mheaders\u001b[0m\u001b[0;34m,\u001b[0m \u001b[0mencode_chunked\u001b[0m\u001b[0;34m)\u001b[0m\u001b[0;34m\u001b[0m\u001b[0m\n\u001b[0m\u001b[1;32m   1240\u001b[0m \u001b[0;34m\u001b[0m\u001b[0m\n\u001b[1;32m   1241\u001b[0m     \u001b[0;32mdef\u001b[0m \u001b[0m_send_request\u001b[0m\u001b[0;34m(\u001b[0m\u001b[0mself\u001b[0m\u001b[0;34m,\u001b[0m \u001b[0mmethod\u001b[0m\u001b[0;34m,\u001b[0m \u001b[0murl\u001b[0m\u001b[0;34m,\u001b[0m \u001b[0mbody\u001b[0m\u001b[0;34m,\u001b[0m \u001b[0mheaders\u001b[0m\u001b[0;34m,\u001b[0m \u001b[0mencode_chunked\u001b[0m\u001b[0;34m)\u001b[0m\u001b[0;34m:\u001b[0m\u001b[0;34m\u001b[0m\u001b[0m\n",
      "\u001b[0;32m/var/sw/anaconda3/lib/python3.6/http/client.py\u001b[0m in \u001b[0;36m_send_request\u001b[0;34m(self, method, url, body, headers, encode_chunked)\u001b[0m\n\u001b[1;32m   1283\u001b[0m             \u001b[0;31m# default charset of iso-8859-1.\u001b[0m\u001b[0;34m\u001b[0m\u001b[0;34m\u001b[0m\u001b[0m\n\u001b[1;32m   1284\u001b[0m             \u001b[0mbody\u001b[0m \u001b[0;34m=\u001b[0m \u001b[0m_encode\u001b[0m\u001b[0;34m(\u001b[0m\u001b[0mbody\u001b[0m\u001b[0;34m,\u001b[0m \u001b[0;34m'body'\u001b[0m\u001b[0;34m)\u001b[0m\u001b[0;34m\u001b[0m\u001b[0m\n\u001b[0;32m-> 1285\u001b[0;31m         \u001b[0mself\u001b[0m\u001b[0;34m.\u001b[0m\u001b[0mendheaders\u001b[0m\u001b[0;34m(\u001b[0m\u001b[0mbody\u001b[0m\u001b[0;34m,\u001b[0m \u001b[0mencode_chunked\u001b[0m\u001b[0;34m=\u001b[0m\u001b[0mencode_chunked\u001b[0m\u001b[0;34m)\u001b[0m\u001b[0;34m\u001b[0m\u001b[0m\n\u001b[0m\u001b[1;32m   1286\u001b[0m \u001b[0;34m\u001b[0m\u001b[0m\n\u001b[1;32m   1287\u001b[0m     \u001b[0;32mdef\u001b[0m \u001b[0mgetresponse\u001b[0m\u001b[0;34m(\u001b[0m\u001b[0mself\u001b[0m\u001b[0;34m)\u001b[0m\u001b[0;34m:\u001b[0m\u001b[0;34m\u001b[0m\u001b[0m\n",
      "\u001b[0;32m/var/sw/anaconda3/lib/python3.6/http/client.py\u001b[0m in \u001b[0;36mendheaders\u001b[0;34m(self, message_body, encode_chunked)\u001b[0m\n\u001b[1;32m   1232\u001b[0m         \u001b[0;32melse\u001b[0m\u001b[0;34m:\u001b[0m\u001b[0;34m\u001b[0m\u001b[0m\n\u001b[1;32m   1233\u001b[0m             \u001b[0;32mraise\u001b[0m \u001b[0mCannotSendHeader\u001b[0m\u001b[0;34m(\u001b[0m\u001b[0;34m)\u001b[0m\u001b[0;34m\u001b[0m\u001b[0m\n\u001b[0;32m-> 1234\u001b[0;31m         \u001b[0mself\u001b[0m\u001b[0;34m.\u001b[0m\u001b[0m_send_output\u001b[0m\u001b[0;34m(\u001b[0m\u001b[0mmessage_body\u001b[0m\u001b[0;34m,\u001b[0m \u001b[0mencode_chunked\u001b[0m\u001b[0;34m=\u001b[0m\u001b[0mencode_chunked\u001b[0m\u001b[0;34m)\u001b[0m\u001b[0;34m\u001b[0m\u001b[0m\n\u001b[0m\u001b[1;32m   1235\u001b[0m \u001b[0;34m\u001b[0m\u001b[0m\n\u001b[1;32m   1236\u001b[0m     def request(self, method, url, body=None, headers={}, *,\n",
      "\u001b[0;32m/var/sw/anaconda3/lib/python3.6/http/client.py\u001b[0m in \u001b[0;36m_send_output\u001b[0;34m(self, message_body, encode_chunked)\u001b[0m\n\u001b[1;32m   1024\u001b[0m         \u001b[0mmsg\u001b[0m \u001b[0;34m=\u001b[0m \u001b[0;34mb\"\\r\\n\"\u001b[0m\u001b[0;34m.\u001b[0m\u001b[0mjoin\u001b[0m\u001b[0;34m(\u001b[0m\u001b[0mself\u001b[0m\u001b[0;34m.\u001b[0m\u001b[0m_buffer\u001b[0m\u001b[0;34m)\u001b[0m\u001b[0;34m\u001b[0m\u001b[0m\n\u001b[1;32m   1025\u001b[0m         \u001b[0;32mdel\u001b[0m \u001b[0mself\u001b[0m\u001b[0;34m.\u001b[0m\u001b[0m_buffer\u001b[0m\u001b[0;34m[\u001b[0m\u001b[0;34m:\u001b[0m\u001b[0;34m]\u001b[0m\u001b[0;34m\u001b[0m\u001b[0m\n\u001b[0;32m-> 1026\u001b[0;31m         \u001b[0mself\u001b[0m\u001b[0;34m.\u001b[0m\u001b[0msend\u001b[0m\u001b[0;34m(\u001b[0m\u001b[0mmsg\u001b[0m\u001b[0;34m)\u001b[0m\u001b[0;34m\u001b[0m\u001b[0m\n\u001b[0m\u001b[1;32m   1027\u001b[0m \u001b[0;34m\u001b[0m\u001b[0m\n\u001b[1;32m   1028\u001b[0m         \u001b[0;32mif\u001b[0m \u001b[0mmessage_body\u001b[0m \u001b[0;32mis\u001b[0m \u001b[0;32mnot\u001b[0m \u001b[0;32mNone\u001b[0m\u001b[0;34m:\u001b[0m\u001b[0;34m\u001b[0m\u001b[0m\n",
      "\u001b[0;32m/var/sw/anaconda3/lib/python3.6/http/client.py\u001b[0m in \u001b[0;36msend\u001b[0;34m(self, data)\u001b[0m\n\u001b[1;32m    962\u001b[0m         \u001b[0;32mif\u001b[0m \u001b[0mself\u001b[0m\u001b[0;34m.\u001b[0m\u001b[0msock\u001b[0m \u001b[0;32mis\u001b[0m \u001b[0;32mNone\u001b[0m\u001b[0;34m:\u001b[0m\u001b[0;34m\u001b[0m\u001b[0m\n\u001b[1;32m    963\u001b[0m             \u001b[0;32mif\u001b[0m \u001b[0mself\u001b[0m\u001b[0;34m.\u001b[0m\u001b[0mauto_open\u001b[0m\u001b[0;34m:\u001b[0m\u001b[0;34m\u001b[0m\u001b[0m\n\u001b[0;32m--> 964\u001b[0;31m                 \u001b[0mself\u001b[0m\u001b[0;34m.\u001b[0m\u001b[0mconnect\u001b[0m\u001b[0;34m(\u001b[0m\u001b[0;34m)\u001b[0m\u001b[0;34m\u001b[0m\u001b[0m\n\u001b[0m\u001b[1;32m    965\u001b[0m             \u001b[0;32melse\u001b[0m\u001b[0;34m:\u001b[0m\u001b[0;34m\u001b[0m\u001b[0m\n\u001b[1;32m    966\u001b[0m                 \u001b[0;32mraise\u001b[0m \u001b[0mNotConnected\u001b[0m\u001b[0;34m(\u001b[0m\u001b[0;34m)\u001b[0m\u001b[0;34m\u001b[0m\u001b[0m\n",
      "\u001b[0;32m/var/sw/anaconda3/lib/python3.6/site-packages/urllib3/connection.py\u001b[0m in \u001b[0;36mconnect\u001b[0;34m(self)\u001b[0m\n\u001b[1;32m    164\u001b[0m \u001b[0;34m\u001b[0m\u001b[0m\n\u001b[1;32m    165\u001b[0m     \u001b[0;32mdef\u001b[0m \u001b[0mconnect\u001b[0m\u001b[0;34m(\u001b[0m\u001b[0mself\u001b[0m\u001b[0;34m)\u001b[0m\u001b[0;34m:\u001b[0m\u001b[0;34m\u001b[0m\u001b[0m\n\u001b[0;32m--> 166\u001b[0;31m         \u001b[0mconn\u001b[0m \u001b[0;34m=\u001b[0m \u001b[0mself\u001b[0m\u001b[0;34m.\u001b[0m\u001b[0m_new_conn\u001b[0m\u001b[0;34m(\u001b[0m\u001b[0;34m)\u001b[0m\u001b[0;34m\u001b[0m\u001b[0m\n\u001b[0m\u001b[1;32m    167\u001b[0m         \u001b[0mself\u001b[0m\u001b[0;34m.\u001b[0m\u001b[0m_prepare_conn\u001b[0m\u001b[0;34m(\u001b[0m\u001b[0mconn\u001b[0m\u001b[0;34m)\u001b[0m\u001b[0;34m\u001b[0m\u001b[0m\n\u001b[1;32m    168\u001b[0m \u001b[0;34m\u001b[0m\u001b[0m\n",
      "\u001b[0;32m/var/sw/anaconda3/lib/python3.6/site-packages/urllib3/connection.py\u001b[0m in \u001b[0;36m_new_conn\u001b[0;34m(self)\u001b[0m\n\u001b[1;32m    139\u001b[0m         \u001b[0;32mtry\u001b[0m\u001b[0;34m:\u001b[0m\u001b[0;34m\u001b[0m\u001b[0m\n\u001b[1;32m    140\u001b[0m             conn = connection.create_connection(\n\u001b[0;32m--> 141\u001b[0;31m                 (self.host, self.port), self.timeout, **extra_kw)\n\u001b[0m\u001b[1;32m    142\u001b[0m \u001b[0;34m\u001b[0m\u001b[0m\n\u001b[1;32m    143\u001b[0m         \u001b[0;32mexcept\u001b[0m \u001b[0mSocketTimeout\u001b[0m \u001b[0;32mas\u001b[0m \u001b[0me\u001b[0m\u001b[0;34m:\u001b[0m\u001b[0;34m\u001b[0m\u001b[0m\n",
      "\u001b[0;32m/var/sw/anaconda3/lib/python3.6/site-packages/urllib3/util/connection.py\u001b[0m in \u001b[0;36mcreate_connection\u001b[0;34m(address, timeout, source_address, socket_options)\u001b[0m\n\u001b[1;32m     71\u001b[0m             \u001b[0;32mif\u001b[0m \u001b[0msource_address\u001b[0m\u001b[0;34m:\u001b[0m\u001b[0;34m\u001b[0m\u001b[0m\n\u001b[1;32m     72\u001b[0m                 \u001b[0msock\u001b[0m\u001b[0;34m.\u001b[0m\u001b[0mbind\u001b[0m\u001b[0;34m(\u001b[0m\u001b[0msource_address\u001b[0m\u001b[0;34m)\u001b[0m\u001b[0;34m\u001b[0m\u001b[0m\n\u001b[0;32m---> 73\u001b[0;31m             \u001b[0msock\u001b[0m\u001b[0;34m.\u001b[0m\u001b[0mconnect\u001b[0m\u001b[0;34m(\u001b[0m\u001b[0msa\u001b[0m\u001b[0;34m)\u001b[0m\u001b[0;34m\u001b[0m\u001b[0m\n\u001b[0m\u001b[1;32m     74\u001b[0m             \u001b[0;32mreturn\u001b[0m \u001b[0msock\u001b[0m\u001b[0;34m\u001b[0m\u001b[0m\n\u001b[1;32m     75\u001b[0m \u001b[0;34m\u001b[0m\u001b[0m\n",
      "\u001b[0;31mKeyboardInterrupt\u001b[0m: "
     ]
    }
   ],
   "source": [
    "# post(), put(), delete(), head(), options()\n",
    "\n",
    "r = requests.post('http://httpbin.org/post')\n",
    "print(r.text)\n",
    "print()\n",
    "r = requests.put('http://httpbin.org/put')\n",
    "print(r.text)\n",
    "r = requests.delete('http://httpbin.org/delete')\n",
    "print(r.text)\n",
    "r = requests.head('http://htpbin.org/head')\n",
    "print(r.text)\n"
   ]
  },
  {
   "cell_type": "code",
   "execution_count": 3,
   "metadata": {},
   "outputs": [
    {
     "name": "stdout",
     "output_type": "stream",
     "text": [
      "{\n",
      "  \"args\": {}, \n",
      "  \"headers\": {\n",
      "    \"Accept\": \"*/*\", \n",
      "    \"Accept-Encoding\": \"gzip, deflate\", \n",
      "    \"Connection\": \"close\", \n",
      "    \"Host\": \"httpbin.org\", \n",
      "    \"User-Agent\": \"python-requests/2.19.1\"\n",
      "  }, \n",
      "  \"origin\": \"117.139.208.11\", \n",
      "  \"url\": \"http://httpbin.org/get\"\n",
      "}\n",
      "\n"
     ]
    }
   ],
   "source": [
    "# get请求基本实例\n",
    "import requests\n",
    "\n",
    "r = requests.get('http://httpbin.org/get')\n",
    "print(r.text)"
   ]
  },
  {
   "cell_type": "code",
   "execution_count": 5,
   "metadata": {},
   "outputs": [
    {
     "name": "stdout",
     "output_type": "stream",
     "text": [
      "{\n",
      "  \"args\": {\n",
      "    \"age\": \"22\", \n",
      "    \"name\": \"germey\"\n",
      "  }, \n",
      "  \"headers\": {\n",
      "    \"Accept\": \"*/*\", \n",
      "    \"Accept-Encoding\": \"gzip, deflate\", \n",
      "    \"Connection\": \"close\", \n",
      "    \"Host\": \"httpbin.org\", \n",
      "    \"User-Agent\": \"python-requests/2.19.1\"\n",
      "  }, \n",
      "  \"origin\": \"117.139.208.11\", \n",
      "  \"url\": \"http://httpbin.org/get?name=germey&age=22\"\n",
      "}\n",
      "\n"
     ]
    }
   ],
   "source": [
    "# get()添加参数\n",
    "import requests\n",
    "\n",
    "data = {\n",
    "    'name': 'germey',\n",
    "    'age': 22\n",
    "}\n",
    "r = requests.get(\"http://httpbin.org/get\", params=data)\n",
    "print(r.text)\n",
    "# 一般情况下这种信息数据会用字典来存储"
   ]
  },
  {
   "cell_type": "code",
   "execution_count": 8,
   "metadata": {},
   "outputs": [
    {
     "name": "stdout",
     "output_type": "stream",
     "text": [
      "<class 'str'>\n",
      "{'args': {}, 'headers': {'Accept': '*/*', 'Accept-Encoding': 'gzip, deflate', 'Connection': 'close', 'Host': 'httpbin.org', 'User-Agent': 'python-requests/2.19.1'}, 'origin': '117.139.208.11', 'url': 'http://httpbin.org/get'}\n",
      "<class 'dict'>\n"
     ]
    }
   ],
   "source": [
    "# 另外,网页的返回类型实际上是str类型,但是它很特殊.是JSON格式的,所以想直接解析返回结果,得到一个字典格式的话,可以直接调用json()方法\n",
    "import requests\n",
    "\n",
    "r = requests.get('http://httpbin.org/get')\n",
    "print(type(r.text))\n",
    "print(r.json())\n",
    "print(type(r.json()))"
   ]
  },
  {
   "cell_type": "code",
   "execution_count": 12,
   "metadata": {},
   "outputs": [
    {
     "name": "stdout",
     "output_type": "stream",
     "text": [
      "['\\n什么发生在女角色身上的情节会让你觉得“这肯定要精神崩溃了吧”?\\n', '\\n林平之本来是个好人，怎么就变坏了？\\n', '\\n蔚来 ES8 行驶途中死机导致全车系统无法启动，主要原因及隐患有哪些？其稳定性到底如何？\\n', '\\n如何看待 C-IASI 9月26日发布的保险汽车安全指数测试结果？\\n', '\\n如何评价鹿晗的新歌《时间停了》？\\n', '\\n2018 年计量经济学会弗里希奖授予论文《密度经济学：柏林墙的启示》，对城市经济学研究有什么启示？\\n', '\\n斐波那契数列的第一百万项怎么用 C++ 求？\\n', '\\n为什么有的人学了很多作曲理论也实践了很多次却学不会作曲？\\n', '\\n你最喜欢的句子是？\\n', '\\n有哪些让你感慨「连这都要被喷」的事？\\n']\n",
      "什么发生在女角色身上的情节会让你觉得“这肯定要精神崩溃了吧”?\n",
      "林平之本来是个好人，怎么就变坏了？\n",
      "蔚来 ES8 行驶途中死机导致全车系统无法启动，主要原因及隐患有哪些？其稳定性到底如何？\n",
      "如何看待 C-IASI 9月26日发布的保险汽车安全指数测试结果？\n",
      "如何评价鹿晗的新歌《时间停了》？\n",
      "2018 年计量经济学会弗里希奖授予论文《密度经济学：柏林墙的启示》，对城市经济学研究有什么启示？\n",
      "斐波那契数列的第一百万项怎么用 C++ 求？\n",
      "为什么有的人学了很多作曲理论也实践了很多次却学不会作曲？\n",
      "你最喜欢的句子是？\n",
      "有哪些让你感慨「连这都要被喷」的事？\n"
     ]
    }
   ],
   "source": [
    "# 抓取页面:请求链接返回的是JSON形式的字符串,那么如果请求普通的网页,则肯定获得相应的内容了\n",
    "import requests\n",
    "import re\n",
    "\n",
    "headers = {\n",
    "    \"User-Agent\":\"Mozilla/5.0 (X11; Linux x86_64) AppleWebKit/537.36 (KHTML, like Gecko) Chrome/68.0.3440.106 Safari/537.36\"\n",
    "}\n",
    "\n",
    "r = requests.get(\"https://www.zhihu.com/explore\", headers=headers)\n",
    "pattern = re.compile('explore-feed.*?question_link.*?>(.*?)</a>', re.S)\n",
    "titles = re.findall(pattern, r.text)\n",
    "print(titles)\n",
    "for title in titles:\n",
    "    print(title.strip())"
   ]
  },
  {
   "cell_type": "code",
   "execution_count": 17,
   "metadata": {},
   "outputs": [
    {
     "name": "stdout",
     "output_type": "stream",
     "text": [
      "\u0000\u0000\u0001\u0000\u0002\u0000\u0010\u0010\u0000\u0000\u0001\u0000 \u0000(\u0005\u0000\u0000&\u0000\u0000\u0000  \u0000\u0000\u0001\u0000 \u0000(\u0014\u0000\u0000N\u0005\u0000\u0000(\u0000\u0000\u0000\u0010\u0000\u0000\u0000 \u0000\u0000\u0000\u0001\u0000 \u0000\u0000\u0000\u0000\u0000\u0000\u0005\u0000\u0000\u0000\u0000\u0000\u0000\u0000\u0000\u0000\u0000\u0000\u0000\u0000\u0000\u0000\u0000\u0000\u0000\u0000\u0000\u0000\u0000\u0000\u0000\u0000\u0000\u0000\u0000\u0000\u0000\u0000\u0000\u0000\u0000\u0011\u0011\u0013v\u0013\u0013\u0013�\u000e\u000e\u000e\u0012\u0000\u0000\u0000\u0000\u0000\u0000\u0000\u0000\u000f\u000f\u000f\u0011\u0011\u0011\u0014�\u0013\u0013\u0013i\u0000\u0000\u0000\u0000\u0000\u0000\u0000\u0000\u0000\u0000\u0000\u0000\u0000\u0000\u0000\u0000\u0000\u0000\u0000\u0000\u0000\u0000\u0000\u0000\u0000\u0000\u0000\u0000\u0014\u0014\u0014�\u0013\u0013\u0014�\u0013\u0013\u0014�\u0000\u0000\u0000\u0019\u0000\u0000\u0000\u0000\u0000\u0000\u0000\u0000\u0000\u0000\u0000\u0018\u0015\u0015\u0017�\u0015\u0015\u0017�\u0011\u0011\u0013�\u0000\u0000\u0000\u0000\u0000\u0000\u0000\u0000\u0000\u0000\u0000\u0000\u0000\u0000\u0000\u0000\u0000\u0000\u0000\u0000\u0011\u0011\u0012�\u0013\u0013\u0014�\u0011\u0011\u0011\u001e",
      "\u0010\u0010\u0010\u0010\u0000\u0000\u0000\u0000\u0000\u0000\u0000\u0000\u0000\u0000\u0000\u0000\u0000\u0000\u0000\r",
      "\u0013\u0013\u0014�\u0015\u0015\u0017�\u0015\u0015\u0017�\u0011\u0011\u0014�\u0000\u0000\u0000\u0000\u0000\u0000\u0000\u0000\u0000\u0000\u0000\u0000\u0014\u0014\u0014�\u0015\u0015\u0017�\u0006\u0006\u0011,\u000e\u000e\u000e\\\u000f\u000f\u000f�\u000f\u000f\u000f\"\u0000\u0000\u0000\u0000\u0000\u0000\u0000\u0000\u000f\u000f\u000f4\u0010\u0010\u0010�\u0015\u0015\u0017�\u0015\u0015\u0017�\u0015\u0015\u0017�\u0014\u0014\u0014�\u0000\u0000\u0000\u0000\u0010\u0010\u00100\u000f\r",
      "\u000f�\u0000\u0000\u0000�\u0001\u0001\u0001�\u0002\u0002\u0002�\u0002\u0002\u0002�\u000e\u000e\u000e8\u0000\u0000\u0000\u0000\u0000\u0000\u0000\u0000\b\b\b@\u0002\u0002\u0002�\u0015\u0015\u0017�\u0015\u0015\u0017�\u0015\u0015\u0017�\u0015\u0015\u0017�\u0011\u0011\u0011-\u0014\u0014\u0015�\u0014\u0014\u0015�\u0001\u0001\u0001�\u000f\u000f\u0011�\r",
      "\r",
      "\u0011;\u0000\u0000\u0000\u0000\u0000\u0000\u0000\u0000\u0000\u0000\u0000\u0000\u0000\u0000\u0000\u0000\u0000\u0000\u0000\u0000\u0000\u0000\u0000\u0000\r",
      "\r",
      "\u0012:\u0013\u0013\u0014�\u0015\u0015\u0017�\u0015\u0015\u0017�\u0012\u0012\u0012�\u0013\u0013\u0013�\u0015\u0015\u0017�\u0015\u0015\u0017�\u0013\u0013\u0013O\u0000\u0000\u0000\u0000\u0000\u0000\u0000\u0000\u0000\u0000\u0000\u0000\u0000\u0000\u0000\u0000\u0000\u0000\u0000\u0000\u0000\u0000\u0000\u0000\u0000\u0000\u0000\u0000\u0000\u0000\u0000\u0000\u0011\u0011\u0011L\u0015\u0015\u0017�\u0015\u0015\u0017�\u0013\u0013\u0013�\u0013\u0013\u0014�\u0015\u0015\u0017�\u0014\u0014\u0014�\u0000\u0000\u0000\u0002\u0000\u0000\u0000\u0000\u0000\u0000\u0000\u0000\u0000\u0000\u0000\u0000\u0000\u0000\u0000\u0000\u0000\u0000\u0000\u0000\u0000\u0000\u0000\u0000\u0000\u0000\u0000\u0000\u0000\u0000\u0000\u0000\u0000\u0000\u0000\u0002\u0013\u0013\u0014�\u0015\u0015\u0017�\u0013\u0013\u0014�\u0013\u0013\u0014�\u0015\u0015\u0017�\u0014\u0014\u0014�\u0000\u0000\u0000\u0000\u0000\u0000\u0000\u0000\u0000\u0000\u0000\u0000\u0000\u0000\u0000\u0000\u0000\u0000\u0000\u0000\u0000\u0000\u0000\u0000\u0000\u0000\u0000\u0000\u0000\u0000\u0000\u0000\u0000\u0000\u0000\u0000\u0000\u0000\u0000\u0000\u0014\u0014\u0014�\u0015\u0015\u0017�\u0013\u0013\u0014�\u0014\u0014\u0014�\u0015\u0015\u0017�\u0013\u0013\u0014�\u000f\u000f\u000f!\u0000\u0000\u0000\u0000\u0000\u0000\u0000\u0000\u0000\u0000\u0000\u0000\u0000\u0000\u0000\u0000\u0000\u0000\u0000\u0000\u0000\u0000\u0000\u0000\u0000\u0000\u0000\u0000\u0000\u0000\u0000\u0000\u0010\u0010\u0010\u001f\u0013\u0013\u0014�\u0015\u0015\u0017�\u0014\u0014\u0014�\u0011\u0011\u0014�\u0015\u0015\u0017�\u0015\u0015\u0017�\u000f\u000f\u000f4\u0000\u0000\u0000\u0000\u0000\u0000\u0000\u0000\u0000\u0000\u0000\u0000\u0000\u0000\u0000\u0000\u0000\u0000\u0000\u0000\u0000\u0000\u0000\u0000\u0000\u0000\u0000\u0000\u0000\u0000\u0000\u0000\u0010\u0010\u0010@\u0015\u0015\u0017�\u0015\u0015\u0017�\u0011\u0011\u0014�\u000e\u000e\u000e8\u0015\u0015\u0017�\u0015\u0015\u0017�\u0012\u0012\u0012�\u0000\u0000\u0000\u0000\u0000\u0000\u0000\f",
      "\u0000\u0000\u0000\n",
      "\u0000\u0000\u0000\u0000\u0000\u0000\u0000\u0000\u0000\u0000\u0000\f",
      "\u0000\u0000\u0000\u0001\u0000\u0000\u0000\u0000\u0012\u0012\u0012�\u0015\u0015\u0017�\u0015\u0015\u0017�\u000e\u000e\u000e8\u0000\u0000\u0000\u0000\u0011\u0011\u0014�\u0015\u0015\u0017�\u0011\u0011\u0012�\u000e\u000e\u000e6\u0000\u0000\u0000�\r",
      "\r",
      "\r",
      "�\u0012\u0012\u0014�\u0012\u0012\u0014�\u0013\u0013\u0014�\u0000\u0000\u0000t\u0005\u0005\u00057\u0011\u0011\u0012�\u0015\u0015\u0017�\u0011\u0011\u0014�\u0000\u0000\u0000\u0000\u0000\u0000\u0000\u0000\u0000\u0000\u0000\u0003\u0013\u0013\u0013�\u0015\u0015\u0017�\u0015\u0015\u0017�\u0015\u0015\u0017�\u0015\u0015\u0017�\u0015\u0015\u0017�\u0015\u0015\u0017�\u0015\u0015\u0017�\u0015\u0015\u0017�\u0015\u0015\u0017�\u0015\u0015\u0017�\u0013\u0013\u0013�\u0000\u0000\u0000\u0003\u0000\u0000\u0000\u0000\u0000\u0000\u0000\u0000\u0000\u0000\u0000\u0000\u0000\u0000\u0000\u0003\u0011\u0011\u0014�\u0015\u0015\u0017�\u0015\u0015\u0017�\u0015\u0015\u0017�\u0015\u0015\u0017�\u0015\u0015\u0017�\u0015\u0015\u0017�\u0015\u0015\u0017�\u0015\u0015\u0017�\u0011\u0011\u0014�\u0000\u0000\u0000\u0003\u0000\u0000\u0000\u0000\u0000\u0000\u0000\u0000\u0000\u0000\u0000\u0000\u0000\u0000\u0000\u0000\u0000\u0000\u0000\u0000\u0000\u0000\u0000\u0000\u0010\u0010\u0010>\u0013\u0013\u0013�\u0013\u0013\u0013�\u0012\u0012\u0014�\u0012\u0012\u0014�\u0013\u0013\u0013�\u0013\u0013\u0013�\u0010\u0010\u0010>\u0000\u0000\u0000\u0000\u0000\u0000\u0000\u0000\u0000\u0000\u0000\u0000\u0000\u0000\u0000\u0000\u0000\u0000\u0000\u0000\u0000\u0000\u0000\u0000\u0000\u0000\u0000\u0000\u0000\u0000\u0000\u0000\u0000\u0000\u0000\u0000\u0000\u0000\u0000\u0000\u0000\u0000\u0000\u0000\u0000\u0000\u0000\u0000\u0000\u0000\u0000\u0000\u0000\u0000\u0000\u0000\u0000\u0000\u0000\u0000\u0000\u0000\u0000\u0000\u0000\u0000\u0000\u0000\u0000\u0000\u0000\u0000\u0000\u0000\u0000\u0000\u0000\u0000\u0000\u0000\u0000\u0000\u0000\u0000\u0000\u0000\u0000\u0000\u0000\u0000\u0000\u0000\u0000\u0000\u0000\u0000\u0000\u0000\u0000\u0000\u0000\u0000\u0000\u0000\u0000\u0000\u0000\u0000\u0000\u0000\u0000\u0000\u0000\u0000\u0000\u0000\u0000\u0000\u0000\u0000\u0000\u0000\u0000\u0000\u0000\u0000\u0000\u0000\u0000\u0000\u0000\u0000\u0000\u0000\u0000\u0000\u0000\u0000\u0000\u0000\u0000\u0000\u0000\u0000\u0000\u0000\u0000\u0000\u0000\u0000\u0000\u0000\u0000\u0000\u0000\u0000\u0000\u0000\u0000\u0000\u0000\u0000\u0000\u0000\u0000\u0000\u0000\u0000\u0000\u0000\u0000\u0000\u0000\u0000\u0000\u0000\u0000\u0000\u0000\u0000\u0000\u0000\u0000\u0000\u0000\u0000\u0000\u0000\u0000\u0000\u0000\u0000\u0000\u0000\u0000\u0000\u0000\u0000\u0000\u0000\u0000\u0000\u0000\u0000\u0000\u0000\u0000\u0000\u0000\u0000\u0000\u0000\u0000\u0000\u0000\u0000\u0000\u0000\u0000\u0000\u0000\u0000\u0000\u0000\u0000\u0000\u0000\u0000\u0000\u0000\u0000\u0000\u0000\u0000\u0000\u0000\u0000\u0000\u0000\u0000\u0000\u0000\u0000\u0000\u0000\u0000\u0000\u0000\u0000\u0000\u0000\u0000\u0000\u0000\u0000\u0000\u0000\u0000\u0000\u0000\u0000\u0000\u0000\u0000\u0000\u0000\u0000\u0000\u0000\u0000\u0000\u0000(\u0000\u0000\u0000 \u0000\u0000\u0000@\u0000\u0000\u0000\u0001\u0000 \u0000\u0000\u0000\u0000\u0000\u0000\u0014\u0000\u0000\u0000\u0000\u0000\u0000\u0000\u0000\u0000\u0000\u0000\u0000\u0000\u0000\u0000\u0000\u0000\u0000\u0000\u0000\u0000\u0000\u0000\u0000\u0000\u0000\u0000\u0000\u0000\u0000\u0000\u0000\u0000\u0000\u0000\u0000\u0000\u0000\u0000\u0000\u0000\u0000\u0000\u0000\u0000\u0000\u0000\u0000\u0000\u0000\u0000\u0000\u0000\u0000\u0000\u0000\u0000\u0000\u0015\u0015+\f",
      "\u001e",
      "\u001e",
      "\u001e",
      "\u0011\u0000\u0000\u0000\u0000\u0000\u0000\u0000\u0000\u0000\u0000\u0000\u0000\u0000\u0000\u0000\u0000\u0000\u0000\u0000\u0000\u0000\u0000\u0000\u0000\u0000\u0000\u0000\u0000\u0000\u0000\u0000\u0000\u001b\u001b\u001b\u001c",
      "$$$\u000e\u0000\u0000\u0000\u0000\u0000\u0000\u0000\u0000\u0000\u0000\u0000\u0000\u0000\u0000\u0000\u0000\u0000\u0000\u0000\u0000\u0000\u0000\u0000\u0000\u0000\u0000\u0000\u0000\u0000\u0000\u0000\u0000\u0000\u0000\u0000\u0000\u0000\u0000\u0000\u0000\u0000\u0000\u0000\u0000\u0000\u0000\u0000\u0000\u0000\u0000\u0000\u0000\u0000\u0000\u0000\u0000\u0000\u0000\u0000\u0000\u0000\u0000\u0000\u0000\u0000\u0000\u0000\u0000\u0000\u0000\u0000\u0000\u0016\u0016\u001d",
      "#\u0017\u0017\u0018�\u0015\u0015\u0017�\u0016\u0016\u0017�@@@\u0004\u0000\u0000\u0000\u0000\u0000\u0000\u0000\u0000\u0000\u0000\u0000\u0000\u0000\u0000\u0000\u0000\u0000\u0000\u0000\u0000\u0000\u0000\u0000\u0000\u0000\u0000\u0000\u0000\u0016\u0016\u0018�\u0016\u0016\u0017�\u0016\u0016\u0018�\u001c",
      "\u001c",
      "\u001c",
      "%\u0000\u0000\u0000\u0000\u0000\u0000\u0000\u0000\u0000\u0000\u0000\u0000\u0000\u0000\u0000\u0000\u0000\u0000\u0000\u0000\u0000\u0000\u0000\u0000\u0000\u0000\u0000\u0000\u0000\u0000\u0000\u0000\u0000\u0000\u0000\u0000\u0000\u0000\u0000\u0000\u0000\u0000\u0000\u0000\u0000\u0000\u0000\u0000\u0000\u0000\u0000\u0000\u0000\u0000\u0000\u0000$$$\u0007\u0016\u0016\u0018�\u0016\u0016\u0018�\u0015\u0015\u0017�\u0015\u0015\u0017�\u0015\u0015\u0017�   \b\u0000\u0000\u0000\u0000\u0000\u0000\u0000\u0000\u0000\u0000\u0000\u0000\u0000\u0000\u0000\u0000\u0000\u0000\u0000\u0000\u0000\u0000\u0000\u0000\u0000\u0000\u0000\u0000\u0015\u0015\u0017�\u0015\u0015\u0017�\u0015\u0015\u0017�\u0016\u0016\u0018�\u0016\u0016\u0018�   \b\u0000\u0000\u0000\u0000\u0000\u0000\u0000\u0000\u0000\u0000\u0000\u0000\u0000\u0000\u0000\u0000\u0000\u0000\u0000\u0000\u0000\u0000\u0000\u0000\u0000\u0000\u0000\u0000\u0000\u0000\u0000\u0000\u0000\u0000\u0000\u0000\u0000\u0000\u0000\u0000\u0000\u0000\u0000\u0000\u001b\u001b\u001b\u001c",
      "\u0016\u0016\u0017�\u0015\u0015\u0017�\u0015\u0015\u0017�\u0015\u0015\u0017�\u0015\u0015\u0017�\u0015\u0015\u0017�+++\u0006\u0000\u0000\u0000\u0000\u0000\u0000\u0000\u0000\u0000\u0000\u0000\u0000\u0000\u0000\u0000\u0000\u0000\u0000\u0000\u0000\u0000\u0000\u0000\u0000\u0000\u0000\u0000\u0000\u0015\u0015\u0017�\u0015\u0015\u0017�\u0015\u0015\u0017�\u0015\u0015\u0017�\u0015\u0015\u0017�\u0016\u0016\u0017�\u001a\u001a\u001a\u001e",
      "\u0000\u0000\u0000\u0000\u0000\u0000\u0000\u0000\u0000\u0000\u0000\u0000\u0000\u0000\u0000\u0000\u0000\u0000\u0000\u0000\u0000\u0000\u0000\u0000\u0000\u0000\u0000\u0000\u0000\u0000\u0000\u0000\u0000\u0000\u0000\u0000\u0016\u0016\u001b/\u0015\u0015\u0017�\u0015\u0015\u0017�\u0015\u0015\u0017�\u0016\u0016\u0018�\u0016\u0016\u0018t\u0016\u0016\u0019g\u0016\u0016\u0018~UUU\u0003\u0000\u0000\u0000\u0000\u0000\u0000\u0000\u0000\u0000\u0000\u0000\u0000\u0000\u0000\u0000\u0000\u0000\u0000\u0000\u0000\u0000\u0000\u0000\u0000\u0000\u0000\u0000\u0000\u0015\u0015\u0017�\u0015\u0015\u0017�\u0015\u0015\u0017�\u0015\u0015\u0017�\u0015\u0015\u0017�\u0015\u0015\u0017�\u0015\u0015\u0017�\u0016\u0016\u001b/\u0000\u0000\u0000\u0000\u0000\u0000\u0000\u0000\u0000\u0000\u0000\u0000\u0000\u0000\u0000\u0000\u0000\u0000\u0000\u0000\u0000\u0000\u0000\u0000\u0000\u0000\u0000\u0000\u001a\u001a\u001a\u001d",
      "\u0015\u0015\u0017�\u0015\u0015\u0017�\u0015\u0015\u0017�\u0018\u0018\u0018I\u0000\u0000\u0000\u0000\u0000\u0000\u0000\u0000\u0000\u0000\u0000\u0000\u0000\u0000\u0000\u0000\u0000\u0000\u0000\u0000\u0000\u0000\u0000\u0000\u0000\u0000\u0000\u0000\u0000\u0000\u0000\u0000\u0000\u0000\u0000\u0000\u0000\u0000\u0000\u0000\u0000\u0000\u0000\u0000\u0000\u0000\u0000\u0000\u0015\u0015\u0017�\u0015\u0015\u0017�\u0015\u0015\u0017�\u0015\u0015\u0017�\u0015\u0015\u0017�\u0015\u0015\u0017�\u0015\u0015\u0017�\u0015\u0015\u0017�\u001a\u001a\u001a\u001d",
      "\u0000\u0000\u0000\u0000\u0000\u0000\u0000\u0000\u0000\u0000\u0000\u0000\u0000\u0000\u0000\u0000\u0000\u0000\u0000\u0000$$$\u0007\u0016\u0016\u0017�\u0015\u0015\u0017�\u0015\u0015\u0017�\u0015\u0015\u0018�\u0000\u0000\u0000\u0000\u0015\u0015 \u0018\u0016\u0016\u0018s\u0015\u0015\u0017�\u0017\u0017\u0019f$$$\u0007\u0000\u0000\u0000\u0000\u0000\u0000\u0000\u0000\u0000\u0000\u0000\u0000\u0000\u0000\u0000\u0000\u0000\u0000\u0000\u0000\u0000\u0000\u0000\u0000\u001c",
      "\u001c",
      "\u001c",
      "\u0012\u0015\u0015\u0017�\u0015\u0015\u0017�\u0015\u0015\u0017�\u0015\u0015\u0017�\u0015\u0015\u0017�\u0015\u0015\u0017�\u0015\u0015\u0017�\u0015\u0015\u0017�\u0016\u0016\u0017�$$$\u0007\u0000\u0000\u0000\u0000\u0000\u0000\u0000\u0000\u0000\u0000\u0000\u0000\u0000\u0000\u0000\u0000\u0016\u0016\u0018�\u0015\u0015\u0017�\u0015\u0015\u0017�\u0015\u0015\u0017�\u001b\u001b\u001b\u001c",
      "\u001c",
      "\u001c",
      "\u001c",
      "%\u0016\u0016\u0018�\u0015\u0015\u0017�\u0015\u0015\u0017�\u0015\u0015\u0017�\u0017\u0017\u001aN\u0000\u0000\u0000\u0000\u0000\u0000\u0000\u0000\u0000\u0000\u0000\u0000\u0000\u0000\u0000\u0000\u0000\u0000\u0000\u0000\u0000\u0000\u0000\u0000\u0018\u0018\u0018@\u0015\u0015\u0017�\u0015\u0015\u0017�\u0015\u0015\u0017�\u0015\u0015\u0017�\u0015\u0015\u0017�\u0015\u0015\u0017�\u0015\u0015\u0017�\u0015\u0015\u0017�\u0015\u0015\u0017�\u0016\u0016\u0018�\u0000\u0000\u0000\u0000\u0000\u0000\u0000\u0000\u0000\u0000\u0000\u0000\u0015\u0015\u001c",
      "$\u0016\u0016\u0018�\u0015\u0015\u0017�\u0015\u0015\u0018�\u0016\u0016\u001aE\u0015\u0015+\f",
      "\u0016\u0016\u0017�\u0015\u0015\u0017�\u0015\u0015\u0017�\u0015\u0015\u0017�\u0015\u0015\u0017�\u0016\u0016\u0017Ā��\u0002\u0000\u0000\u0000\u0000\u0000\u0000\u0000\u0000\u0000\u0000\u0000\u0000\u0000\u0000\u0000\u0000\u0000\u0000\u0000\u0000\u0015\u0015\u0018�\u0015\u0015\u0017�\u0015\u0015\u0017�\u0015\u0015\u0017�\u0015\u0015\u0017�\u0015\u0015\u0017�\u0015\u0015\u0017�\u0015\u0015\u0017�\u0015\u0015\u0017�\u0015\u0015\u0017�\u0016\u0016\u0018�\u0016\u0016\u001d",
      "#\u0000\u0000\u0000\u0000\u0000\u0000\u0000\u0000\u0016\u0016\u0018�\u0015\u0015\u0017�\u0015\u0015\u0017�\u0016\u0016\u0017�\u0017\u0017\u001aZ\u0016\u0016\u0017�\u0015\u0015\u0017�\u0015\u0015\u0017�\u0015\u0015\u0018�\u0016\u0016\u0018�\u0016\u0016\u001aE\u001c",
      "\u001c",
      "\u001c",
      "\u0012\u0000\u0000\u0000\u0000\u0000\u0000\u0000\u0000\u0000\u0000\u0000\u0000\u0000\u0000\u0000\u0000\u0000\u0000\u0000\u0000\u0000\u0000\u0000\u0000\"\"\"\u000f\u0017\u0017\u0017B\u0017\u0017\u0019{\u0016\u0016\u0017�\u0015\u0015\u0017�\u0015\u0015\u0017�\u0015\u0015\u0017�\u0015\u0015\u0017�\u0015\u0015\u0017�\u0015\u0015\u0017�\u0015\u0015\u0017�\u0017\u0017\u0018�\u0000\u0000\u0000\u0000'''\r",
      "\u0015\u0015\u0017�\u0015\u0015\u0017�\u0015\u0015\u0017�\u0015\u0015\u0017�\u0015\u0015\u0017�\u0015\u0015\u0017�\u0015\u0015\u0017�\u0016\u0016\u0018�333\u0005\u0000\u0000\u0000\u0000\u0000\u0000\u0000\u0000\u0000\u0000\u0000\u0000\u0000\u0000\u0000\u0000\u0000\u0000\u0000\u0000\u0000\u0000\u0000\u0000\u0000\u0000\u0000\u0000\u0000\u0000\u0000\u0000\u0000\u0000\u0000\u0000\u0000\u0000\u0000\u0000\u0000\u0000\u0000\u0000\u0000\u0000\u0000\u0000���\u0002\u0016\u0016\u0018t\u0015\u0015\u0017�\u0015\u0015\u0017�\u0015\u0015\u0017�\u0015\u0015\u0017�\u0015\u0015\u0017�\u0015\u0015\u0017�\u0015\u0015\u0017�\u0015\u0015+\f",
      "\u0016\u0016\u0019R\u0015\u0015\u0017�\u0015\u0015\u0017�\u0015\u0015\u0017�\u0015\u0015\u0017�\u0015\u0015\u0017�\u0015\u0015\u0017�\u0016\u0016\u0018t\u0000\u0000\u0000\u0000\u0000\u0000\u0000\u0000\u0000\u0000\u0000\u0000\u0000\u0000\u0000\u0000\u0000\u0000\u0000\u0000\u0000\u0000\u0000\u0000\u0000\u0000\u0000\u0000\u0000\u0000\u0000\u0000\u0000\u0000\u0000\u0000\u0000\u0000\u0000\u0000\u0000\u0000\u0000\u0000\u0000\u0000\u0000\u0000\u0000\u0000\u0000\u0000\u0000\u0000\u0000\u0000\u0000\u0000\u0000\u0000\u0000\u0000\u0000\u0000\u0015\u0015\u0018`\u0015\u0015\u0017�\u0015\u0015\u0017�\u0015\u0015\u0017�\u0015\u0015\u0017�\u0015\u0015\u0017�\u0015\u0015\u0017�\u0016\u0016\u0019R\u0015\u0015\u0019�\u0015\u0015\u0017�\u0015\u0015\u0017�\u0015\u0015\u0017�\u0015\u0015\u0017�\u0015\u0015\u0017�\u0015\u0015\u0018����\u0001\u0000\u0000\u0000\u0000\u0000\u0000\u0000\u0000\u0000\u0000\u0000\u0000\u0000\u0000\u0000\u0000\u0000\u0000\u0000\u0000\u0000\u0000\u0000\u0000\u0000\u0000\u0000\u0000\u0000\u0000\u0000\u0000\u0000\u0000\u0000\u0000\u0000\u0000\u0000\u0000\u0000\u0000\u0000\u0000\u0000\u0000\u0000\u0000\u0000\u0000\u0000\u0000\u0000\u0000\u0000\u0000\u0000\u0000\u0000\u0000\u0000\u0000\u0000\u0000\u0000\u0000\u0000\u0000\u0016\u0016\u0018�\u0015\u0015\u0017�\u0015\u0015\u0017�\u0015\u0015\u0017�\u0015\u0015\u0017�\u0015\u0015\u0017�\u0015\u0015\u0019�\u0016\u0016\u0018�\u0015\u0015\u0017�\u0015\u0015\u0017�\u0015\u0015\u0017�\u0015\u0015\u0017�\u0015\u0015\u0017�\u0016\u0016\u0019\\\u0000\u0000\u0000\u0000\u0000\u0000\u0000\u0000\u0000\u0000\u0000\u0000\u0000\u0000\u0000\u0000\u0000\u0000\u0000\u0000\u0000\u0000\u0000\u0000\u0000\u0000\u0000\u0000\u0000\u0000\u0000\u0000\u0000\u0000\u0000\u0000\u0000\u0000\u0000\u0000\u0000\u0000\u0000\u0000\u0000\u0000\u0000\u0000\u0000\u0000\u0000\u0000\u0000\u0000\u0000\u0000\u0000\u0000\u0000\u0000\u0000\u0000\u0000\u0000\u0000\u0000\u0000\u0000\u0000\u0000\u0000\u0000\u0016\u0016\u0019G\u0015\u0015\u0017�\u0015\u0015\u0017�\u0015\u0015\u0017�\u0015\u0015\u0017�\u0015\u0015\u0017�\u0016\u0016\u0018�\u0016\u0016\u0018�\u0015\u0015\u0017�\u0015\u0015\u0017�\u0015\u0015\u0017�\u0015\u0015\u0017�\u0015\u0015\u0017�\u0017\u0017\u0017\u0016\u0000\u0000\u0000\u0000\u0000\u0000\u0000\u0000\u0000\u0000\u0000\u0000\u0000\u0000\u0000\u0000\u0000\u0000\u0000\u0000\u0000\u0000\u0000\u0000\u0000\u0000\u0000\u0000\u0000\u0000\u0000\u0000\u0000\u0000\u0000\u0000\u0000\u0000\u0000\u0000\u0000\u0000\u0000\u0000\u0000\u0000\u0000\u0000\u0000\u0000\u0000\u0000\u0000\u0000\u0000\u0000\u0000\u0000\u0000\u0000\u0000\u0000\u0000\u0000\u0000\u0000\u0000\u0000\u0000\u0000\u0000\u0000   \b\u0016\u0016\u0018�\u0015\u0015\u0017�\u0015\u0015\u0017�\u0015\u0015\u0017�\u0015\u0015\u0017�\u0016\u0016\u0018�\u0016\u0016\u0018�\u0015\u0015\u0017�\u0015\u0015\u0017�\u0015\u0015\u0017�\u0015\u0015\u0017�\u0015\u0015\u0017�\u0000\u0000\u0000\u0000\u0000\u0000\u0000\u0000\u0000\u0000\u0000\u0000\u0000\u0000\u0000\u0000\u0000\u0000\u0000\u0000\u0000\u0000\u0000\u0000\u0000\u0000\u0000\u0000\u0000\u0000\u0000\u0000\u0000\u0000\u0000\u0000\u0000\u0000\u0000\u0000\u0000\u0000\u0000\u0000\u0000\u0000\u0000\u0000\u0000\u0000\u0000\u0000\u0000\u0000\u0000\u0000\u0000\u0000\u0000\u0000\u0000\u0000\u0000\u0000\u0000\u0000\u0000\u0000\u0000\u0000\u0000\u0000\u0000\u0000\u0000\u0000\u0000\u0000\u0000\u0000\u0016\u0016\u0018�\u0015\u0015\u0017�\u0015\u0015\u0017�\u0015\u0015\u0017�\u0015\u0015\u0017�\u0016\u0016\u0018�\u0016\u0016\u0017�\u0015\u0015\u0017�\u0015\u0015\u0017�\u0015\u0015\u0017�\u0015\u0015\u0017�\u0016\u0016\u0018�\u0000\u0000\u0000\u0000\u0000\u0000\u0000\u0000\u0000\u0000\u0000\u0000\u0000\u0000\u0000\u0000\u0000\u0000\u0000\u0000\u0000\u0000\u0000\u0000\u0000\u0000\u0000\u0000\u0000\u0000\u0000\u0000\u0000\u0000\u0000\u0000\u0000\u0000\u0000\u0000\u0000\u0000\u0000\u0000\u0000\u0000\u0000\u0000\u0000\u0000\u0000\u0000\u0000\u0000\u0000\u0000\u0000\u0000\u0000\u0000\u0000\u0000\u0000\u0000\u0000\u0000\u0000\u0000\u0000\u0000\u0000\u0000\u0000\u0000\u0000\u0000\u0000\u0000\u0000\u0000\u0015\u0015\u0018�\u0015\u0015\u0017�\u0015\u0015\u0017�\u0015\u0015\u0017�\u0015\u0015\u0017�\u0016\u0016\u0017�\u0015\u0015\u0018�\u0015\u0015\u0017�\u0015\u0015\u0017�\u0015\u0015\u0017�\u0015\u0015\u0017�\u0016\u0016\u0018����\u0001\u0000\u0000\u0000\u0000\u0000\u0000\u0000\u0000\u0000\u0000\u0000\u0000\u0000\u0000\u0000\u0000\u0000\u0000\u0000\u0000\u0000\u0000\u0000\u0000\u0000\u0000\u0000\u0000\u0000\u0000\u0000\u0000\u0000\u0000\u0000\u0000\u0000\u0000\u0000\u0000\u0000\u0000\u0000\u0000\u0000\u0000\u0000\u0000\u0000\u0000\u0000\u0000\u0000\u0000\u0000\u0000\u0000\u0000\u0000\u0000\u0000\u0000\u0000\u0000\u0000\u0000\u0000\u0000\u0000\u0000\u0000\u0000\u0000\u0000\u0000\u0000\u0016\u0016\u0018�\u0015\u0015\u0017�\u0015\u0015\u0017�\u0015\u0015\u0017�\u0015\u0015\u0017�\u0015\u0015\u0018�\u0015\u0015\u0018�\u0015\u0015\u0017�\u0015\u0015\u0017�\u0015\u0015\u0017�\u0015\u0015\u0017�\u0015\u0015\u0017�\u001c",
      "\u001c",
      "\u001c",
      "%\u0000\u0000\u0000\u0000\u0000\u0000\u0000\u0000\u0000\u0000\u0000\u0000\u0000\u0000\u0000\u0000\u0000\u0000\u0000\u0000\u0000\u0000\u0000\u0000\u0000\u0000\u0000\u0000\u0000\u0000\u0000\u0000\u0000\u0000\u0000\u0000\u0000\u0000\u0000\u0000\u0000\u0000\u0000\u0000\u0000\u0000\u0000\u0000\u0000\u0000\u0000\u0000\u0000\u0000\u0000\u0000\u0000\u0000\u0000\u0000\u0000\u0000\u0000\u0000\u0000\u0000\u0000\u0000\u0000\u0000\u0000\u0000   \u0010\u0015\u0015\u0017�\u0015\u0015\u0017�\u0015\u0015\u0017�\u0015\u0015\u0017�\u0015\u0015\u0017�\u0015\u0015\u0018�\u0016\u0016\u0018�\u0015\u0015\u0017�\u0015\u0015\u0017�\u0015\u0015\u0017�\u0015\u0015\u0017�\u0015\u0015\u0017�\u0016\u0016\u0018v\u0000\u0000\u0000\u0000\u0000\u0000\u0000\u0000\u0000\u0000\u0000\u0000\u0000\u0000\u0000\u0000\u0000\u0000\u0000\u0000\u0000\u0000\u0000\u0000\u0000\u0000\u0000\u0000\u0000\u0000\u0000\u0000\u0000\u0000\u0000\u0000\u0000\u0000\u0000\u0000\u0000\u0000\u0000\u0000\u0000\u0000\u0000\u0000\u0000\u0000\u0000\u0000\u0000\u0000\u0000\u0000\u0000\u0000\u0000\u0000\u0000\u0000\u0000\u0000\u0000\u0000\u0000\u0000\u0000\u0000\u0000\u0000\u0015\u0015\u0018a\u0015\u0015\u0017�\u0015\u0015\u0017�\u0015\u0015\u0017�\u0015\u0015\u0017�\u0015\u0015\u0017�\u0016\u0016\u0018�\u0016\u0016\u0019G\u0015\u0015\u0017�\u0015\u0015\u0017�\u0015\u0015\u0017�\u0015\u0015\u0017�\u0015\u0015\u0017�\u0016\u0016\u0018�\u0019\u0019\u0019\u001f\u0000\u0000\u0000\u0000\u0000\u0000\u0000\u0000\u0000\u0000\u0000\u0000\u0000\u0000\u0000\u0000\u0000\u0000\u0000\u0000\u0000\u0000\u0000\u0000\u0000\u0000\u0000\u0000\u0000\u0000\u0000\u0000\u0000\u0000\u0000\u0000\u0000\u0000\u0000\u0000\u0000\u0000\u0000\u0000\u0000\u0000\u0000\u0000\u0000\u0000\u0000\u0000\u0000\u0000\u0000\u0000\u0000\u0000\u0000\u0000\u0000\u0000\u0000\u0000\u001b\u001b\u001b\u0013\u0016\u0016\u0018�\u0015\u0015\u0017�\u0015\u0015\u0017�\u0015\u0015\u0017�\u0015\u0015\u0017�\u0015\u0015\u0017�\u0016\u0016\u0019G+++\u0006\u0015\u0015\u0017�\u0015\u0015\u0017�\u0015\u0015\u0017�\u0015\u0015\u0017�\u0015\u0015\u0017�\u0015\u0015\u0017�\u0016\u0016\u0019]\u0000\u0000\u0000\u0000\u0000\u0000\u0000\u0000\u0000\u0000\u0000\u0000\u0000\u0000\u0000\u0000\u0000\u0000\u0000\u0000\u0000\u0000\u0000\u0000\u0000\u0000\u0000\u0000\u0000\u0000\u0000\u0000\u0000\u0000\u0000\u0000\u0000\u0000\u0000\u0000\u0000\u0000\u0000\u0000\u0000\u0000\u0000\u0000\u0000\u0000\u0000\u0000\u0000\u0000\u0000\u0000\u0000\u0000\u0000\u0000\u0000\u0000\u0000\u0000\u0018\u0018\u0018I\u0015\u0015\u0017�\u0015\u0015\u0017�\u0015\u0015\u0017�\u0015\u0015\u0017�\u0015\u0015\u0017�\u0015\u0015\u0017�+++\u0006\u0000\u0000\u0000\u0000\u0016\u0016\u0018�\u0015\u0015\u0017�\u0015\u0015\u0017�\u0015\u0015\u0017�\u0015\u0015\u0017�\u0015\u0015\u0017�\u0019\u0019\u00193\u0000\u0000\u0000\u0000\u0000\u0000\u0000\u0000\u0000\u0000\u0000\u0000\u0000\u0000\u0000\u0000\u0000\u0000\u0000\u0000\u0000\u0000\u0000\u0000\u0000\u0000\u0000\u0000\u0000\u0000\u0000\u0000\u0000\u0000\u0000\u0000\u0000\u0000\u0000\u0000\u0000\u0000\u0000\u0000\u0000\u0000\u0000\u0000\u0000\u0000\u0000\u0000\u0000\u0000\u0000\u0000\u0000\u0000\u0000\u0000\u0000\u0000\u0000\u0000\u001a\u001a\u001a\u001e",
      "\u0015\u0015\u0017�\u0015\u0015\u0017�\u0015\u0015\u0017�\u0015\u0015\u0017�\u0015\u0015\u0017�\u0016\u0016\u0018�\u0000\u0000\u0000\u0000\u0000\u0000\u0000\u0000\u0015\u0015 \u0018\u0016\u0016\u0018�\u0015\u0015\u0017�\u0015\u0015\u0017�\u0015\u0015\u0017�\u0015\u0015\u0017�\u0018\u0018\u00185\u0000\u0000\u0000\u0000\u0000\u0000\u0000\u0000\u0000\u0000\u0000\u0000\u0015\u0015+\f",
      "\u0018\u0018\u0018*���\u0002\u0000\u0000\u0000\u0000\u0000\u0000\u0000\u0000\u0000\u0000\u0000\u0000\u0000\u0000\u0000\u0000���\u0001\u001b\u001b\u001b&\u001e",
      "\u001e",
      "\u001e",
      "\u0011\u0000\u0000\u0000\u0000\u0000\u0000\u0000\u0000\u0000\u0000\u0000\u0000\u0017\u0017\u0017!\u0015\u0015\u0017�\u0015\u0015\u0017�\u0015\u0015\u0017�\u0015\u0015\u0017�\u0016\u0016\u0018�\u0015\u0015 \u0018\u0000\u0000\u0000\u0000\u0000\u0000\u0000\u0000\u0000\u0000\u0000\u0000\u0016\u0016\u0018�\u0015\u0015\u0017�\u0015\u0015\u0017�\u0015\u0015\u0017�\u0015\u0015\u0017�\u0017\u0017\u0019f\u0000\u0000\u0000\u0000@@@\u0004\u0017\u0017\u0017b\u0016\u0016\u0017�\u0015\u0015\u0017�\u0016\u0016\u0017�\u0016\u0016\u0017�\u0015\u0015\u0018�\u0015\u0015\u0018�\u0016\u0016\u0017�\u0015\u0015\u0017�\u0015\u0015\u0017�\u0016\u0016\u0018�\u0015\u0015\u0018l+++\u0006\u0000\u0000\u0000\u0000\u0016\u0016\u0019R\u0015\u0015\u0017�\u0015\u0015\u0017�\u0015\u0015\u0017�\u0015\u0015\u0017�\u0016\u0016\u0018�\u0000\u0000\u0000\u0000\u0000\u0000\u0000\u0000\u0000\u0000\u0000\u0000\u0000\u0000\u0000\u0000$$$\u0007\u0016\u0016\u0018�\u0015\u0015\u0017�\u0015\u0015\u0017�\u0015\u0015\u0017�\u0015\u0015\u0018�\u0015\u0015\u0018�\u0016\u0016\u0018�\u0015\u0015\u0017�\u0015\u0015\u0017�\u0015\u0015\u0017�\u0015\u0015\u0017�\u0015\u0015\u0017�\u0015\u0015\u0017�\u0015\u0015\u0017�\u0015\u0015\u0017�\u0015\u0015\u0017�\u0015\u0015\u0017�\u0015\u0015\u0017�\u0015\u0015\u0017�\u0015\u0015\u0017�\u0015\u0015\u0018�\u0015\u0015\u0018�\u0015\u0015\u0017�\u0015\u0015\u0017�\u0015\u0015\u0017�\u0016\u0016\u0018�$$$\u0007\u0000\u0000\u0000\u0000\u0000\u0000\u0000\u0000\u0000\u0000\u0000\u0000\u0000\u0000\u0000\u0000\u0000\u0000\u0000\u0000\u0015\u0015 \u0018\u0015\u0015\u0018�\u0015\u0015\u0017�\u0015\u0015\u0017�\u0015\u0015\u0017�\u0015\u0015\u0017�\u0015\u0015\u0017�\u0015\u0015\u0017�\u0015\u0015\u0017�\u0015\u0015\u0017�\u0015\u0015\u0017�\u0015\u0015\u0017�\u0015\u0015\u0017�\u0015\u0015\u0017�\u0015\u0015\u0017�\u0015\u0015\u0017�\u0015\u0015\u0017�\u0015\u0015\u0017�\u0015\u0015\u0017�\u0015\u0015\u0017�\u0015\u0015\u0017�\u0015\u0015\u0017�\u0015\u0015\u0017�\u0015\u0015\u0017�\u0015\u0015\u0018�\u0015\u0015 \u0018\u0000\u0000\u0000\u0000\u0000\u0000\u0000\u0000\u0000\u0000\u0000\u0000\u0000\u0000\u0000\u0000\u0000\u0000\u0000\u0000\u0000\u0000\u0000\u0000\u0000\u0000\u0000\u0000\u0016\u0016\u001c",
      ".\u0015\u0015\u0018�\u0015\u0015\u0017�\u0015\u0015\u0017�\u0015\u0015\u0017�\u0015\u0015\u0017�\u0015\u0015\u0017�\u0015\u0015\u0017�\u0015\u0015\u0017�\u0015\u0015\u0017�\u0015\u0015\u0017�\u0015\u0015\u0017�\u0015\u0015\u0017�\u0015\u0015\u0017�\u0015\u0015\u0017�\u0015\u0015\u0017�\u0015\u0015\u0017�\u0015\u0015\u0017�\u0015\u0015\u0017�\u0015\u0015\u0017�\u0015\u0015\u0017�\u0015\u0015\u0017�\u0015\u0015\u0018�\u0016\u0016\u001c",
      ".\u0000\u0000\u0000\u0000\u0000\u0000\u0000\u0000\u0000\u0000\u0000\u0000\u0000\u0000\u0000\u0000\u0000\u0000\u0000\u0000\u0000\u0000\u0000\u0000\u0000\u0000\u0000\u0000\u0000\u0000\u0000\u0000\u0000\u0000\u0000\u0000\u0015\u0015 \u0018\u0016\u0016\u0018�\u0015\u0015\u0017�\u0015\u0015\u0017�\u0015\u0015\u0017�\u0015\u0015\u0017�\u0015\u0015\u0017�\u0015\u0015\u0017�\u0015\u0015\u0017�\u0015\u0015\u0017�\u0015\u0015\u0017�\u0015\u0015\u0017�\u0015\u0015\u0017�\u0015\u0015\u0017�\u0015\u0015\u0017�\u0015\u0015\u0017�\u0015\u0015\u0017�\u0015\u0015\u0017�\u0015\u0015\u0017�\u0015\u0015\u0017�\u0016\u0016\u0018�\u0015\u0015 \u0018\u0000\u0000\u0000\u0000\u0000\u0000\u0000\u0000\u0000\u0000\u0000\u0000\u0000\u0000\u0000\u0000\u0000\u0000\u0000\u0000\u0000\u0000\u0000\u0000\u0000\u0000\u0000\u0000\u0000\u0000\u0000\u0000\u0000\u0000\u0000\u0000\u0000\u0000\u0000\u0000\u0000\u0000\u0000\u0000$$$\u0007\u0016\u0016\u0018�\u0016\u0016\u0018�\u0015\u0015\u0017�\u0015\u0015\u0017�\u0015\u0015\u0017�\u0015\u0015\u0017�\u0015\u0015\u0017�\u0015\u0015\u0017�\u0015\u0015\u0017�\u0015\u0015\u0017�\u0015\u0015\u0017�\u0015\u0015\u0017�\u0015\u0015\u0017�\u0015\u0015\u0017�\u0015\u0015\u0017�\u0015\u0015\u0017�\u0016\u0016\u0018�\u0016\u0016\u0018�$$$\u0007\u0000\u0000\u0000\u0000\u0000\u0000\u0000\u0000\u0000\u0000\u0000\u0000\u0000\u0000\u0000\u0000\u0000\u0000\u0000\u0000\u0000\u0000\u0000\u0000\u0000\u0000\u0000\u0000\u0000\u0000\u0000\u0000\u0000\u0000\u0000\u0000\u0000\u0000\u0000\u0000\u0000\u0000\u0000\u0000\u0000\u0000\u0000\u0000\u0000\u0000\u0000\u0000\u0000\u0000\u0000\u0000\u0015\u0015 \u0018\u0016\u0016\u0018�\u0015\u0015\u0017�\u0015\u0015\u0017�\u0015\u0015\u0017�\u0015\u0015\u0017�\u0015\u0015\u0017�\u0015\u0015\u0017�\u0015\u0015\u0017�\u0015\u0015\u0017�\u0015\u0015\u0017�\u0015\u0015\u0017�\u0015\u0015\u0017�\u0015\u0015\u0017�\u0016\u0016\u0018�\u0015\u0015 \u0018\u0000\u0000\u0000\u0000\u0000\u0000\u0000\u0000\u0000\u0000\u0000\u0000\u0000\u0000\u0000\u0000\u0000\u0000\u0000\u0000\u0000\u0000\u0000\u0000\u0000\u0000\u0000\u0000\u0000\u0000\u0000\u0000\u0000\u0000\u0000\u0000\u0000\u0000\u0000\u0000\u0000\u0000\u0000\u0000\u0000\u0000\u0000\u0000\u0000\u0000\u0000\u0000\u0000\u0000\u0000\u0000\u0000\u0000\u0000\u0000\u0000\u0000\u0000\u0000\u0000\u0000\u0000\u0000\u0000\u0000\u0000\u0000+++\u0006\u0016\u0016\u0019G\u0016\u0016\u0018�\u0015\u0015\u0018�\u0015\u0015\u0018�\u0016\u0016\u0017�\u0016\u0016\u0017�\u0015\u0015\u0018�\u0015\u0015\u0018�\u0016\u0016\u0018�\u0016\u0016\u0019G+++\u0006\u0000\u0000\u0000\u0000\u0000\u0000\u0000\u0000\u0000\u0000\u0000\u0000\u0000\u0000\u0000\u0000\u0000\u0000\u0000\u0000\u0000\u0000\u0000\u0000\u0000\u0000\u0000\u0000\u0000\u0000\u0000\u0000\u0000\u0000\u0000\u0000\u0000\u0000\u0000\u0000\u0000\u0000\u0000\u0000\u0000\u0000\u0000\u0000\u0000\u0000\u0000\u0000\u0000\u0000\u0000\u0000\u0000\u0000\u0000\u0000\u0000\u0000\u0000\u0000\u0000\u0000\u0000\u0000\u0000\u0000\u0000\u0000\u0000\u0000\u0000\u0000\u0000\u0000\u0000\u0000\u0000\u0000\u0000\u0000\u0000\u0000\u0000\u0000\u0000\u0000\u0000\u0000\u0000\u0000\u0000\u0000\u0000\u0000\u0000\u0000\u0000\u0000\u0000\u0000\u0000\u0000\u0000\u0000\u0000\u0000\u0000\u0000\u0000\u0000\u0000\u0000\u0000\u0000\u0000\u0000\u0000\u0000\u0000\u0000\u0000\u0000\u0000\u0000\u0000\u0000\u0000\u0000\u0000\u0000\u0000\u0000\u0000\u0000\u0000\u0000\u0000\u0000\u0000\u0000\u0000\u0000\u0000\u0000\u0000\u0000\u0000\u0000\u0000\u0000\u0000\u0000\u0000\u0000\u0000\u0000\u0000\u0000\u0000\u0000\u0000\u0000\u0000\u0000\u0000\u0000\u0000\u0000\u0000\u0000\u0000\u0000\u0000\u0000\u0000\u0000\u0000\u0000\u0000\u0000\u0000\u0000\u0000\u0000\u0000\u0000\u0000\u0000\u0000\u0000\u0000\u0000\u0000\u0000\u0000\u0000\u0000\u0000\u0000\u0000\u0000\u0000\u0000\u0000\u0000\u0000\u0000\u0000\u0000\u0000\u0000\u0000\u0000\u0000\u0000\u0000\u0000\u0000\u0000\u0000\u0000\u0000\u0000\u0000\u0000\u0000\u0000\u0000\u0000\u0000\u0000\u0000\u0000\u0000\u0000\u0000\u0000\u0000\u0000\u0000\u0000\u0000\u0000\u0000\u0000\u0000\u0000\u0000\u0000\u0000\u0000\u0000\u0000\u0000\u0000\u0000\u0000\u0000\u0000\u0000\u0000\u0000\u0000\u0000\u0000\u0000\u0000\u0000\u0000\u0000\u0000\u0000\u0000\u0000\u0000\u0000\u0000\u0000\u0000\u0000\u0000\u0000\u0000\u0000\u0000\u0000\u0000\u0000\u0000\u0000\u0000\u0000\u0000\u0000\u0000\u0000\u0000\u0000\u0000\u0000\u0000\u0000\u0000\u0000\u0000\u0000\u0000\u0000\u0000\u0000\u0000\u0000\u0000\u0000\u0000\u0000\u0000\u0000\u0000\u0000\u0000\u0000\u0000\u0000\u0000\u0000\u0000\u0000\u0000\u0000\u0000\u0000\u0000\u0000\u0000\u0000\u0000\u0000\u0000\u0000\u0000\u0000\u0000\u0000\u0000\u0000\u0000\u0000\u0000\u0000\u0000\u0000\u0000\u0000\u0000\u0000\u0000\u0000\u0000\u0000\u0000\u0000\u0000\u0000\u0000\u0000\u0000\u0000\u0000\u0000\u0000\u0000\u0000\u0000\u0000\u0000\u0000\u0000\u0000\u0000\u0000\u0000\u0000\u0000\u0000\u0000\u0000\u0000\u0000\u0000\u0000\u0000\u0000\u0000\u0000\u0000\u0000\u0000\u0000\u0000\u0000\u0000\u0000\u0000\u0000\u0000\u0000\u0000\u0000\u0000\u0000\u0000\u0000\u0000\u0000\u0000\u0000\u0000\u0000\u0000\u0000\u0000\u0000\u0000\u0000\u0000\u0000\u0000\u0000\u0000\u0000\u0000\u0000\u0000\u0000\u0000\u0000\u0000\u0000\u0000\u0000\u0000\u0000\u0000\u0000\u0000\u0000\u0000\u0000\u0000\u0000\u0000\u0000\u0000\u0000\u0000\u0000\u0000\u0000\u0000\u0000\u0000\u0000\u0000\u0000\u0000\u0000\u0000\u0000\u0000\u0000\u0000\u0000\u0000\u0000\u0000\u0000\u0000\u0000\u0000\u0000\u0000\u0000\u0000\u0000\u0000\u0000\u0000\u0000\u0000\u0000\u0000\u0000\u0000\u0000\u0000\u0000\u0000\u0000\u0000\u0000\u0000\u0000\u0000\u0000\u0000\u0000\u0000\u0000\u0000\u0000\u0000\u0000\u0000\u0000\u0000\u0000\u0000\u0000\u0000\u0000\u0000\u0000\u0000\u0000\u0000\u0000\u0000\u0000\u0000\u0000\u0000\u0000\u0000\u0000\u0000\u0000\u0000\u0000\u0000\u0000\u0000\u0000\u0000\u0000\u0000\u0000\u0000\u0000\u0000\u0000\u0000\u0000\u0000\u0000\u0000\u0000\u0000\u0000\u0000\u0000\u0000\u0000\u0000\u0000\u0000\u0000\u0000\u0000\u0000\u0000\u0000\u0000\u0000\u0000\u0000\u0000\u0000\u0000\u0000\u0000\u0000\u0000\u0000\u0000\u0000\u0000\u0000\u0000\u0000\u0000\u0000\u0000\u0000\u0000\u0000\u0000\u0000\u0000\u0000\u0000\u0000\u0000\u0000\u0000\u0000\u0000\u0000\u0000\u0000\u0000\u0000\u0000\u0000\u0000\u0000\u0000\u0000\u0000\u0000\u0000\u0000\u0000\u0000\u0000\u0000\u0000\u0000\u0000\u0000\u0000\u0000\u0000\u0000\u0000\u0000\u0000\u0000\u0000\u0000\u0000\u0000\u0000\u0000\u0000\u0000\u0000\u0000\u0000\u0000\u0000\u0000\u0000\u0000\u0000\u0000\u0000\u0000\u0000\u0000\u0000\u0000\u0000\u0000\u0000\u0000\u0000\u0000\u0000\u0000\u0000\u0000\u0000\u0000\u0000\u0000\u0000\u0000\u0000\u0000\u0000\u0000\u0000\u0000\u0000\u0000\u0000\u0000\u0000\u0000\u0000\u0000\u0000\u0000\u0000\u0000\u0000\u0000\u0000\u0000\u0000\u0000\u0000\u0000\u0000\u0000\u0000\u0000\u0000\u0000\u0000\u0000\u0000\u0000\u0000\u0000\u0000\u0000\u0000\u0000\u0000\u0000\u0000\u0000\u0000\u0000\u0000\u0000\u0000\u0000\u0000\u0000\u0000\u0000\u0000\u0000\u0000\u0000\u0000\u0000\u0000\u0000\u0000\u0000\u0000\u0000\u0000\u0000\u0000\u0000\u0000\u0000\u0000\u0000\u0000\u0000\u0000\u0000\u0000\u0000\u0000\u0000\u0000\u0000\u0000\u0000\u0000\u0000\u0000\u0000\u0000\u0000\u0000\u0000\u0000\u0000\u0000\u0000\u0000\u0000\u0000\u0000\u0000\u0000\u0000\u0000\u0000\u0000\u0000\u0000\u0000\u0000\u0000\u0000\u0000\u0000\u0000\u0000\u0000\u0000\u0000\u0000\u0000\u0000\u0000\u0000\u0000\u0000\u0000\u0000\u0000\u0000\u0000\u0000\u0000\u0000\u0000\u0000\u0000\u0000\u0000\u0000\u0000\u0000\u0000\u0000\u0000\u0000\u0000\u0000\u0000\u0000\u0000\u0000\u0000\u0000\u0000\u0000\u0000\u0000\u0000\u0000\u0000\u0000\u0000\u0000\u0000\u0000\u0000\u0000\u0000\u0000\u0000\u0000\u0000\u0000\u0000\u0000\u0000\u0000\u0000\u0000\u0000\u0000\u0000\u0000\u0000\u0000\u0000\u0000\u0000\u0000\u0000\u0000\u0000\u0000\u0000\u0000\u0000\u0000\u0000\u0000\u0000\u0000\u0000\u0000\u0000\u0000\u0000\u0000\u0000\u0000\u0000\u0000\u0000\u0000\u0000\u0000\u0000\u0000\u0000\u0000\u0000\u0000\u0000\u0000\u0000\u0000\u0000\u0000\u0000\u0000\u0000\u0000\u0000\u0000\u0000\u0000\u0000\u0000\u0000\u0000\u0000\u0000\u0000\u0000\u0000\u0000\u0000\u0000\u0000\u0000\u0000\u0000\u0000\u0000\u0000\u0000\u0000\u0000\u0000\u0000\u0000\u0000\u0000\u0000\u0000\u0000\u0000\u0000\u0000\u0000\u0000\u0000\u0000\u0000\u0000\u0000\u0000\u0000\u0000\u0000\u0000\u0000\u0000\u0000\u0000\u0000\u0000\u0000\u0000\u0000\u0000\u0000\u0000\u0000\u0000\u0000\u0000\u0000\u0000\u0000\u0000\u0000\u0000\u0000\u0000\u0000\u0000\u0000\u0000\u0000\u0000\u0000\u0000\u0000\u0000\u0000\u0000\u0000\u0000\u0000\u0000\u0000\u0000\u0000\u0000\u0000\u0000\u0000\u0000\u0000\u0000\u0000\u0000\u0000\u0000\u0000\u0000\u0000\u0000\u0000\u0000\u0000\u0000\u0000\u0000\u0000\u0000\u0000\u0000\u0000\u0000\u0000\u0000\u0000\u0000\u0000\u0000\u0000\u0000\u0000\u0000\u0000\u0000\u0000\u0000\u0000\u0000\u0000\u0000\u0000\u0000\u0000\u0000\u0000\u0000\u0000\u0000\u0000\n",
      "b'\\x00\\x00\\x01\\x00\\x02\\x00\\x10\\x10\\x00\\x00\\x01\\x00 \\x00(\\x05\\x00\\x00&\\x00\\x00\\x00  \\x00\\x00\\x01\\x00 \\x00(\\x14\\x00\\x00N\\x05\\x00\\x00(\\x00\\x00\\x00\\x10\\x00\\x00\\x00 \\x00\\x00\\x00\\x01\\x00 \\x00\\x00\\x00\\x00\\x00\\x00\\x05\\x00\\x00\\x00\\x00\\x00\\x00\\x00\\x00\\x00\\x00\\x00\\x00\\x00\\x00\\x00\\x00\\x00\\x00\\x00\\x00\\x00\\x00\\x00\\x00\\x00\\x00\\x00\\x00\\x00\\x00\\x00\\x00\\x00\\x00\\x11\\x11\\x13v\\x13\\x13\\x13\\xc5\\x0e\\x0e\\x0e\\x12\\x00\\x00\\x00\\x00\\x00\\x00\\x00\\x00\\x0f\\x0f\\x0f\\x11\\x11\\x11\\x14\\xb1\\x13\\x13\\x13i\\x00\\x00\\x00\\x00\\x00\\x00\\x00\\x00\\x00\\x00\\x00\\x00\\x00\\x00\\x00\\x00\\x00\\x00\\x00\\x00\\x00\\x00\\x00\\x00\\x00\\x00\\x00\\x00\\x14\\x14\\x14\\x96\\x13\\x13\\x14\\xfc\\x13\\x13\\x14\\xed\\x00\\x00\\x00\\x19\\x00\\x00\\x00\\x00\\x00\\x00\\x00\\x00\\x00\\x00\\x00\\x18\\x15\\x15\\x17\\xff\\x15\\x15\\x17\\xff\\x11\\x11\\x13\\x85\\x00\\x00\\x00\\x00\\x00\\x00\\x00\\x00\\x00\\x00\\x00\\x00\\x00\\x00\\x00\\x00\\x00\\x00\\x00\\x00\\x11\\x11\\x12\\xc1\\x13\\x13\\x14\\xee\\x11\\x11\\x11\\x1e\\x10\\x10\\x10\\x10\\x00\\x00\\x00\\x00\\x00\\x00\\x00\\x00\\x00\\x00\\x00\\x00\\x00\\x00\\x00\\r\\x13\\x13\\x14\\xf5\\x15\\x15\\x17\\xff\\x15\\x15\\x17\\xff\\x11\\x11\\x14\\xaf\\x00\\x00\\x00\\x00\\x00\\x00\\x00\\x00\\x00\\x00\\x00\\x00\\x14\\x14\\x14\\x99\\x15\\x15\\x17\\xff\\x06\\x06\\x11,\\x0e\\x0e\\x0e\\\\\\x0f\\x0f\\x0f\\xc1\\x0f\\x0f\\x0f\"\\x00\\x00\\x00\\x00\\x00\\x00\\x00\\x00\\x0f\\x0f\\x0f4\\x10\\x10\\x10\\xff\\x15\\x15\\x17\\xff\\x15\\x15\\x17\\xff\\x15\\x15\\x17\\xff\\x14\\x14\\x14\\x8f\\x00\\x00\\x00\\x00\\x10\\x10\\x100\\x0f\\r\\x0f\\xff\\x00\\x00\\x00\\xf9\\x01\\x01\\x01\\xed\\x02\\x02\\x02\\xff\\x02\\x02\\x02\\xf6\\x0e\\x0e\\x0e8\\x00\\x00\\x00\\x00\\x00\\x00\\x00\\x00\\x08\\x08\\x08@\\x02\\x02\\x02\\xeb\\x15\\x15\\x17\\xff\\x15\\x15\\x17\\xff\\x15\\x15\\x17\\xff\\x15\\x15\\x17\\xff\\x11\\x11\\x11-\\x14\\x14\\x15\\x9c\\x14\\x14\\x15\\xff\\x01\\x01\\x01\\xfc\\x0f\\x0f\\x11\\xfb\\r\\r\\x11;\\x00\\x00\\x00\\x00\\x00\\x00\\x00\\x00\\x00\\x00\\x00\\x00\\x00\\x00\\x00\\x00\\x00\\x00\\x00\\x00\\x00\\x00\\x00\\x00\\r\\r\\x12:\\x13\\x13\\x14\\xe7\\x15\\x15\\x17\\xff\\x15\\x15\\x17\\xff\\x12\\x12\\x12\\x9a\\x13\\x13\\x13\\xd9\\x15\\x15\\x17\\xff\\x15\\x15\\x17\\xff\\x13\\x13\\x13O\\x00\\x00\\x00\\x00\\x00\\x00\\x00\\x00\\x00\\x00\\x00\\x00\\x00\\x00\\x00\\x00\\x00\\x00\\x00\\x00\\x00\\x00\\x00\\x00\\x00\\x00\\x00\\x00\\x00\\x00\\x00\\x00\\x11\\x11\\x11L\\x15\\x15\\x17\\xff\\x15\\x15\\x17\\xff\\x13\\x13\\x13\\xda\\x13\\x13\\x14\\xf6\\x15\\x15\\x17\\xff\\x14\\x14\\x14\\xf0\\x00\\x00\\x00\\x02\\x00\\x00\\x00\\x00\\x00\\x00\\x00\\x00\\x00\\x00\\x00\\x00\\x00\\x00\\x00\\x00\\x00\\x00\\x00\\x00\\x00\\x00\\x00\\x00\\x00\\x00\\x00\\x00\\x00\\x00\\x00\\x00\\x00\\x00\\x00\\x02\\x13\\x13\\x14\\xf1\\x15\\x15\\x17\\xff\\x13\\x13\\x14\\xf6\\x13\\x13\\x14\\xf7\\x15\\x15\\x17\\xff\\x14\\x14\\x14\\xe1\\x00\\x00\\x00\\x00\\x00\\x00\\x00\\x00\\x00\\x00\\x00\\x00\\x00\\x00\\x00\\x00\\x00\\x00\\x00\\x00\\x00\\x00\\x00\\x00\\x00\\x00\\x00\\x00\\x00\\x00\\x00\\x00\\x00\\x00\\x00\\x00\\x00\\x00\\x00\\x00\\x14\\x14\\x14\\xe1\\x15\\x15\\x17\\xff\\x13\\x13\\x14\\xf7\\x14\\x14\\x14\\xde\\x15\\x15\\x17\\xff\\x13\\x13\\x14\\xf9\\x0f\\x0f\\x0f!\\x00\\x00\\x00\\x00\\x00\\x00\\x00\\x00\\x00\\x00\\x00\\x00\\x00\\x00\\x00\\x00\\x00\\x00\\x00\\x00\\x00\\x00\\x00\\x00\\x00\\x00\\x00\\x00\\x00\\x00\\x00\\x00\\x10\\x10\\x10\\x1f\\x13\\x13\\x14\\xf8\\x15\\x15\\x17\\xff\\x14\\x14\\x14\\xde\\x11\\x11\\x14\\xa2\\x15\\x15\\x17\\xff\\x15\\x15\\x17\\xff\\x0f\\x0f\\x0f4\\x00\\x00\\x00\\x00\\x00\\x00\\x00\\x00\\x00\\x00\\x00\\x00\\x00\\x00\\x00\\x00\\x00\\x00\\x00\\x00\\x00\\x00\\x00\\x00\\x00\\x00\\x00\\x00\\x00\\x00\\x00\\x00\\x10\\x10\\x10@\\x15\\x15\\x17\\xff\\x15\\x15\\x17\\xff\\x11\\x11\\x14\\xa2\\x0e\\x0e\\x0e8\\x15\\x15\\x17\\xff\\x15\\x15\\x17\\xff\\x12\\x12\\x12\\x98\\x00\\x00\\x00\\x00\\x00\\x00\\x00\\x0c\\x00\\x00\\x00\\n\\x00\\x00\\x00\\x00\\x00\\x00\\x00\\x00\\x00\\x00\\x00\\x0c\\x00\\x00\\x00\\x01\\x00\\x00\\x00\\x00\\x12\\x12\\x12\\x98\\x15\\x15\\x17\\xff\\x15\\x15\\x17\\xff\\x0e\\x0e\\x0e8\\x00\\x00\\x00\\x00\\x11\\x11\\x14\\xa4\\x15\\x15\\x17\\xff\\x11\\x11\\x12\\xc1\\x0e\\x0e\\x0e6\\x00\\x00\\x00\\x81\\r\\r\\r\\xdc\\x12\\x12\\x14\\xd8\\x12\\x12\\x14\\xd8\\x13\\x13\\x14\\xf7\\x00\\x00\\x00t\\x05\\x05\\x057\\x11\\x11\\x12\\xc1\\x15\\x15\\x17\\xff\\x11\\x11\\x14\\xa4\\x00\\x00\\x00\\x00\\x00\\x00\\x00\\x00\\x00\\x00\\x00\\x03\\x13\\x13\\x13\\xc6\\x15\\x15\\x17\\xff\\x15\\x15\\x17\\xff\\x15\\x15\\x17\\xff\\x15\\x15\\x17\\xff\\x15\\x15\\x17\\xff\\x15\\x15\\x17\\xff\\x15\\x15\\x17\\xff\\x15\\x15\\x17\\xff\\x15\\x15\\x17\\xff\\x15\\x15\\x17\\xff\\x13\\x13\\x13\\xc6\\x00\\x00\\x00\\x03\\x00\\x00\\x00\\x00\\x00\\x00\\x00\\x00\\x00\\x00\\x00\\x00\\x00\\x00\\x00\\x03\\x11\\x11\\x14\\xa2\\x15\\x15\\x17\\xff\\x15\\x15\\x17\\xff\\x15\\x15\\x17\\xff\\x15\\x15\\x17\\xff\\x15\\x15\\x17\\xff\\x15\\x15\\x17\\xff\\x15\\x15\\x17\\xff\\x15\\x15\\x17\\xff\\x11\\x11\\x14\\xa2\\x00\\x00\\x00\\x03\\x00\\x00\\x00\\x00\\x00\\x00\\x00\\x00\\x00\\x00\\x00\\x00\\x00\\x00\\x00\\x00\\x00\\x00\\x00\\x00\\x00\\x00\\x00\\x00\\x10\\x10\\x10>\\x13\\x13\\x13\\x97\\x13\\x13\\x13\\xd9\\x12\\x12\\x14\\xf2\\x12\\x12\\x14\\xf2\\x13\\x13\\x13\\xd9\\x13\\x13\\x13\\x97\\x10\\x10\\x10>\\x00\\x00\\x00\\x00\\x00\\x00\\x00\\x00\\x00\\x00\\x00\\x00\\x00\\x00\\x00\\x00\\x00\\x00\\x00\\x00\\x00\\x00\\x00\\x00\\x00\\x00\\x00\\x00\\x00\\x00\\x00\\x00\\x00\\x00\\x00\\x00\\x00\\x00\\x00\\x00\\x00\\x00\\x00\\x00\\x00\\x00\\x00\\x00\\x00\\x00\\x00\\x00\\x00\\x00\\x00\\x00\\x00\\x00\\x00\\x00\\x00\\x00\\x00\\x00\\x00\\x00\\x00\\x00\\x00\\x00\\x00\\x00\\x00\\x00\\x00\\x00\\x00\\x00\\x00\\x00\\x00\\x00\\x00\\x00\\x00\\x00\\x00\\x00\\x00\\x00\\x00\\x00\\x00\\x00\\x00\\x00\\x00\\x00\\x00\\x00\\x00\\x00\\x00\\x00\\x00\\x00\\x00\\x00\\x00\\x00\\x00\\x00\\x00\\x00\\x00\\x00\\x00\\x00\\x00\\x00\\x00\\x00\\x00\\x00\\x00\\x00\\x00\\x00\\x00\\x00\\x00\\x00\\x00\\x00\\x00\\x00\\x00\\x00\\x00\\x00\\x00\\x00\\x00\\x00\\x00\\x00\\x00\\x00\\x00\\x00\\x00\\x00\\x00\\x00\\x00\\x00\\x00\\x00\\x00\\x00\\x00\\x00\\x00\\x00\\x00\\x00\\x00\\x00\\x00\\x00\\x00\\x00\\x00\\x00\\x00\\x00\\x00\\x00\\x00\\x00\\x00\\x00\\x00\\x00\\x00\\x00\\x00\\x00\\x00\\x00\\x00\\x00\\x00\\x00\\x00\\x00\\x00\\x00\\x00\\x00\\x00\\x00\\x00\\x00\\x00\\x00\\x00\\x00\\x00\\x00\\x00\\x00\\x00\\x00\\x00\\x00\\x00\\x00\\x00\\x00\\x00\\x00\\x00\\x00\\x00\\x00\\x00\\x00\\x00\\x00\\x00\\x00\\x00\\x00\\x00\\x00\\x00\\x00\\x00\\x00\\x00\\x00\\x00\\x00\\x00\\x00\\x00\\x00\\x00\\x00\\x00\\x00\\x00\\x00\\x00\\x00\\x00\\x00\\x00\\x00\\x00\\x00\\x00\\x00\\x00\\x00\\x00\\x00\\x00\\x00\\x00\\x00(\\x00\\x00\\x00 \\x00\\x00\\x00@\\x00\\x00\\x00\\x01\\x00 \\x00\\x00\\x00\\x00\\x00\\x00\\x14\\x00\\x00\\x00\\x00\\x00\\x00\\x00\\x00\\x00\\x00\\x00\\x00\\x00\\x00\\x00\\x00\\x00\\x00\\x00\\x00\\x00\\x00\\x00\\x00\\x00\\x00\\x00\\x00\\x00\\x00\\x00\\x00\\x00\\x00\\x00\\x00\\x00\\x00\\x00\\x00\\x00\\x00\\x00\\x00\\x00\\x00\\x00\\x00\\x00\\x00\\x00\\x00\\x00\\x00\\x00\\x00\\x00\\x00\\x15\\x15+\\x0c\\x1e\\x1e\\x1e\\x11\\x00\\x00\\x00\\x00\\x00\\x00\\x00\\x00\\x00\\x00\\x00\\x00\\x00\\x00\\x00\\x00\\x00\\x00\\x00\\x00\\x00\\x00\\x00\\x00\\x00\\x00\\x00\\x00\\x00\\x00\\x00\\x00\\x1b\\x1b\\x1b\\x1c$$$\\x0e\\x00\\x00\\x00\\x00\\x00\\x00\\x00\\x00\\x00\\x00\\x00\\x00\\x00\\x00\\x00\\x00\\x00\\x00\\x00\\x00\\x00\\x00\\x00\\x00\\x00\\x00\\x00\\x00\\x00\\x00\\x00\\x00\\x00\\x00\\x00\\x00\\x00\\x00\\x00\\x00\\x00\\x00\\x00\\x00\\x00\\x00\\x00\\x00\\x00\\x00\\x00\\x00\\x00\\x00\\x00\\x00\\x00\\x00\\x00\\x00\\x00\\x00\\x00\\x00\\x00\\x00\\x00\\x00\\x00\\x00\\x00\\x00\\x16\\x16\\x1d#\\x17\\x17\\x18\\x92\\x15\\x15\\x17\\xf1\\x16\\x16\\x17\\xf3@@@\\x04\\x00\\x00\\x00\\x00\\x00\\x00\\x00\\x00\\x00\\x00\\x00\\x00\\x00\\x00\\x00\\x00\\x00\\x00\\x00\\x00\\x00\\x00\\x00\\x00\\x00\\x00\\x00\\x00\\x16\\x16\\x18\\xed\\x16\\x16\\x17\\xf3\\x16\\x16\\x18\\x95\\x1c\\x1c\\x1c%\\x00\\x00\\x00\\x00\\x00\\x00\\x00\\x00\\x00\\x00\\x00\\x00\\x00\\x00\\x00\\x00\\x00\\x00\\x00\\x00\\x00\\x00\\x00\\x00\\x00\\x00\\x00\\x00\\x00\\x00\\x00\\x00\\x00\\x00\\x00\\x00\\x00\\x00\\x00\\x00\\x00\\x00\\x00\\x00\\x00\\x00\\x00\\x00\\x00\\x00\\x00\\x00\\x00\\x00\\x00\\x00$$$\\x07\\x16\\x16\\x18\\x80\\x16\\x16\\x18\\xf8\\x15\\x15\\x17\\xff\\x15\\x15\\x17\\xff\\x15\\x15\\x17\\xff   \\x08\\x00\\x00\\x00\\x00\\x00\\x00\\x00\\x00\\x00\\x00\\x00\\x00\\x00\\x00\\x00\\x00\\x00\\x00\\x00\\x00\\x00\\x00\\x00\\x00\\x00\\x00\\x00\\x00\\x15\\x15\\x17\\xfe\\x15\\x15\\x17\\xff\\x15\\x15\\x17\\xff\\x16\\x16\\x18\\xf9\\x16\\x16\\x18\\x82   \\x08\\x00\\x00\\x00\\x00\\x00\\x00\\x00\\x00\\x00\\x00\\x00\\x00\\x00\\x00\\x00\\x00\\x00\\x00\\x00\\x00\\x00\\x00\\x00\\x00\\x00\\x00\\x00\\x00\\x00\\x00\\x00\\x00\\x00\\x00\\x00\\x00\\x00\\x00\\x00\\x00\\x00\\x00\\x00\\x00\\x1b\\x1b\\x1b\\x1c\\x16\\x16\\x17\\xd0\\x15\\x15\\x17\\xff\\x15\\x15\\x17\\xff\\x15\\x15\\x17\\xff\\x15\\x15\\x17\\xff\\x15\\x15\\x17\\xff+++\\x06\\x00\\x00\\x00\\x00\\x00\\x00\\x00\\x00\\x00\\x00\\x00\\x00\\x00\\x00\\x00\\x00\\x00\\x00\\x00\\x00\\x00\\x00\\x00\\x00\\x00\\x00\\x00\\x00\\x15\\x15\\x17\\xfd\\x15\\x15\\x17\\xff\\x15\\x15\\x17\\xff\\x15\\x15\\x17\\xff\\x15\\x15\\x17\\xff\\x16\\x16\\x17\\xd2\\x1a\\x1a\\x1a\\x1e\\x00\\x00\\x00\\x00\\x00\\x00\\x00\\x00\\x00\\x00\\x00\\x00\\x00\\x00\\x00\\x00\\x00\\x00\\x00\\x00\\x00\\x00\\x00\\x00\\x00\\x00\\x00\\x00\\x00\\x00\\x00\\x00\\x00\\x00\\x00\\x00\\x16\\x16\\x1b/\\x15\\x15\\x17\\xe6\\x15\\x15\\x17\\xff\\x15\\x15\\x17\\xfc\\x16\\x16\\x18\\xb8\\x16\\x16\\x18t\\x16\\x16\\x19g\\x16\\x16\\x18~UUU\\x03\\x00\\x00\\x00\\x00\\x00\\x00\\x00\\x00\\x00\\x00\\x00\\x00\\x00\\x00\\x00\\x00\\x00\\x00\\x00\\x00\\x00\\x00\\x00\\x00\\x00\\x00\\x00\\x00\\x15\\x15\\x17\\xfc\\x15\\x15\\x17\\xff\\x15\\x15\\x17\\xff\\x15\\x15\\x17\\xff\\x15\\x15\\x17\\xff\\x15\\x15\\x17\\xff\\x15\\x15\\x17\\xe6\\x16\\x16\\x1b/\\x00\\x00\\x00\\x00\\x00\\x00\\x00\\x00\\x00\\x00\\x00\\x00\\x00\\x00\\x00\\x00\\x00\\x00\\x00\\x00\\x00\\x00\\x00\\x00\\x00\\x00\\x00\\x00\\x1a\\x1a\\x1a\\x1d\\x15\\x15\\x17\\xe6\\x15\\x15\\x17\\xff\\x15\\x15\\x17\\xfc\\x18\\x18\\x18I\\x00\\x00\\x00\\x00\\x00\\x00\\x00\\x00\\x00\\x00\\x00\\x00\\x00\\x00\\x00\\x00\\x00\\x00\\x00\\x00\\x00\\x00\\x00\\x00\\x00\\x00\\x00\\x00\\x00\\x00\\x00\\x00\\x00\\x00\\x00\\x00\\x00\\x00\\x00\\x00\\x00\\x00\\x00\\x00\\x00\\x00\\x00\\x00\\x15\\x15\\x17\\xfb\\x15\\x15\\x17\\xff\\x15\\x15\\x17\\xff\\x15\\x15\\x17\\xff\\x15\\x15\\x17\\xff\\x15\\x15\\x17\\xff\\x15\\x15\\x17\\xff\\x15\\x15\\x17\\xe6\\x1a\\x1a\\x1a\\x1d\\x00\\x00\\x00\\x00\\x00\\x00\\x00\\x00\\x00\\x00\\x00\\x00\\x00\\x00\\x00\\x00\\x00\\x00\\x00\\x00$$$\\x07\\x16\\x16\\x17\\xd1\\x15\\x15\\x17\\xff\\x15\\x15\\x17\\xff\\x15\\x15\\x18\\x9d\\x00\\x00\\x00\\x00\\x15\\x15 \\x18\\x16\\x16\\x18s\\x15\\x15\\x17\\x90\\x17\\x17\\x19f$$$\\x07\\x00\\x00\\x00\\x00\\x00\\x00\\x00\\x00\\x00\\x00\\x00\\x00\\x00\\x00\\x00\\x00\\x00\\x00\\x00\\x00\\x00\\x00\\x00\\x00\\x1c\\x1c\\x1c\\x12\\x15\\x15\\x17\\xff\\x15\\x15\\x17\\xff\\x15\\x15\\x17\\xff\\x15\\x15\\x17\\xff\\x15\\x15\\x17\\xff\\x15\\x15\\x17\\xff\\x15\\x15\\x17\\xff\\x15\\x15\\x17\\xff\\x16\\x16\\x17\\xd1$$$\\x07\\x00\\x00\\x00\\x00\\x00\\x00\\x00\\x00\\x00\\x00\\x00\\x00\\x00\\x00\\x00\\x00\\x16\\x16\\x18\\x81\\x15\\x15\\x17\\xff\\x15\\x15\\x17\\xff\\x15\\x15\\x17\\xf1\\x1b\\x1b\\x1b\\x1c\\x1c\\x1c\\x1c%\\x16\\x16\\x18\\xeb\\x15\\x15\\x17\\xff\\x15\\x15\\x17\\xff\\x15\\x15\\x17\\xff\\x17\\x17\\x1aN\\x00\\x00\\x00\\x00\\x00\\x00\\x00\\x00\\x00\\x00\\x00\\x00\\x00\\x00\\x00\\x00\\x00\\x00\\x00\\x00\\x00\\x00\\x00\\x00\\x18\\x18\\x18@\\x15\\x15\\x17\\xff\\x15\\x15\\x17\\xff\\x15\\x15\\x17\\xff\\x15\\x15\\x17\\xff\\x15\\x15\\x17\\xff\\x15\\x15\\x17\\xff\\x15\\x15\\x17\\xff\\x15\\x15\\x17\\xff\\x15\\x15\\x17\\xff\\x16\\x16\\x18\\x80\\x00\\x00\\x00\\x00\\x00\\x00\\x00\\x00\\x00\\x00\\x00\\x00\\x15\\x15\\x1c$\\x16\\x16\\x18\\xf9\\x15\\x15\\x17\\xff\\x15\\x15\\x18\\xee\\x16\\x16\\x1aE\\x15\\x15+\\x0c\\x16\\x16\\x17\\xcf\\x15\\x15\\x17\\xff\\x15\\x15\\x17\\xff\\x15\\x15\\x17\\xff\\x15\\x15\\x17\\xff\\x16\\x16\\x17\\xc4\\x80\\x80\\x80\\x02\\x00\\x00\\x00\\x00\\x00\\x00\\x00\\x00\\x00\\x00\\x00\\x00\\x00\\x00\\x00\\x00\\x00\\x00\\x00\\x00\\x15\\x15\\x18\\xbf\\x15\\x15\\x17\\xff\\x15\\x15\\x17\\xff\\x15\\x15\\x17\\xff\\x15\\x15\\x17\\xff\\x15\\x15\\x17\\xff\\x15\\x15\\x17\\xff\\x15\\x15\\x17\\xff\\x15\\x15\\x17\\xff\\x15\\x15\\x17\\xff\\x16\\x16\\x18\\xf8\\x16\\x16\\x1d#\\x00\\x00\\x00\\x00\\x00\\x00\\x00\\x00\\x16\\x16\\x18\\x94\\x15\\x15\\x17\\xff\\x15\\x15\\x17\\xff\\x16\\x16\\x17\\x8e\\x17\\x17\\x1aZ\\x16\\x16\\x17\\xd1\\x15\\x15\\x17\\xff\\x15\\x15\\x17\\xff\\x15\\x15\\x18\\xe2\\x16\\x16\\x18\\x80\\x16\\x16\\x1aE\\x1c\\x1c\\x1c\\x12\\x00\\x00\\x00\\x00\\x00\\x00\\x00\\x00\\x00\\x00\\x00\\x00\\x00\\x00\\x00\\x00\\x00\\x00\\x00\\x00\\x00\\x00\\x00\\x00\"\"\"\\x0f\\x17\\x17\\x17B\\x17\\x17\\x19{\\x16\\x16\\x17\\xdb\\x15\\x15\\x17\\xff\\x15\\x15\\x17\\xff\\x15\\x15\\x17\\xff\\x15\\x15\\x17\\xff\\x15\\x15\\x17\\xff\\x15\\x15\\x17\\xff\\x15\\x15\\x17\\xff\\x17\\x17\\x18\\x93\\x00\\x00\\x00\\x00\\'\\'\\'\\r\\x15\\x15\\x17\\xf2\\x15\\x15\\x17\\xff\\x15\\x15\\x17\\xff\\x15\\x15\\x17\\xff\\x15\\x15\\x17\\xff\\x15\\x15\\x17\\xff\\x15\\x15\\x17\\xfe\\x16\\x16\\x18\\x82333\\x05\\x00\\x00\\x00\\x00\\x00\\x00\\x00\\x00\\x00\\x00\\x00\\x00\\x00\\x00\\x00\\x00\\x00\\x00\\x00\\x00\\x00\\x00\\x00\\x00\\x00\\x00\\x00\\x00\\x00\\x00\\x00\\x00\\x00\\x00\\x00\\x00\\x00\\x00\\x00\\x00\\x00\\x00\\x00\\x00\\x00\\x00\\x00\\x00\\x80\\x80\\x80\\x02\\x16\\x16\\x18t\\x15\\x15\\x17\\xfc\\x15\\x15\\x17\\xff\\x15\\x15\\x17\\xff\\x15\\x15\\x17\\xff\\x15\\x15\\x17\\xff\\x15\\x15\\x17\\xff\\x15\\x15\\x17\\xf2\\x15\\x15+\\x0c\\x16\\x16\\x19R\\x15\\x15\\x17\\xff\\x15\\x15\\x17\\xff\\x15\\x15\\x17\\xff\\x15\\x15\\x17\\xff\\x15\\x15\\x17\\xff\\x15\\x15\\x17\\xff\\x16\\x16\\x18t\\x00\\x00\\x00\\x00\\x00\\x00\\x00\\x00\\x00\\x00\\x00\\x00\\x00\\x00\\x00\\x00\\x00\\x00\\x00\\x00\\x00\\x00\\x00\\x00\\x00\\x00\\x00\\x00\\x00\\x00\\x00\\x00\\x00\\x00\\x00\\x00\\x00\\x00\\x00\\x00\\x00\\x00\\x00\\x00\\x00\\x00\\x00\\x00\\x00\\x00\\x00\\x00\\x00\\x00\\x00\\x00\\x00\\x00\\x00\\x00\\x00\\x00\\x00\\x00\\x15\\x15\\x18`\\x15\\x15\\x17\\xff\\x15\\x15\\x17\\xff\\x15\\x15\\x17\\xff\\x15\\x15\\x17\\xff\\x15\\x15\\x17\\xff\\x15\\x15\\x17\\xff\\x16\\x16\\x19R\\x15\\x15\\x19\\x91\\x15\\x15\\x17\\xff\\x15\\x15\\x17\\xff\\x15\\x15\\x17\\xff\\x15\\x15\\x17\\xff\\x15\\x15\\x17\\xff\\x15\\x15\\x18\\xca\\xff\\xff\\xff\\x01\\x00\\x00\\x00\\x00\\x00\\x00\\x00\\x00\\x00\\x00\\x00\\x00\\x00\\x00\\x00\\x00\\x00\\x00\\x00\\x00\\x00\\x00\\x00\\x00\\x00\\x00\\x00\\x00\\x00\\x00\\x00\\x00\\x00\\x00\\x00\\x00\\x00\\x00\\x00\\x00\\x00\\x00\\x00\\x00\\x00\\x00\\x00\\x00\\x00\\x00\\x00\\x00\\x00\\x00\\x00\\x00\\x00\\x00\\x00\\x00\\x00\\x00\\x00\\x00\\x00\\x00\\x00\\x00\\x16\\x16\\x18\\xb7\\x15\\x15\\x17\\xff\\x15\\x15\\x17\\xff\\x15\\x15\\x17\\xff\\x15\\x15\\x17\\xff\\x15\\x15\\x17\\xff\\x15\\x15\\x19\\x91\\x16\\x16\\x18\\xc9\\x15\\x15\\x17\\xff\\x15\\x15\\x17\\xff\\x15\\x15\\x17\\xff\\x15\\x15\\x17\\xff\\x15\\x15\\x17\\xff\\x16\\x16\\x19\\\\\\x00\\x00\\x00\\x00\\x00\\x00\\x00\\x00\\x00\\x00\\x00\\x00\\x00\\x00\\x00\\x00\\x00\\x00\\x00\\x00\\x00\\x00\\x00\\x00\\x00\\x00\\x00\\x00\\x00\\x00\\x00\\x00\\x00\\x00\\x00\\x00\\x00\\x00\\x00\\x00\\x00\\x00\\x00\\x00\\x00\\x00\\x00\\x00\\x00\\x00\\x00\\x00\\x00\\x00\\x00\\x00\\x00\\x00\\x00\\x00\\x00\\x00\\x00\\x00\\x00\\x00\\x00\\x00\\x00\\x00\\x00\\x00\\x16\\x16\\x19G\\x15\\x15\\x17\\xff\\x15\\x15\\x17\\xff\\x15\\x15\\x17\\xff\\x15\\x15\\x17\\xff\\x15\\x15\\x17\\xff\\x16\\x16\\x18\\xc8\\x16\\x16\\x18\\xe1\\x15\\x15\\x17\\xff\\x15\\x15\\x17\\xff\\x15\\x15\\x17\\xff\\x15\\x15\\x17\\xff\\x15\\x15\\x17\\xff\\x17\\x17\\x17\\x16\\x00\\x00\\x00\\x00\\x00\\x00\\x00\\x00\\x00\\x00\\x00\\x00\\x00\\x00\\x00\\x00\\x00\\x00\\x00\\x00\\x00\\x00\\x00\\x00\\x00\\x00\\x00\\x00\\x00\\x00\\x00\\x00\\x00\\x00\\x00\\x00\\x00\\x00\\x00\\x00\\x00\\x00\\x00\\x00\\x00\\x00\\x00\\x00\\x00\\x00\\x00\\x00\\x00\\x00\\x00\\x00\\x00\\x00\\x00\\x00\\x00\\x00\\x00\\x00\\x00\\x00\\x00\\x00\\x00\\x00\\x00\\x00   \\x08\\x16\\x16\\x18\\xf8\\x15\\x15\\x17\\xff\\x15\\x15\\x17\\xff\\x15\\x15\\x17\\xff\\x15\\x15\\x17\\xff\\x16\\x16\\x18\\xe0\\x16\\x16\\x18\\xf5\\x15\\x15\\x17\\xff\\x15\\x15\\x17\\xff\\x15\\x15\\x17\\xff\\x15\\x15\\x17\\xff\\x15\\x15\\x17\\xf2\\x00\\x00\\x00\\x00\\x00\\x00\\x00\\x00\\x00\\x00\\x00\\x00\\x00\\x00\\x00\\x00\\x00\\x00\\x00\\x00\\x00\\x00\\x00\\x00\\x00\\x00\\x00\\x00\\x00\\x00\\x00\\x00\\x00\\x00\\x00\\x00\\x00\\x00\\x00\\x00\\x00\\x00\\x00\\x00\\x00\\x00\\x00\\x00\\x00\\x00\\x00\\x00\\x00\\x00\\x00\\x00\\x00\\x00\\x00\\x00\\x00\\x00\\x00\\x00\\x00\\x00\\x00\\x00\\x00\\x00\\x00\\x00\\x00\\x00\\x00\\x00\\x00\\x00\\x00\\x00\\x16\\x16\\x18\\xde\\x15\\x15\\x17\\xff\\x15\\x15\\x17\\xff\\x15\\x15\\x17\\xff\\x15\\x15\\x17\\xff\\x16\\x16\\x18\\xf5\\x16\\x16\\x17\\xf3\\x15\\x15\\x17\\xff\\x15\\x15\\x17\\xff\\x15\\x15\\x17\\xff\\x15\\x15\\x17\\xff\\x16\\x16\\x18\\xde\\x00\\x00\\x00\\x00\\x00\\x00\\x00\\x00\\x00\\x00\\x00\\x00\\x00\\x00\\x00\\x00\\x00\\x00\\x00\\x00\\x00\\x00\\x00\\x00\\x00\\x00\\x00\\x00\\x00\\x00\\x00\\x00\\x00\\x00\\x00\\x00\\x00\\x00\\x00\\x00\\x00\\x00\\x00\\x00\\x00\\x00\\x00\\x00\\x00\\x00\\x00\\x00\\x00\\x00\\x00\\x00\\x00\\x00\\x00\\x00\\x00\\x00\\x00\\x00\\x00\\x00\\x00\\x00\\x00\\x00\\x00\\x00\\x00\\x00\\x00\\x00\\x00\\x00\\x00\\x00\\x15\\x15\\x18\\xca\\x15\\x15\\x17\\xff\\x15\\x15\\x17\\xff\\x15\\x15\\x17\\xff\\x15\\x15\\x17\\xff\\x16\\x16\\x17\\xf3\\x15\\x15\\x18\\xd9\\x15\\x15\\x17\\xff\\x15\\x15\\x17\\xff\\x15\\x15\\x17\\xff\\x15\\x15\\x17\\xff\\x16\\x16\\x18\\xf4\\xff\\xff\\xff\\x01\\x00\\x00\\x00\\x00\\x00\\x00\\x00\\x00\\x00\\x00\\x00\\x00\\x00\\x00\\x00\\x00\\x00\\x00\\x00\\x00\\x00\\x00\\x00\\x00\\x00\\x00\\x00\\x00\\x00\\x00\\x00\\x00\\x00\\x00\\x00\\x00\\x00\\x00\\x00\\x00\\x00\\x00\\x00\\x00\\x00\\x00\\x00\\x00\\x00\\x00\\x00\\x00\\x00\\x00\\x00\\x00\\x00\\x00\\x00\\x00\\x00\\x00\\x00\\x00\\x00\\x00\\x00\\x00\\x00\\x00\\x00\\x00\\x00\\x00\\x00\\x00\\x16\\x16\\x18\\xe1\\x15\\x15\\x17\\xff\\x15\\x15\\x17\\xff\\x15\\x15\\x17\\xff\\x15\\x15\\x17\\xff\\x15\\x15\\x18\\xd9\\x15\\x15\\x18\\xbf\\x15\\x15\\x17\\xff\\x15\\x15\\x17\\xff\\x15\\x15\\x17\\xff\\x15\\x15\\x17\\xff\\x15\\x15\\x17\\xff\\x1c\\x1c\\x1c%\\x00\\x00\\x00\\x00\\x00\\x00\\x00\\x00\\x00\\x00\\x00\\x00\\x00\\x00\\x00\\x00\\x00\\x00\\x00\\x00\\x00\\x00\\x00\\x00\\x00\\x00\\x00\\x00\\x00\\x00\\x00\\x00\\x00\\x00\\x00\\x00\\x00\\x00\\x00\\x00\\x00\\x00\\x00\\x00\\x00\\x00\\x00\\x00\\x00\\x00\\x00\\x00\\x00\\x00\\x00\\x00\\x00\\x00\\x00\\x00\\x00\\x00\\x00\\x00\\x00\\x00\\x00\\x00\\x00\\x00\\x00\\x00   \\x10\\x15\\x15\\x17\\xff\\x15\\x15\\x17\\xff\\x15\\x15\\x17\\xff\\x15\\x15\\x17\\xff\\x15\\x15\\x17\\xff\\x15\\x15\\x18\\xbf\\x16\\x16\\x18\\x95\\x15\\x15\\x17\\xff\\x15\\x15\\x17\\xff\\x15\\x15\\x17\\xff\\x15\\x15\\x17\\xff\\x15\\x15\\x17\\xff\\x16\\x16\\x18v\\x00\\x00\\x00\\x00\\x00\\x00\\x00\\x00\\x00\\x00\\x00\\x00\\x00\\x00\\x00\\x00\\x00\\x00\\x00\\x00\\x00\\x00\\x00\\x00\\x00\\x00\\x00\\x00\\x00\\x00\\x00\\x00\\x00\\x00\\x00\\x00\\x00\\x00\\x00\\x00\\x00\\x00\\x00\\x00\\x00\\x00\\x00\\x00\\x00\\x00\\x00\\x00\\x00\\x00\\x00\\x00\\x00\\x00\\x00\\x00\\x00\\x00\\x00\\x00\\x00\\x00\\x00\\x00\\x00\\x00\\x00\\x00\\x15\\x15\\x18a\\x15\\x15\\x17\\xff\\x15\\x15\\x17\\xff\\x15\\x15\\x17\\xff\\x15\\x15\\x17\\xff\\x15\\x15\\x17\\xff\\x16\\x16\\x18\\x95\\x16\\x16\\x19G\\x15\\x15\\x17\\xff\\x15\\x15\\x17\\xff\\x15\\x15\\x17\\xff\\x15\\x15\\x17\\xff\\x15\\x15\\x17\\xff\\x16\\x16\\x18\\xf4\\x19\\x19\\x19\\x1f\\x00\\x00\\x00\\x00\\x00\\x00\\x00\\x00\\x00\\x00\\x00\\x00\\x00\\x00\\x00\\x00\\x00\\x00\\x00\\x00\\x00\\x00\\x00\\x00\\x00\\x00\\x00\\x00\\x00\\x00\\x00\\x00\\x00\\x00\\x00\\x00\\x00\\x00\\x00\\x00\\x00\\x00\\x00\\x00\\x00\\x00\\x00\\x00\\x00\\x00\\x00\\x00\\x00\\x00\\x00\\x00\\x00\\x00\\x00\\x00\\x00\\x00\\x00\\x00\\x1b\\x1b\\x1b\\x13\\x16\\x16\\x18\\xeb\\x15\\x15\\x17\\xff\\x15\\x15\\x17\\xff\\x15\\x15\\x17\\xff\\x15\\x15\\x17\\xff\\x15\\x15\\x17\\xff\\x16\\x16\\x19G+++\\x06\\x15\\x15\\x17\\xf1\\x15\\x15\\x17\\xff\\x15\\x15\\x17\\xff\\x15\\x15\\x17\\xff\\x15\\x15\\x17\\xff\\x15\\x15\\x17\\xff\\x16\\x16\\x19]\\x00\\x00\\x00\\x00\\x00\\x00\\x00\\x00\\x00\\x00\\x00\\x00\\x00\\x00\\x00\\x00\\x00\\x00\\x00\\x00\\x00\\x00\\x00\\x00\\x00\\x00\\x00\\x00\\x00\\x00\\x00\\x00\\x00\\x00\\x00\\x00\\x00\\x00\\x00\\x00\\x00\\x00\\x00\\x00\\x00\\x00\\x00\\x00\\x00\\x00\\x00\\x00\\x00\\x00\\x00\\x00\\x00\\x00\\x00\\x00\\x00\\x00\\x00\\x00\\x18\\x18\\x18I\\x15\\x15\\x17\\xff\\x15\\x15\\x17\\xff\\x15\\x15\\x17\\xff\\x15\\x15\\x17\\xff\\x15\\x15\\x17\\xff\\x15\\x15\\x17\\xf1+++\\x06\\x00\\x00\\x00\\x00\\x16\\x16\\x18\\x97\\x15\\x15\\x17\\xff\\x15\\x15\\x17\\xff\\x15\\x15\\x17\\xff\\x15\\x15\\x17\\xff\\x15\\x15\\x17\\xff\\x19\\x19\\x193\\x00\\x00\\x00\\x00\\x00\\x00\\x00\\x00\\x00\\x00\\x00\\x00\\x00\\x00\\x00\\x00\\x00\\x00\\x00\\x00\\x00\\x00\\x00\\x00\\x00\\x00\\x00\\x00\\x00\\x00\\x00\\x00\\x00\\x00\\x00\\x00\\x00\\x00\\x00\\x00\\x00\\x00\\x00\\x00\\x00\\x00\\x00\\x00\\x00\\x00\\x00\\x00\\x00\\x00\\x00\\x00\\x00\\x00\\x00\\x00\\x00\\x00\\x00\\x00\\x1a\\x1a\\x1a\\x1e\\x15\\x15\\x17\\xff\\x15\\x15\\x17\\xff\\x15\\x15\\x17\\xff\\x15\\x15\\x17\\xff\\x15\\x15\\x17\\xff\\x16\\x16\\x18\\x97\\x00\\x00\\x00\\x00\\x00\\x00\\x00\\x00\\x15\\x15 \\x18\\x16\\x16\\x18\\xf4\\x15\\x15\\x17\\xff\\x15\\x15\\x17\\xff\\x15\\x15\\x17\\xff\\x15\\x15\\x17\\xff\\x18\\x18\\x185\\x00\\x00\\x00\\x00\\x00\\x00\\x00\\x00\\x00\\x00\\x00\\x00\\x15\\x15+\\x0c\\x18\\x18\\x18*\\x80\\x80\\x80\\x02\\x00\\x00\\x00\\x00\\x00\\x00\\x00\\x00\\x00\\x00\\x00\\x00\\x00\\x00\\x00\\x00\\xff\\xff\\xff\\x01\\x1b\\x1b\\x1b&\\x1e\\x1e\\x1e\\x11\\x00\\x00\\x00\\x00\\x00\\x00\\x00\\x00\\x00\\x00\\x00\\x00\\x17\\x17\\x17!\\x15\\x15\\x17\\xff\\x15\\x15\\x17\\xff\\x15\\x15\\x17\\xff\\x15\\x15\\x17\\xff\\x16\\x16\\x18\\xf4\\x15\\x15 \\x18\\x00\\x00\\x00\\x00\\x00\\x00\\x00\\x00\\x00\\x00\\x00\\x00\\x16\\x16\\x18\\x82\\x15\\x15\\x17\\xff\\x15\\x15\\x17\\xff\\x15\\x15\\x17\\xff\\x15\\x15\\x17\\xff\\x17\\x17\\x19f\\x00\\x00\\x00\\x00@@@\\x04\\x17\\x17\\x17b\\x16\\x16\\x17\\xe7\\x15\\x15\\x17\\xff\\x16\\x16\\x17\\xf3\\x16\\x16\\x17\\xd2\\x15\\x15\\x18\\xc1\\x15\\x15\\x18\\xc0\\x16\\x16\\x17\\xd1\\x15\\x15\\x17\\xf0\\x15\\x15\\x17\\xff\\x16\\x16\\x18\\xed\\x15\\x15\\x18l+++\\x06\\x00\\x00\\x00\\x00\\x16\\x16\\x19R\\x15\\x15\\x17\\xff\\x15\\x15\\x17\\xff\\x15\\x15\\x17\\xff\\x15\\x15\\x17\\xff\\x16\\x16\\x18\\x82\\x00\\x00\\x00\\x00\\x00\\x00\\x00\\x00\\x00\\x00\\x00\\x00\\x00\\x00\\x00\\x00$$$\\x07\\x16\\x16\\x18\\xc8\\x15\\x15\\x17\\xff\\x15\\x15\\x17\\xff\\x15\\x15\\x17\\xff\\x15\\x15\\x18\\xd6\\x15\\x15\\x18\\xa8\\x16\\x16\\x18\\xec\\x15\\x15\\x17\\xff\\x15\\x15\\x17\\xff\\x15\\x15\\x17\\xff\\x15\\x15\\x17\\xff\\x15\\x15\\x17\\xff\\x15\\x15\\x17\\xff\\x15\\x15\\x17\\xff\\x15\\x15\\x17\\xff\\x15\\x15\\x17\\xff\\x15\\x15\\x17\\xff\\x15\\x15\\x17\\xff\\x15\\x15\\x17\\xff\\x15\\x15\\x17\\xef\\x15\\x15\\x18\\xaa\\x15\\x15\\x18\\xcd\\x15\\x15\\x17\\xff\\x15\\x15\\x17\\xff\\x15\\x15\\x17\\xff\\x16\\x16\\x18\\xc8$$$\\x07\\x00\\x00\\x00\\x00\\x00\\x00\\x00\\x00\\x00\\x00\\x00\\x00\\x00\\x00\\x00\\x00\\x00\\x00\\x00\\x00\\x15\\x15 \\x18\\x15\\x15\\x18\\xe3\\x15\\x15\\x17\\xff\\x15\\x15\\x17\\xff\\x15\\x15\\x17\\xff\\x15\\x15\\x17\\xff\\x15\\x15\\x17\\xff\\x15\\x15\\x17\\xff\\x15\\x15\\x17\\xff\\x15\\x15\\x17\\xff\\x15\\x15\\x17\\xff\\x15\\x15\\x17\\xff\\x15\\x15\\x17\\xff\\x15\\x15\\x17\\xff\\x15\\x15\\x17\\xff\\x15\\x15\\x17\\xff\\x15\\x15\\x17\\xff\\x15\\x15\\x17\\xff\\x15\\x15\\x17\\xff\\x15\\x15\\x17\\xff\\x15\\x15\\x17\\xff\\x15\\x15\\x17\\xff\\x15\\x15\\x17\\xff\\x15\\x15\\x17\\xff\\x15\\x15\\x18\\xe3\\x15\\x15 \\x18\\x00\\x00\\x00\\x00\\x00\\x00\\x00\\x00\\x00\\x00\\x00\\x00\\x00\\x00\\x00\\x00\\x00\\x00\\x00\\x00\\x00\\x00\\x00\\x00\\x00\\x00\\x00\\x00\\x16\\x16\\x1c.\\x15\\x15\\x18\\xe3\\x15\\x15\\x17\\xff\\x15\\x15\\x17\\xff\\x15\\x15\\x17\\xff\\x15\\x15\\x17\\xff\\x15\\x15\\x17\\xff\\x15\\x15\\x17\\xff\\x15\\x15\\x17\\xff\\x15\\x15\\x17\\xff\\x15\\x15\\x17\\xff\\x15\\x15\\x17\\xff\\x15\\x15\\x17\\xff\\x15\\x15\\x17\\xff\\x15\\x15\\x17\\xff\\x15\\x15\\x17\\xff\\x15\\x15\\x17\\xff\\x15\\x15\\x17\\xff\\x15\\x15\\x17\\xff\\x15\\x15\\x17\\xff\\x15\\x15\\x17\\xff\\x15\\x15\\x17\\xff\\x15\\x15\\x18\\xe3\\x16\\x16\\x1c.\\x00\\x00\\x00\\x00\\x00\\x00\\x00\\x00\\x00\\x00\\x00\\x00\\x00\\x00\\x00\\x00\\x00\\x00\\x00\\x00\\x00\\x00\\x00\\x00\\x00\\x00\\x00\\x00\\x00\\x00\\x00\\x00\\x00\\x00\\x00\\x00\\x15\\x15 \\x18\\x16\\x16\\x18\\xc8\\x15\\x15\\x17\\xff\\x15\\x15\\x17\\xff\\x15\\x15\\x17\\xff\\x15\\x15\\x17\\xff\\x15\\x15\\x17\\xff\\x15\\x15\\x17\\xff\\x15\\x15\\x17\\xff\\x15\\x15\\x17\\xff\\x15\\x15\\x17\\xff\\x15\\x15\\x17\\xff\\x15\\x15\\x17\\xff\\x15\\x15\\x17\\xff\\x15\\x15\\x17\\xff\\x15\\x15\\x17\\xff\\x15\\x15\\x17\\xff\\x15\\x15\\x17\\xff\\x15\\x15\\x17\\xff\\x15\\x15\\x17\\xff\\x16\\x16\\x18\\xc8\\x15\\x15 \\x18\\x00\\x00\\x00\\x00\\x00\\x00\\x00\\x00\\x00\\x00\\x00\\x00\\x00\\x00\\x00\\x00\\x00\\x00\\x00\\x00\\x00\\x00\\x00\\x00\\x00\\x00\\x00\\x00\\x00\\x00\\x00\\x00\\x00\\x00\\x00\\x00\\x00\\x00\\x00\\x00\\x00\\x00\\x00\\x00$$$\\x07\\x16\\x16\\x18\\x82\\x16\\x16\\x18\\xf4\\x15\\x15\\x17\\xff\\x15\\x15\\x17\\xff\\x15\\x15\\x17\\xff\\x15\\x15\\x17\\xff\\x15\\x15\\x17\\xff\\x15\\x15\\x17\\xff\\x15\\x15\\x17\\xff\\x15\\x15\\x17\\xff\\x15\\x15\\x17\\xff\\x15\\x15\\x17\\xff\\x15\\x15\\x17\\xff\\x15\\x15\\x17\\xff\\x15\\x15\\x17\\xff\\x15\\x15\\x17\\xff\\x16\\x16\\x18\\xf4\\x16\\x16\\x18\\x82$$$\\x07\\x00\\x00\\x00\\x00\\x00\\x00\\x00\\x00\\x00\\x00\\x00\\x00\\x00\\x00\\x00\\x00\\x00\\x00\\x00\\x00\\x00\\x00\\x00\\x00\\x00\\x00\\x00\\x00\\x00\\x00\\x00\\x00\\x00\\x00\\x00\\x00\\x00\\x00\\x00\\x00\\x00\\x00\\x00\\x00\\x00\\x00\\x00\\x00\\x00\\x00\\x00\\x00\\x00\\x00\\x00\\x00\\x15\\x15 \\x18\\x16\\x16\\x18\\x97\\x15\\x15\\x17\\xf1\\x15\\x15\\x17\\xff\\x15\\x15\\x17\\xff\\x15\\x15\\x17\\xff\\x15\\x15\\x17\\xff\\x15\\x15\\x17\\xff\\x15\\x15\\x17\\xff\\x15\\x15\\x17\\xff\\x15\\x15\\x17\\xff\\x15\\x15\\x17\\xff\\x15\\x15\\x17\\xff\\x15\\x15\\x17\\xf1\\x16\\x16\\x18\\x97\\x15\\x15 \\x18\\x00\\x00\\x00\\x00\\x00\\x00\\x00\\x00\\x00\\x00\\x00\\x00\\x00\\x00\\x00\\x00\\x00\\x00\\x00\\x00\\x00\\x00\\x00\\x00\\x00\\x00\\x00\\x00\\x00\\x00\\x00\\x00\\x00\\x00\\x00\\x00\\x00\\x00\\x00\\x00\\x00\\x00\\x00\\x00\\x00\\x00\\x00\\x00\\x00\\x00\\x00\\x00\\x00\\x00\\x00\\x00\\x00\\x00\\x00\\x00\\x00\\x00\\x00\\x00\\x00\\x00\\x00\\x00\\x00\\x00\\x00\\x00+++\\x06\\x16\\x16\\x19G\\x16\\x16\\x18\\x95\\x15\\x15\\x18\\xbf\\x15\\x15\\x18\\xd9\\x16\\x16\\x17\\xf3\\x16\\x16\\x17\\xf3\\x15\\x15\\x18\\xd9\\x15\\x15\\x18\\xbf\\x16\\x16\\x18\\x95\\x16\\x16\\x19G+++\\x06\\x00\\x00\\x00\\x00\\x00\\x00\\x00\\x00\\x00\\x00\\x00\\x00\\x00\\x00\\x00\\x00\\x00\\x00\\x00\\x00\\x00\\x00\\x00\\x00\\x00\\x00\\x00\\x00\\x00\\x00\\x00\\x00\\x00\\x00\\x00\\x00\\x00\\x00\\x00\\x00\\x00\\x00\\x00\\x00\\x00\\x00\\x00\\x00\\x00\\x00\\x00\\x00\\x00\\x00\\x00\\x00\\x00\\x00\\x00\\x00\\x00\\x00\\x00\\x00\\x00\\x00\\x00\\x00\\x00\\x00\\x00\\x00\\x00\\x00\\x00\\x00\\x00\\x00\\x00\\x00\\x00\\x00\\x00\\x00\\x00\\x00\\x00\\x00\\x00\\x00\\x00\\x00\\x00\\x00\\x00\\x00\\x00\\x00\\x00\\x00\\x00\\x00\\x00\\x00\\x00\\x00\\x00\\x00\\x00\\x00\\x00\\x00\\x00\\x00\\x00\\x00\\x00\\x00\\x00\\x00\\x00\\x00\\x00\\x00\\x00\\x00\\x00\\x00\\x00\\x00\\x00\\x00\\x00\\x00\\x00\\x00\\x00\\x00\\x00\\x00\\x00\\x00\\x00\\x00\\x00\\x00\\x00\\x00\\x00\\x00\\x00\\x00\\x00\\x00\\x00\\x00\\x00\\x00\\x00\\x00\\x00\\x00\\x00\\x00\\x00\\x00\\x00\\x00\\x00\\x00\\x00\\x00\\x00\\x00\\x00\\x00\\x00\\x00\\x00\\x00\\x00\\x00\\x00\\x00\\x00\\x00\\x00\\x00\\x00\\x00\\x00\\x00\\x00\\x00\\x00\\x00\\x00\\x00\\x00\\x00\\x00\\x00\\x00\\x00\\x00\\x00\\x00\\x00\\x00\\x00\\x00\\x00\\x00\\x00\\x00\\x00\\x00\\x00\\x00\\x00\\x00\\x00\\x00\\x00\\x00\\x00\\x00\\x00\\x00\\x00\\x00\\x00\\x00\\x00\\x00\\x00\\x00\\x00\\x00\\x00\\x00\\x00\\x00\\x00\\x00\\x00\\x00\\x00\\x00\\x00\\x00\\x00\\x00\\x00\\x00\\x00\\x00\\x00\\x00\\x00\\x00\\x00\\x00\\x00\\x00\\x00\\x00\\x00\\x00\\x00\\x00\\x00\\x00\\x00\\x00\\x00\\x00\\x00\\x00\\x00\\x00\\x00\\x00\\x00\\x00\\x00\\x00\\x00\\x00\\x00\\x00\\x00\\x00\\x00\\x00\\x00\\x00\\x00\\x00\\x00\\x00\\x00\\x00\\x00\\x00\\x00\\x00\\x00\\x00\\x00\\x00\\x00\\x00\\x00\\x00\\x00\\x00\\x00\\x00\\x00\\x00\\x00\\x00\\x00\\x00\\x00\\x00\\x00\\x00\\x00\\x00\\x00\\x00\\x00\\x00\\x00\\x00\\x00\\x00\\x00\\x00\\x00\\x00\\x00\\x00\\x00\\x00\\x00\\x00\\x00\\x00\\x00\\x00\\x00\\x00\\x00\\x00\\x00\\x00\\x00\\x00\\x00\\x00\\x00\\x00\\x00\\x00\\x00\\x00\\x00\\x00\\x00\\x00\\x00\\x00\\x00\\x00\\x00\\x00\\x00\\x00\\x00\\x00\\x00\\x00\\x00\\x00\\x00\\x00\\x00\\x00\\x00\\x00\\x00\\x00\\x00\\x00\\x00\\x00\\x00\\x00\\x00\\x00\\x00\\x00\\x00\\x00\\x00\\x00\\x00\\x00\\x00\\x00\\x00\\x00\\x00\\x00\\x00\\x00\\x00\\x00\\x00\\x00\\x00\\x00\\x00\\x00\\x00\\x00\\x00\\x00\\x00\\x00\\x00\\x00\\x00\\x00\\x00\\x00\\x00\\x00\\x00\\x00\\x00\\x00\\x00\\x00\\x00\\x00\\x00\\x00\\x00\\x00\\x00\\x00\\x00\\x00\\x00\\x00\\x00\\x00\\x00\\x00\\x00\\x00\\x00\\x00\\x00\\x00\\x00\\x00\\x00\\x00\\x00\\x00\\x00\\x00\\x00\\x00\\x00\\x00\\x00\\x00\\x00\\x00\\x00\\x00\\x00\\x00\\x00\\x00\\x00\\x00\\x00\\x00\\x00\\x00\\x00\\x00\\x00\\x00\\x00\\x00\\x00\\x00\\x00\\x00\\x00\\x00\\x00\\x00\\x00\\x00\\x00\\x00\\x00\\x00\\x00\\x00\\x00\\x00\\x00\\x00\\x00\\x00\\x00\\x00\\x00\\x00\\x00\\x00\\x00\\x00\\x00\\x00\\x00\\x00\\x00\\x00\\x00\\x00\\x00\\x00\\x00\\x00\\x00\\x00\\x00\\x00\\x00\\x00\\x00\\x00\\x00\\x00\\x00\\x00\\x00\\x00\\x00\\x00\\x00\\x00\\x00\\x00\\x00\\x00\\x00\\x00\\x00\\x00\\x00\\x00\\x00\\x00\\x00\\x00\\x00\\x00\\x00\\x00\\x00\\x00\\x00\\x00\\x00\\x00\\x00\\x00\\x00\\x00\\x00\\x00\\x00\\x00\\x00\\x00\\x00\\x00\\x00\\x00\\x00\\x00\\x00\\x00\\x00\\x00\\x00\\x00\\x00\\x00\\x00\\x00\\x00\\x00\\x00\\x00\\x00\\x00\\x00\\x00\\x00\\x00\\x00\\x00\\x00\\x00\\x00\\x00\\x00\\x00\\x00\\x00\\x00\\x00\\x00\\x00\\x00\\x00\\x00\\x00\\x00\\x00\\x00\\x00\\x00\\x00\\x00\\x00\\x00\\x00\\x00\\x00\\x00\\x00\\x00\\x00\\x00\\x00\\x00\\x00\\x00\\x00\\x00\\x00\\x00\\x00\\x00\\x00\\x00\\x00\\x00\\x00\\x00\\x00\\x00\\x00\\x00\\x00\\x00\\x00\\x00\\x00\\x00\\x00\\x00\\x00\\x00\\x00\\x00\\x00\\x00\\x00\\x00\\x00\\x00\\x00\\x00\\x00\\x00\\x00\\x00\\x00\\x00\\x00\\x00\\x00\\x00\\x00\\x00\\x00\\x00\\x00\\x00\\x00\\x00\\x00\\x00\\x00\\x00\\x00\\x00\\x00\\x00\\x00\\x00\\x00\\x00\\x00\\x00\\x00\\x00\\x00\\x00\\x00\\x00\\x00\\x00\\x00\\x00\\x00\\x00\\x00\\x00\\x00\\x00\\x00\\x00\\x00\\x00\\x00\\x00\\x00\\x00\\x00\\x00\\x00\\x00\\x00\\x00\\x00\\x00\\x00\\x00\\x00\\x00\\x00\\x00\\x00\\x00\\x00\\x00\\x00\\x00\\x00\\x00\\x00\\x00\\x00\\x00\\x00\\x00\\x00\\x00\\x00\\x00\\x00\\x00\\x00\\x00\\x00\\x00\\x00\\x00\\x00\\x00\\x00\\x00\\x00\\x00\\x00\\x00\\x00\\x00\\x00\\x00\\x00\\x00\\x00\\x00\\x00\\x00\\x00\\x00\\x00\\x00\\x00\\x00\\x00\\x00\\x00\\x00\\x00\\x00\\x00\\x00\\x00\\x00\\x00\\x00\\x00\\x00\\x00\\x00\\x00\\x00\\x00\\x00\\x00\\x00\\x00\\x00\\x00\\x00\\x00\\x00\\x00\\x00\\x00\\x00\\x00\\x00\\x00\\x00\\x00\\x00\\x00\\x00\\x00\\x00\\x00\\x00\\x00\\x00\\x00\\x00\\x00\\x00\\x00\\x00\\x00\\x00\\x00\\x00\\x00\\x00\\x00\\x00\\x00\\x00\\x00\\x00\\x00\\x00\\x00\\x00\\x00\\x00\\x00\\x00\\x00\\x00\\x00\\x00\\x00\\x00\\x00\\x00\\x00\\x00\\x00\\x00\\x00\\x00\\x00\\x00\\x00\\x00\\x00\\x00\\x00\\x00\\x00\\x00\\x00\\x00\\x00\\x00\\x00\\x00\\x00\\x00\\x00\\x00\\x00\\x00\\x00\\x00\\x00\\x00\\x00\\x00\\x00\\x00\\x00\\x00\\x00\\x00\\x00\\x00\\x00\\x00\\x00\\x00\\x00\\x00\\x00\\x00\\x00\\x00\\x00\\x00\\x00\\x00\\x00\\x00\\x00\\x00\\x00\\x00\\x00\\x00\\x00\\x00\\x00\\x00\\x00\\x00\\x00\\x00\\x00\\x00\\x00\\x00\\x00\\x00\\x00\\x00\\x00\\x00\\x00\\x00\\x00\\x00\\x00\\x00\\x00\\x00\\x00\\x00\\x00\\x00\\x00\\x00\\x00\\x00\\x00\\x00\\x00\\x00\\x00\\x00\\x00\\x00\\x00\\x00\\x00\\x00\\x00\\x00\\x00\\x00\\x00\\x00\\x00\\x00\\x00\\x00\\x00\\x00\\x00\\x00\\x00\\x00\\x00\\x00\\x00\\x00\\x00\\x00\\x00\\x00\\x00\\x00\\x00\\x00\\x00\\x00\\x00\\x00\\x00\\x00\\x00\\x00\\x00\\x00\\x00\\x00\\x00\\x00\\x00\\x00\\x00\\x00\\x00\\x00\\x00\\x00\\x00\\x00\\x00\\x00\\x00\\x00'\n"
     ]
    }
   ],
   "source": [
    "# 抓取二进制数据: 音频,图片,视频这些文件本质上都是二进制码组成的,由于有特定的保存格式和对应的解析方式,我们才可以看到这些形形色色的多媒体\n",
    "\n",
    "import requests\n",
    "\n",
    "r = requests.get(\"https://github.com/favicon.ico\")\n",
    "print(r.text)\n",
    "print(r.content)\n",
    "\n",
    "with open('favicon.png', 'wb') as f:\n",
    "    f.write(r.content)"
   ]
  },
  {
   "cell_type": "code",
   "execution_count": null,
   "metadata": {
    "collapsed": true
   },
   "outputs": [],
   "source": []
  }
 ],
 "metadata": {
  "kernelspec": {
   "display_name": "Python 3",
   "language": "python",
   "name": "python3"
  },
  "language_info": {
   "codemirror_mode": {
    "name": "ipython",
    "version": 3
   },
   "file_extension": ".py",
   "mimetype": "text/x-python",
   "name": "python",
   "nbconvert_exporter": "python",
   "pygments_lexer": "ipython3",
   "version": "3.6.3"
  }
 },
 "nbformat": 4,
 "nbformat_minor": 2
}
