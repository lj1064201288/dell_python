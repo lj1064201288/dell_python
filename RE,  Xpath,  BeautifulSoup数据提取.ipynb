{
 "cells": [
  {
   "cell_type": "markdown",
   "metadata": {
    "collapsed": true
   },
   "source": [
    "# 正则表达式\n",
    "- 正则表达式是处理字符串的强大工具,他有自己独特的语法结构,有了它.实现字符串的检索,替换,匹配验证都不在话下\n",
    "- 正则表达式不是python独有的,他也可以用在其他变成语言中,但是python的re库提供了整个正则表达式的实现\n",
    "- 利用这个库,可以在pythn中使用正则表达式,在python中写正则表达式几乎都有用这个库"
   ]
  },
  {
   "cell_type": "code",
   "execution_count": 6,
   "metadata": {},
   "outputs": [
    {
     "name": "stdout",
     "output_type": "stream",
     "text": [
      "41\n",
      "<_sre.SRE_Match object; span=(0, 25), match='Hello 123 4567 World_This'>\n",
      "Hello 123 4567 World_This\n",
      "(0, 25)\n"
     ]
    }
   ],
   "source": [
    "# match(): 向他传入要匹配的字符串以及正则表达式,就可以检测这个正则表达式是否匹配字符串\n",
    "# match()方法会尝试从字符串的起始位置匹配正则表达式,如果匹配,就返回匹配成功的结果,如果不匹配就返回None\n",
    "\n",
    "import re \n",
    "\n",
    "content = 'Hello 123 4567 World_This is a Regex Demo'\n",
    "print(len(content))\n",
    "result = re.match('^Hello\\s\\d\\d\\d\\s\\d{4}\\s\\w{10}', content)\n",
    "print(result)\n",
    "print(result.group())\n",
    "print(result.span())\n"
   ]
  },
  {
   "cell_type": "code",
   "execution_count": 25,
   "metadata": {},
   "outputs": [
    {
     "name": "stdout",
     "output_type": "stream",
     "text": [
      "<_sre.SRE_Match object; span=(0, 19), match='Hello 1234567 World'>\n",
      "Hello 1234567 World\n",
      "1234567\n",
      "(0, 19)\n"
     ]
    }
   ],
   "source": [
    "# 匹配目标: 可以使用()将想要提取的子字符串括起来,括号实际上标记了一个子表达式的开始和结束位置\n",
    "# 被标记的每个子表达式会依次对应每一个分组,调用group()方法传入分组的索引即可获取提取的结果\n",
    "import re\n",
    "\n",
    "content = 'Hello 1234567 World_This is a Regex Demo'\n",
    "result = re.match('^Hello\\s(\\d+)\\sWorld', content)\n",
    "print(result)\n",
    "print(result.group())\n",
    "print(result.group(1))\n",
    "print(result.span())"
   ]
  },
  {
   "cell_type": "code",
   "execution_count": 26,
   "metadata": {},
   "outputs": [
    {
     "name": "stdout",
     "output_type": "stream",
     "text": [
      "<_sre.SRE_Match object; span=(0, 41), match='Hello 123 4567 World_This is a Regex Demo'>\n",
      "Hello 123 4567 World_This is a Regex Demo\n",
      "(0, 41)\n"
     ]
    }
   ],
   "source": [
    "# 通用匹配:.*万能匹配,可以匹配任意字符(除换行符外)\n",
    "import re\n",
    "\n",
    "content = \"Hello 123 4567 World_This is a Regex Demo\"\n",
    "result = re.match('^Hello.*Demo$', content)\n",
    "print(result)\n",
    "print(result.group())\n",
    "print(result.span())\n"
   ]
  },
  {
   "cell_type": "code",
   "execution_count": 28,
   "metadata": {},
   "outputs": [
    {
     "name": "stdout",
     "output_type": "stream",
     "text": [
      "<_sre.SRE_Match object; span=(0, 40), match='Hello 1234567 World_This is a Regex Demo'>\n",
      "7\n"
     ]
    }
   ],
   "source": [
    "# 贪婪与非贪婪: 使用.*时,可能有时候匹配的并不是我们想要的结果\n",
    "# 贪婪\n",
    "import re \n",
    "\n",
    "content = \"Hello 1234567 World_This is a Regex Demo\"\n",
    "result = re.match('^He.*(\\d+).*Demo$', content)\n",
    "print(result)\n",
    "print(result.group(1))\n"
   ]
  },
  {
   "cell_type": "code",
   "execution_count": 30,
   "metadata": {},
   "outputs": [
    {
     "name": "stdout",
     "output_type": "stream",
     "text": [
      "<_sre.SRE_Match object; span=(0, 40), match='Hello 1234567 World_This is a Regex Demo'>\n",
      "1234567\n"
     ]
    }
   ],
   "source": [
    "# 非贪婪\n",
    "import re\n",
    "content = 'Hello 1234567 World_This is a Regex Demo'\n",
    "result = re.match('^He.*?(\\d+).*Demo$', content)\n",
    "print(result)\n",
    "print(result.group(1))"
   ]
  },
  {
   "cell_type": "code",
   "execution_count": 31,
   "metadata": {},
   "outputs": [
    {
     "name": "stdout",
     "output_type": "stream",
     "text": [
      "result1 \n",
      "result2 kEraCN\n"
     ]
    }
   ],
   "source": [
    "# 注意: 如果匹配的结果在字符串结尾,.*?就有可能匹配不到任何内容了,因为他会匹配尽可能少的字符\n",
    "import re\n",
    "\n",
    "content = 'http://weibo.com/comment/kEraCN'\n",
    "result1 = re.match('http.*?comment/(.*?)', content)\n",
    "result2 = re.match('http:.*comment/(.*)',content)\n",
    "print('result1', result1.group(1))\n",
    "print('result2', result2.group(1))\n"
   ]
  },
  {
   "cell_type": "code",
   "execution_count": 35,
   "metadata": {},
   "outputs": [
    {
     "name": "stdout",
     "output_type": "stream",
     "text": [
      "1234567\n"
     ]
    }
   ],
   "source": [
    "# 修饰符: 正则表达式可以包含一些可选标志修饰符来控制匹配的模式,修饰符被指定为一个可选的标志\n",
    "import re\n",
    "content = '''Hello 1234567 World_This\n",
    "is a Regex Demo'''\n",
    "\n",
    "result = re.match('^He.*?(\\d+).*?Demo$', content, re.S)\n",
    "print(result.group(1))"
   ]
  },
  {
   "cell_type": "markdown",
   "metadata": {},
   "source": [
    "# 转移匹配\n",
    "- search()\n",
    "- findall()\n",
    "- sub()\n",
    "- compile()"
   ]
  },
  {
   "cell_type": "code",
   "execution_count": 36,
   "metadata": {},
   "outputs": [
    {
     "name": "stdout",
     "output_type": "stream",
     "text": [
      "<_sre.SRE_Match object; span=(0, 17), match='(百度)www.baidu.com'>\n"
     ]
    }
   ],
   "source": [
    "# 匹配除换行以外的任意字符,但是如果目标字符串里面包含.就需要使用到转义字符\n",
    "import re\n",
    "\n",
    "content = '(百度)www.baidu.com'\n",
    "result = re.match('\\(百度\\)www\\.baidu\\.com', content)\n",
    "print(result)"
   ]
  },
  {
   "cell_type": "code",
   "execution_count": 40,
   "metadata": {},
   "outputs": [
    {
     "name": "stdout",
     "output_type": "stream",
     "text": [
      "<_sre.SRE_Match object; span=(14, 54), match='Hello 1234567 World_This is a Regex Demo'>\n",
      "1234567\n"
     ]
    }
   ],
   "source": [
    "# search(): 它在匹配时会扫描整个字符串.然后返回第一个成功匹配的结果,也就是说,正则表达式可以是字符串的一部分,\n",
    "# 在匹配时,search()方法会依次扫描字符串,直到找到第一个符合规则的字符串，然后返回匹配内容,如果搜索不到,则返回None\n",
    "\n",
    "import re \n",
    "content = 'Extra strings Hello 1234567 World_This is a Regex Demo Extra stings'\n",
    "result = re.search('Hello.*?(\\d+).*?Demo', content)\n",
    "print(result)\n",
    "print(result.group(1))\n",
    "\n"
   ]
  },
  {
   "cell_type": "code",
   "execution_count": 49,
   "metadata": {},
   "outputs": [
    {
     "name": "stdout",
     "output_type": "stream",
     "text": [
      "齐秦 往事随风\n",
      "任贤齐 沧海一声笑\n",
      "beyond 光辉岁月\n"
     ]
    }
   ],
   "source": [
    "# HTML例子提取数据\n",
    "html = '''\n",
    "<div id=\"song-list\">\n",
    "<h2 class=\"title\">经典老歌</h2>\n",
    "<p class=\"introduction\">\n",
    "经典老歌列表\n",
    "</p>\n",
    "<ul id=\"list\" class=\"list-group\">\n",
    "<li data-view=\"7\">\n",
    "<a href=\"/2.mp3\" singer=\"任贤齐\">沧海一声笑</a>\n",
    "</li>\n",
    "<li data-view=\"4\" class=\"active\">\n",
    "<a href=\"/3.mp3\" singer=\"齐秦\">往事随风</a></li>\n",
    "<li data-view=\"6\"><a href=\"/4.mp3\" singer=\"beyond\">光辉岁月</a></li>\n",
    "<li data-view=\"5\"><a href=\"/5.mp3\" singer=\"陈慧琳\">记事本</a></li>\n",
    "<li data-view=\"5\">\n",
    "<a href=\"/6.mp3\" singer=\"邓丽君\">但愿人长久</a>\n",
    "</li>\n",
    "</ul>\n",
    "</div>\n",
    "'''\n",
    "result = re.search('<li.*?active.*?singer=\"(.*?)\">(.*?)</a>', html, re.S)\n",
    "if result:\n",
    "    print(result.group(1), result.group(2))\n",
    "    \n",
    "result = re.search('<li.*?singer=\"(.*?)\".(.*?)</a>', html, re.S)\n",
    "if result:\n",
    "    print(result.group(1), result.group(2))\n",
    "    \n",
    "result = re.search('li.*?singer=\"(.*?)\".(.*?)</a>', html)\n",
    "if result:\n",
    "    print(result.group(1), result.group(2))"
   ]
  },
  {
   "cell_type": "code",
   "execution_count": 57,
   "metadata": {},
   "outputs": [
    {
     "name": "stdout",
     "output_type": "stream",
     "text": [
      "[('/2.mp3', '任贤齐', '沧海一声笑'), ('/3.mp3', '齐秦', '往事随风'), ('/4.mp3', 'beyond', '光辉岁月'), ('/5.mp3', '陈慧琳', '记事本'), ('/6.mp3', '邓丽君', '但愿人长久')]\n",
      "<class 'list'>\n",
      "('/2.mp3', '任贤齐', '沧海一声笑')\n",
      "('/3.mp3', '齐秦', '往事随风')\n",
      "('/4.mp3', 'beyond', '光辉岁月')\n",
      "('/5.mp3', '陈慧琳', '记事本')\n",
      "('/6.mp3', '邓丽君', '但愿人长久')\n"
     ]
    }
   ],
   "source": [
    "# findall():　获取匹配正则表达式的所有内容,返回列表中的每个元素都是元组类型,我们可以用对应的索引依次取出即可\n",
    "results = re.findall('<li.*?href=\"(.*?)\".*?singer=\"(.*?)\">(.*?)</a>', html, re.S)\n",
    "print(results)\n",
    "print(type(results))\n",
    "for result in results:\n",
    "    print(result)"
   ]
  },
  {
   "cell_type": "code",
   "execution_count": 59,
   "metadata": {},
   "outputs": [
    {
     "name": "stdout",
     "output_type": "stream",
     "text": [
      "aKyroiRixLg\n"
     ]
    }
   ],
   "source": [
    "# sub(): 使用正则表达式提取信息外,有时候还需要借助它来修改文本\n",
    "import re\n",
    "\n",
    "content = '54aK54yr5oiR54ix5L2g'\n",
    "content = re.sub('\\d+', '', content)\n",
    "\n",
    "print(content)"
   ]
  },
  {
   "cell_type": "code",
   "execution_count": 63,
   "metadata": {},
   "outputs": [
    {
     "name": "stdout",
     "output_type": "stream",
     "text": [
      "<class 'tuple'>\n",
      "沧海一声笑\n",
      "<class 'tuple'>\n",
      "往事随风\n",
      "<class 'tuple'>\n",
      "光辉岁月\n",
      "<class 'tuple'>\n",
      "记事本\n",
      "<class 'tuple'>\n",
      "但愿人长久\n",
      "\n",
      "<div id=\"song-list\">\n",
      "<h2 class=\"title\">经典老歌</h2>\n",
      "<p class=\"introduction\">\n",
      "经典老歌列表\n",
      "</p>\n",
      "<ul id=\"list\" class=\"list-group\">\n",
      "<li data-view=\"7\">\n",
      "沧海一声笑\n",
      "</li>\n",
      "<li data-view=\"4\" class=\"active\">\n",
      "往事随风</li>\n",
      "<li data-view=\"6\">光辉岁月</li>\n",
      "<li data-view=\"5\">记事本</li>\n",
      "<li data-view=\"5\">\n",
      "但愿人长久\n",
      "</li>\n",
      "</ul>\n",
      "</div>\n",
      "\n",
      "沧海一声笑\n",
      "往事随风\n",
      "光辉岁月\n",
      "记事本\n",
      "但愿人长久\n"
     ]
    }
   ],
   "source": [
    "import re\n",
    "\n",
    "results = re.findall('<li.*?>\\s*?(<a.*?>)?(\\w+)(</a>)?\\s*?</li>', html, re.S)\n",
    "for result in results:\n",
    "    print(type(result))\n",
    "    print(result[1])\n",
    "    \n",
    "html = re.sub('<a.*?>|</a>', '', html)\n",
    "print(html)\n",
    "results = re.findall('<li.*?>(.*?)</li>', html, re.S)\n",
    "for result in results:\n",
    "    print(result.strip())"
   ]
  },
  {
   "cell_type": "code",
   "execution_count": 64,
   "metadata": {},
   "outputs": [
    {
     "name": "stdout",
     "output_type": "stream",
     "text": [
      "2016-12-15  2016-12-17  2016-12-22 \n"
     ]
    }
   ],
   "source": [
    "# compile(): 这个方法可以将正则字符串编译成正则表达式对象,以便在后面的匹配中复用\n",
    "import re \n",
    "\n",
    "content1 = \"2016-12-15 12:00\"\n",
    "content2 = \"2016-12-17 12:55\"\n",
    "content3 = \"2016-12-22 13:21\"\n",
    "\n",
    "pattern = re.compile('\\d{2}:\\d{2}')\n",
    "result1 = re.sub(pattern, '', content1)\n",
    "result2 = re.sub(pattern, '', content2)\n",
    "result3 = re.sub(pattern, '', content3)\n",
    "print(result1, result2, result3)"
   ]
  },
  {
   "cell_type": "markdown",
   "metadata": {},
   "source": [
    "# 正则抓取猫眼电影排行榜 pycharm案例\n",
    "- 目标:\n",
    "    - 提取猫眼电影TOP100的电影名称,时间,评分,图片等信息,提取的站点url为http://maoyan.com/board/4, 提取的结果会以文件形式保存下来\n",
    "- 准备:\n",
    "    - 确认安装requests库"
   ]
  },
  {
   "cell_type": "code",
   "execution_count": null,
   "metadata": {
    "collapsed": true
   },
   "outputs": [],
   "source": []
  }
 ],
 "metadata": {
  "kernelspec": {
   "display_name": "Python 3",
   "language": "python",
   "name": "python3"
  },
  "language_info": {
   "codemirror_mode": {
    "name": "ipython",
    "version": 3
   },
   "file_extension": ".py",
   "mimetype": "text/x-python",
   "name": "python",
   "nbconvert_exporter": "python",
   "pygments_lexer": "ipython3",
   "version": "3.6.3"
  }
 },
 "nbformat": 4,
 "nbformat_minor": 2
}
