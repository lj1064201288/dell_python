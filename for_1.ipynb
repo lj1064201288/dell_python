{
 "cells": [
  {
   "cell_type": "markdown",
   "metadata": {},
   "source": [
    "# 笔记本的两个模式\n",
    "- 输入模式:允许用户输入\n",
    "- 命令模式:允许用户通过命令操作笔记本\n",
    "- 模式的转换:回车to输入,ESC键to命令模式\n",
    "\n",
    "# 两张输入模式\n",
    "- python代码模式:python代码可以直接运行,输入\n",
    "- Markdown模式： 允许使用markdown语法\n",
    "\n",
    "# 执行快捷键\n",
    "- Ait+Enter: 执行代码，并在下面生成一个新的输入框\n",
    "- Shift+Enter：执行代码\n"
   ]
  },
  {
   "cell_type": "code",
   "execution_count": 6,
   "metadata": {},
   "outputs": [
    {
     "name": "stdout",
     "output_type": "stream",
     "text": [
      "Hello world\n",
      "* * * * *\n",
      "* * * * *\n",
      "* * * * *\n",
      "* * * * *\n",
      "* * * * *\n"
     ]
    }
   ],
   "source": [
    "# 简单图形打印\n",
    "'''\n",
    "打印以下图形再输入上面\n",
    "* * * * *\n",
    "* * * * *\n",
    "* * * * *\n",
    "* * * * *\n",
    "'''\n",
    "\n",
    "print(\"Hello world\")\n",
    "\n",
    "print(\"* * * * *\")\n",
    "print(\"* * * * *\")\n",
    "print(\"* * * * *\")\n",
    "print(\"* * * * *\")\n",
    "print(\"* * * * *\")"
   ]
  },
  {
   "cell_type": "code",
   "execution_count": 18,
   "metadata": {},
   "outputs": [
    {
     "name": "stdout",
     "output_type": "stream",
     "text": [
      "* * * * * \n",
      "* * * * * \n",
      "* * * * * \n",
      "* * * * * \n",
      "* * * * * \n",
      "============================================================\n",
      "* * * * * \n",
      "* * * * * \n",
      "* * * * * \n",
      "* * * * * \n",
      "* * * * * \n"
     ]
    }
   ],
   "source": [
    "# 使用for循环打印\n",
    "for i in range(0,5):\n",
    "    # 利用for循环打印一行星号\n",
    "    for j in range(5):\n",
    "        # 可以通过end参数控制\n",
    "        print(\"*\", end=' ')\n",
    "    print()\n",
    "print(\"===\" * 20)\n",
    "# 简化的for循环\n",
    "for i in range(5):\n",
    "    print(\"* \" * 5)"
   ]
  },
  {
   "cell_type": "code",
   "execution_count": 19,
   "metadata": {},
   "outputs": [
    {
     "name": "stdout",
     "output_type": "stream",
     "text": [
      "* * * * * \n",
      "* * * * * \n",
      "* * * * * \n",
      "* * * * * \n",
      "* * * * * \n"
     ]
    }
   ],
   "source": [
    "# 使用运算符打印\n",
    "print(\"* \" * 5)\n",
    "print(\"* \" * 5)\n",
    "print(\"* \" * 5)\n",
    "print(\"* \" * 5)\n",
    "print(\"* \" * 5)"
   ]
  },
  {
   "cell_type": "code",
   "execution_count": 43,
   "metadata": {},
   "outputs": [
    {
     "name": "stdout",
     "output_type": "stream",
     "text": [
      "* * * * * \n",
      "*       *\n",
      "*       *\n",
      "*       *\n",
      "* * * * * \n",
      "============================================================\n",
      "* * * * * \n",
      "*       * \n",
      "*       * \n",
      "*       * \n",
      "* * * * * \n"
     ]
    }
   ],
   "source": [
    "# 简单的图形打印\n",
    "'''\n",
    "打印以下图形\n",
    "* * * * *\n",
    "*       *\n",
    "*       *\n",
    "* * * * *\n",
    "'''\n",
    "'''\n",
    "思路:\n",
    "1. 正常理由for循环控制打印行\n",
    "2. 如果第一行和最后一行,则完整打印\n",
    "3. 否则,判断打印咧,如果是第一列或者最后一列,则打印成星号,否则打印空格\n",
    "'''\n",
    "\n",
    "# 外层控制行\n",
    "for i in range(5):\n",
    "    if i == 0 or i == 4:\n",
    "        print(\"* \" * 5)\n",
    "    else:\n",
    "        print(\"*\",\" \" * 5,\"*\")\n",
    "print(\"===\" * 20)   \n",
    "# 使用多重for循环打印\n",
    "\n",
    "for i in range(5):\n",
    "    if i == 0 or i == 4:\n",
    "        print(\"* \" * 5)\n",
    "    if i == 1 or i == 2 or i == 3:\n",
    "        for j in range(5):\n",
    "            if j==0 or j==4:\n",
    "                print(\"* \", end=\"\")\n",
    "            else:\n",
    "                print(\"  \", end=\"\")\n",
    "        print(\"\")\n",
    "        "
   ]
  },
  {
   "cell_type": "code",
   "execution_count": 47,
   "metadata": {},
   "outputs": [
    {
     "name": "stdout",
     "output_type": "stream",
     "text": [
      "*\n",
      "**\n",
      "***\n",
      "****\n",
      "*****\n"
     ]
    }
   ],
   "source": [
    "# for\n",
    "#  逐次按行打印，这是基本是一样或者相似的,优先考虑循环\n",
    "for i in range(5):\n",
    "    # 打印一行\n",
    "    # 每一行打印几个星号跟行号相关\n",
    "    for j in range(i+1):\n",
    "        print(\"*\", end=\"\")\n",
    "    print(\"\")"
   ]
  },
  {
   "cell_type": "code",
   "execution_count": 54,
   "metadata": {},
   "outputs": [
    {
     "name": "stdout",
     "output_type": "stream",
     "text": [
      "* \n",
      "* * \n",
      "*   * \n",
      "*     * \n",
      "* * * * * \n"
     ]
    }
   ],
   "source": [
    "# 打印空心三角形\n",
    "'''\n",
    "*\n",
    "* *\n",
    "*   *\n",
    "*     *\n",
    "* * * * *\n",
    "'''\n",
    "\n",
    "for i in range(5):\n",
    "    # 打印一行\n",
    "    # 需要判断打印的是否是最后一行,如果是则打印全部\n",
    "    # 否则,需要判断地资格和最后一个位置如果是打印星号，否则空格\n",
    "    for j in range(i+1):\n",
    "        if i == 4:\n",
    "            print(\"* \", end=\"\")\n",
    "            continue\n",
    "        # 如果不是最后一行\n",
    "        # j控制的是列的数字\n",
    "        if j == 0 or j == i:\n",
    "            print(\"* \", end=\"\")\n",
    "        else:\n",
    "            print(\"  \", end=\"\")\n",
    "    print()"
   ]
  },
  {
   "cell_type": "code",
   "execution_count": 58,
   "metadata": {},
   "outputs": [
    {
     "name": "stdout",
     "output_type": "stream",
     "text": [
      "* * * * * \n",
      "* * * * \n",
      "* * * \n",
      "* * \n",
      "* \n"
     ]
    }
   ],
   "source": [
    "# 倒三角 i-for控制行号\n",
    "# j-for控制列号\n",
    "\n",
    "for i in range(5):\n",
    "    for j in range(5-i):\n",
    "        print(\"* \", end='')\n",
    "    print()"
   ]
  },
  {
   "cell_type": "code",
   "execution_count": 70,
   "metadata": {},
   "outputs": [
    {
     "name": "stdout",
     "output_type": "stream",
     "text": [
      "* * * * * \n",
      "*     * \n",
      "*   * \n",
      "* * \n",
      "* \n"
     ]
    }
   ],
   "source": [
    "# 打印空心倒三角\n",
    "for i in range(5):\n",
    "    for j in range(5-i):\n",
    "        if i == 0:\n",
    "            print(\"* \", end='')\n",
    "            continue\n",
    "        if j==0 or j==(5-i-1):\n",
    "            print(\"* \", end=\"\")\n",
    "        else:\n",
    "            print(\"  \", end=\"\")\n",
    "    print()\n",
    "    "
   ]
  },
  {
   "cell_type": "code",
   "execution_count": 74,
   "metadata": {},
   "outputs": [
    {
     "name": "stdout",
     "output_type": "stream",
     "text": [
      "      * \n",
      "     * * \n",
      "    * * * \n",
      "   * * * * \n",
      "  * * * * * \n",
      " * * * * * * \n"
     ]
    }
   ],
   "source": [
    "# 打印正三角形\n",
    "for i in range(6):\n",
    "    # 思路:先打印一行空格,代表每一行星星的前的空格\n",
    "    # 先不换行,打印星号\n",
    "    for j in range(6-i):\n",
    "        print(\" \", end=\"\")\n",
    "    for m in range(i+1):\n",
    "        print(\"* \", end=\"\")\n",
    "    print()"
   ]
  },
  {
   "cell_type": "code",
   "execution_count": 1,
   "metadata": {},
   "outputs": [
    {
     "name": "stdout",
     "output_type": "stream",
     "text": [
      "     * \n",
      "        \n",
      "         \n",
      "          \n",
      " * * * * * \n"
     ]
    }
   ],
   "source": [
    "# 打印空三角形\n",
    "# i控制行\n",
    "for i in range(5):\n",
    "    for j in range(5-i):\n",
    "        print(end=' ')\n",
    "    for m in range(5-j):\n",
    "        if i==4 or j==5-i or j==4:\n",
    "            print(\"* \", end=\"\")\n",
    "        else:\n",
    "            print(\"  \", end='')\n",
    "            \n",
    "    print()"
   ]
  },
  {
   "cell_type": "code",
   "execution_count": 71,
   "metadata": {},
   "outputs": [
    {
     "name": "stdout",
     "output_type": "stream",
     "text": [
      "    * \n",
      "   * * \n",
      "  *   * \n",
      " *     * \n",
      "* * * * * \n"
     ]
    }
   ],
   "source": [
    "for i in range(1,6):\n",
    "    for k in range(1,6-i):\n",
    "        print(end=\" \")\n",
    "    for j in range(6-i,6):\n",
    "        if i==5 or j==6-i or j==5:\n",
    "            print('*', end=\" \")\n",
    "        else:\n",
    "            print(' ', end=\" \")\n",
    "    print()"
   ]
  }
 ],
 "metadata": {
  "kernelspec": {
   "display_name": "Python 3",
   "language": "python",
   "name": "python3"
  },
  "language_info": {
   "codemirror_mode": {
    "name": "ipython",
    "version": 3
   },
   "file_extension": ".py",
   "mimetype": "text/x-python",
   "name": "python",
   "nbconvert_exporter": "python",
   "pygments_lexer": "ipython3",
   "version": "3.6.3"
  }
 },
 "nbformat": 4,
 "nbformat_minor": 2
}
